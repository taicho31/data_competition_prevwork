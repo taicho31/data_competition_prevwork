{
 "cells": [
  {
   "cell_type": "markdown",
   "id": "53b45faa",
   "metadata": {
    "papermill": {
     "duration": 0.004094,
     "end_time": "2025-04-03T00:10:17.996552",
     "exception": false,
     "start_time": "2025-04-03T00:10:17.992458",
     "status": "completed"
    },
    "tags": []
   },
   "source": [
    "- update common class again\n",
    "- update param tuning method *"
   ]
  },
  {
   "cell_type": "markdown",
   "id": "24c180da",
   "metadata": {
    "papermill": {
     "duration": 0.003028,
     "end_time": "2025-04-03T00:10:18.002932",
     "exception": false,
     "start_time": "2025-04-03T00:10:17.999904",
     "status": "completed"
    },
    "tags": []
   },
   "source": [
    "# common class"
   ]
  },
  {
   "cell_type": "code",
   "execution_count": 1,
   "id": "54ee35b2",
   "metadata": {
    "execution": {
     "iopub.execute_input": "2025-04-03T00:10:18.010816Z",
     "iopub.status.busy": "2025-04-03T00:10:18.010354Z",
     "iopub.status.idle": "2025-04-03T00:10:20.913253Z",
     "shell.execute_reply": "2025-04-03T00:10:20.912355Z"
    },
    "papermill": {
     "duration": 2.909305,
     "end_time": "2025-04-03T00:10:20.915340",
     "exception": false,
     "start_time": "2025-04-03T00:10:18.006035",
     "status": "completed"
    },
    "tags": []
   },
   "outputs": [
    {
     "name": "stderr",
     "output_type": "stream",
     "text": [
      "/opt/conda/lib/python3.10/site-packages/scipy/__init__.py:146: UserWarning: A NumPy version >=1.16.5 and <1.23.0 is required for this version of SciPy (detected version 1.23.5\n",
      "  warnings.warn(f\"A NumPy version >={np_minversion} and <{np_maxversion}\"\n"
     ]
    }
   ],
   "source": [
    "import sys\n",
    "import optuna\n",
    "import numpy as np\n",
    "import pandas as pd\n",
    "\n",
    "from lightgbm import LGBMClassifier, LGBMRegressor, early_stopping, log_evaluation\n",
    "from catboost import  CatBoostClassifier, CatBoostRegressor, Pool\n",
    "from xgboost import XGBRegressor, XGBClassifier, callback\n",
    "\n",
    "sys.path.append('../input/iterativestratification')\n",
    "from iterstrat.ml_stratifiers import MultilabelStratifiedKFold\n",
    "from sklearn.model_selection import StratifiedKFold, KFold\n",
    "\n",
    "from datetime import datetime\n",
    "from sklearn.decomposition import PCA"
   ]
  },
  {
   "cell_type": "code",
   "execution_count": 2,
   "id": "a7ca85af",
   "metadata": {
    "execution": {
     "iopub.execute_input": "2025-04-03T00:10:20.923867Z",
     "iopub.status.busy": "2025-04-03T00:10:20.923579Z",
     "iopub.status.idle": "2025-04-03T00:10:21.277457Z",
     "shell.execute_reply": "2025-04-03T00:10:21.276707Z"
    },
    "papermill": {
     "duration": 0.36047,
     "end_time": "2025-04-03T00:10:21.279558",
     "exception": false,
     "start_time": "2025-04-03T00:10:20.919088",
     "status": "completed"
    },
    "tags": []
   },
   "outputs": [],
   "source": [
    "import numpy as np\n",
    "import polars as pl\n",
    "\n",
    "import matplotlib.pyplot as plt\n",
    "import seaborn as sns\n",
    "\n",
    "from lightgbm import early_stopping, log_evaluation\n",
    "from catboost import Pool\n",
    "\n",
    "\n",
    "class BaseGBDTClass:\n",
    "    def __init__(self, model_class, params):\n",
    "        self.model_class = model_class\n",
    "        self.params = params\n",
    "\n",
    "    def train(self, x_tr, y_tr):\n",
    "        raise NotImplementedError(\"train method must be implemented\")\n",
    "\n",
    "    def train_with_validation(self, x_tr, y_tr, x_val, y_val):\n",
    "        raise NotImplementedError(\"train_with_validation method must be implemented\")\n",
    "\n",
    "    def predict(self, model, input_):\n",
    "        raise NotImplementedError(\"predict method must be implemented\")\n",
    "\n",
    "    def extract_importance(self, model, features, imp_col_prefix=None):\n",
    "        importance = model.feature_importances_\n",
    "        if imp_col_prefix is not None:\n",
    "            importance_col = imp_col_prefix + \"_importance\"\n",
    "        else:\n",
    "            importance_col = \"importance\"\n",
    "        importance_df = pl.DataFrame({\"feature\": features, importance_col: importance})\n",
    "        return importance_df\n",
    "\n",
    "    def check_pred_distribution_diff(self, predictions, gt, title):\n",
    "        fig, ax = plt.subplots(figsize=(8, 5))\n",
    "        sns.displot(predictions, ax=ax, label=\"prediction\")\n",
    "        sns.displot(gt, ax=ax, label=\"ground truth\")\n",
    "        ax.legend()\n",
    "        ax.grid()\n",
    "        ax.set_title(title)\n",
    "\n",
    "    def test(self, models, test):\n",
    "        test_predictions = [self.predict(model, test) for model in models]\n",
    "        test_predictions = np.mean(test_predictions, axis=0)\n",
    "        return test_predictions\n",
    "\n",
    "\n",
    "class LGBClass(BaseGBDTClass):\n",
    "    def __init__(self, cat_features=\"auto\", custom_callback=None, *args, **kwargs):\n",
    "        super().__init__(*args, **kwargs)\n",
    "        self.cat_features = cat_features\n",
    "        if custom_callback:\n",
    "            self.callbacks = custom_callback\n",
    "        else:\n",
    "            self.callbacks = [\n",
    "                early_stopping(stopping_rounds=50),\n",
    "                log_evaluation(100),\n",
    "            ]\n",
    "\n",
    "    def train(self, x_tr, y_tr):\n",
    "\n",
    "        model = self.model_class(**self.params)\n",
    "        model.fit(\n",
    "            x_tr,\n",
    "            y_tr,\n",
    "            categorical_feature=self.cat_features,\n",
    "        )\n",
    "\n",
    "        return model\n",
    "\n",
    "    def train_with_validation(self, x_tr, y_tr, x_val, y_val):\n",
    "\n",
    "        model = self.model_class(**self.params)\n",
    "        model = model.fit(\n",
    "            x_tr,\n",
    "            y_tr,\n",
    "            eval_set=[(x_val, y_val)],\n",
    "            categorical_feature=self.cat_features,\n",
    "            callbacks=self.callbacks,\n",
    "        )\n",
    "        return model\n",
    "\n",
    "    def predict(self, model, input_):\n",
    "        predictions = model.predict(input_)\n",
    "        return predictions\n",
    "\n",
    "\n",
    "class XGBClass(BaseGBDTClass):\n",
    "    def __init__(self, verbose_eval_step: int, output_prob: bool, multi_label: bool, *args, **kwargs):\n",
    "        super().__init__(*args, **kwargs)\n",
    "        self.verbose_eval_step = verbose_eval_step\n",
    "        self.output_prob = output_prob\n",
    "        self.multi_label = multi_label\n",
    "\n",
    "    def train(self, x_tr, y_tr):\n",
    "\n",
    "        model = self.model_class(**self.params)\n",
    "        model.fit(x_tr, y_tr)\n",
    "        return model\n",
    "\n",
    "    def train_with_validation(self, x_tr, y_tr, x_val, y_val):\n",
    "\n",
    "        model = self.model_class(**self.params)\n",
    "        model.fit(x_tr, y_tr, eval_set=[(x_val, y_val)], verbose=self.verbose_eval_step)\n",
    "        return model\n",
    "\n",
    "    def predict(self, model, input_):\n",
    "        if self.output_prob:\n",
    "            predictions = model.predict_proba(\n",
    "                input_, iteration_range=(0, model.best_iteration)\n",
    "            )\n",
    "            if not self.multi_label:\n",
    "                predictions = predictions[:, 1]\n",
    "        else:\n",
    "            predictions = model.predict(\n",
    "                input_, iteration_range=(0, model.best_iteration)\n",
    "            )\n",
    "        return predictions\n",
    "\n",
    "\n",
    "class CBClass(BaseGBDTClass):\n",
    "    def __init__(self, output_prob: bool, multi_label: bool, cat=None, *args, **kwargs):\n",
    "        super().__init__(*args, **kwargs)\n",
    "        self.cat = cat\n",
    "        self.multi_label = multi_label\n",
    "        self.output_prob = output_prob\n",
    "\n",
    "    def train(self, x_tr, y_tr):\n",
    "\n",
    "        train_pool = Pool(data=x_tr, label=y_tr, cat_features=self.cat)\n",
    "\n",
    "        model = self.model_class(**self.params)\n",
    "        model.fit(train_pool)\n",
    "\n",
    "        return model\n",
    "\n",
    "    def train_with_validation(self, x_tr, y_tr, x_val, y_val):\n",
    "        train_pool = Pool(data=x_tr, label=y_tr, cat_features=self.cat)\n",
    "        valid_pool = Pool(data=x_val, label=y_val, cat_features=self.cat)\n",
    "\n",
    "        model = self.model_class(**self.params)\n",
    "        model.fit(\n",
    "            train_pool,\n",
    "            eval_set=[valid_pool],\n",
    "            early_stopping_rounds=50,\n",
    "            verbose_eval=100,\n",
    "        )\n",
    "\n",
    "        return model\n",
    "\n",
    "    def predict(self, model, input_):\n",
    "        if self.output_prob:\n",
    "            predictions = model.predict_proba(input_)\n",
    "            if not self.multi_label:\n",
    "                predictions = predictions[:, 1]\n",
    "        else:\n",
    "            predictions = model.predict(input_)\n",
    "        return predictions\n",
    "\n",
    "    def extract_importance(self, model, features, imp_col_prefix=None):\n",
    "        importance = model.get_feature_importance()\n",
    "        if imp_col_prefix is not None:\n",
    "            importance_col = imp_col_prefix + \"_importance\"\n",
    "        else:\n",
    "            importance_col = \"importance\"\n",
    "        importance_df = pl.DataFrame({\"feature\": features, importance_col: importance})\n",
    "        return importance_df\n"
   ]
  },
  {
   "cell_type": "markdown",
   "id": "a78c7699",
   "metadata": {
    "papermill": {
     "duration": 0.003138,
     "end_time": "2025-04-03T00:10:21.286378",
     "exception": false,
     "start_time": "2025-04-03T00:10:21.283240",
     "status": "completed"
    },
    "tags": []
   },
   "source": [
    "# preprocess"
   ]
  },
  {
   "cell_type": "code",
   "execution_count": 3,
   "id": "67a22152",
   "metadata": {
    "execution": {
     "iopub.execute_input": "2025-04-03T00:10:21.293932Z",
     "iopub.status.busy": "2025-04-03T00:10:21.293649Z",
     "iopub.status.idle": "2025-04-03T00:10:21.492213Z",
     "shell.execute_reply": "2025-04-03T00:10:21.490638Z"
    },
    "papermill": {
     "duration": 0.206566,
     "end_time": "2025-04-03T00:10:21.496059",
     "exception": false,
     "start_time": "2025-04-03T00:10:21.289493",
     "status": "completed"
    },
    "tags": []
   },
   "outputs": [
    {
     "name": "stdout",
     "output_type": "stream",
     "text": [
      "(617, 72) (5, 72)\n"
     ]
    }
   ],
   "source": [
    "train = pd.read_csv('/kaggle/input/icr-identify-age-related-conditions/train.csv')\n",
    "test = pd.read_csv('/kaggle/input/icr-identify-age-related-conditions/test.csv')\n",
    "sample = pd.read_csv('/kaggle/input/icr-identify-age-related-conditions/sample_submission.csv')\n",
    "greeks = pd.read_csv('/kaggle/input/icr-identify-age-related-conditions/greeks.csv')\n",
    "\n",
    "\n",
    "train['EJ'] = train['EJ'].map({'A': 0, 'B': 1})\n",
    "test['EJ']  = test['EJ'].map({'A': 0, 'B': 1})\n",
    "\n",
    "# process epsilon\n",
    "train = pd.merge(train, greeks, on = \"Id\", how = \"inner\")\n",
    "train_stratify = train[[\"Class\", \"Beta\", \"Delta\", \"Gamma\"]] \n",
    "train[\"Epsilon_ordinal\"] = train[\"Epsilon\"].map(lambda x: datetime.strptime(x,'%m/%d/%Y').toordinal() if x != \"Unknown\" else np.nan)\n",
    "\n",
    "org_features = [n for n in train.columns if n not in ['Class', 'Id', 'Alpha', \"Beta\", \"Gamma\", \"Delta\", \"Epsilon\"]]\n",
    "test_times = pd.DataFrame([train.Epsilon_ordinal.max() + 1] * len(test), columns = [\"Epsilon_ordinal\"])\n",
    "final_test = pd.concat((test, test_times), axis=1)\n",
    "\n",
    "# fill missing value\n",
    "train.fillna(-999, inplace=True)\n",
    "final_test.fillna(-999, inplace=True)\n",
    "\n",
    "# add pca columns\n",
    "pca_feat_num = 15\n",
    "pca_cols = [\"pca\"+str(i+1) for i in range(pca_feat_num)]\n",
    "pca = PCA(n_components=pca_feat_num,random_state=42)\n",
    "pca_train = pca.fit_transform(train[org_features])\n",
    "pca_test = pca.transform(final_test[org_features])\n",
    "pca_train = pd.DataFrame(pca_train, columns=pca_cols)\n",
    "pca_test = pd.DataFrame(pca_test, columns=pca_cols)\n",
    "train = pd.concat([train, pca_train],axis=1)\n",
    "final_test = pd.concat([final_test, pca_test],axis=1)\n",
    "\n",
    "target = train.Class\n",
    "train = train[org_features + pca_cols]\n",
    "final_test = final_test[org_features + pca_cols]\n",
    "\n",
    "print(train.shape, final_test.shape)"
   ]
  },
  {
   "cell_type": "markdown",
   "id": "9e6b0cf8",
   "metadata": {
    "papermill": {
     "duration": 0.013151,
     "end_time": "2025-04-03T00:10:21.520091",
     "exception": false,
     "start_time": "2025-04-03T00:10:21.506940",
     "status": "completed"
    },
    "tags": []
   },
   "source": [
    "# config"
   ]
  },
  {
   "cell_type": "code",
   "execution_count": 4,
   "id": "f65e586a",
   "metadata": {
    "execution": {
     "iopub.execute_input": "2025-04-03T00:10:21.544933Z",
     "iopub.status.busy": "2025-04-03T00:10:21.544593Z",
     "iopub.status.idle": "2025-04-03T00:10:21.555108Z",
     "shell.execute_reply": "2025-04-03T00:10:21.553883Z"
    },
    "papermill": {
     "duration": 0.025592,
     "end_time": "2025-04-03T00:10:21.557098",
     "exception": false,
     "start_time": "2025-04-03T00:10:21.531506",
     "status": "completed"
    },
    "tags": []
   },
   "outputs": [],
   "source": [
    "from sklearn.metrics import log_loss\n",
    "def balanced_log_loss(y_true, y_pred):\n",
    "    nc = np.bincount(y_true)\n",
    "    return log_loss(y_true, y_pred, sample_weight = 1/nc[y_true], eps=1e-15)\n",
    "\n",
    "xgb_params = {\n",
    "            'objective': 'binary:logistic',\n",
    "            'eval_metric': 'logloss',\n",
    "            'verbosity': 0,\n",
    "            'seed': 42,\n",
    "        }\n",
    "    \n",
    "lgb_params = {\n",
    "            \"n_estimators\": 1000,\n",
    "            'objective': 'binary', \n",
    "            'metric': 'binary_logloss', \n",
    "            'boosting': 'goss',\n",
    "            'verbose': -1,\n",
    "            'seed': 42,\n",
    "            'is_unbalance': True\n",
    "} \n",
    "\n",
    "cb_params = {\n",
    "            'loss_function': 'Logloss',\n",
    "            'iterations': 1000,  \n",
    "            'random_seed': 42,\n",
    "            'use_best_model' : True\n",
    "}"
   ]
  },
  {
   "cell_type": "code",
   "execution_count": 5,
   "id": "e231ccbe",
   "metadata": {
    "execution": {
     "iopub.execute_input": "2025-04-03T00:10:21.582771Z",
     "iopub.status.busy": "2025-04-03T00:10:21.582434Z",
     "iopub.status.idle": "2025-04-03T00:10:21.607697Z",
     "shell.execute_reply": "2025-04-03T00:10:21.606770Z"
    },
    "papermill": {
     "duration": 0.039962,
     "end_time": "2025-04-03T00:10:21.609816",
     "exception": false,
     "start_time": "2025-04-03T00:10:21.569854",
     "status": "completed"
    },
    "tags": []
   },
   "outputs": [],
   "source": [
    "cv_scheme = MultilabelStratifiedKFold(5, shuffle=True, random_state=42).split(train, train_stratify)\n",
    "train_valid_idx_pairs = []\n",
    "for split, (tr_idx, val_idx) in enumerate(cv_scheme): \n",
    "    train_valid_idx_pairs.append([tr_idx, val_idx])"
   ]
  },
  {
   "cell_type": "markdown",
   "id": "ac3799b9",
   "metadata": {
    "papermill": {
     "duration": 0.003178,
     "end_time": "2025-04-03T00:10:21.616794",
     "exception": false,
     "start_time": "2025-04-03T00:10:21.613616",
     "status": "completed"
    },
    "tags": []
   },
   "source": [
    "# tree model"
   ]
  },
  {
   "cell_type": "code",
   "execution_count": 6,
   "id": "f908d3d2",
   "metadata": {
    "execution": {
     "iopub.execute_input": "2025-04-03T00:10:21.624969Z",
     "iopub.status.busy": "2025-04-03T00:10:21.624659Z",
     "iopub.status.idle": "2025-04-03T00:10:21.629308Z",
     "shell.execute_reply": "2025-04-03T00:10:21.628556Z"
    },
    "papermill": {
     "duration": 0.010665,
     "end_time": "2025-04-03T00:10:21.630752",
     "exception": false,
     "start_time": "2025-04-03T00:10:21.620087",
     "status": "completed"
    },
    "tags": []
   },
   "outputs": [],
   "source": [
    "lgb_modelling = LGBClass(model_class = LGBMClassifier, params = lgb_params)\n",
    "cb_modelling = CBClass(model_class = CatBoostClassifier, params = cb_params, output_prob = True, multi_label = False)\n",
    "xgb_modelling = XGBClass(model_class = XGBClassifier, params = xgb_params, verbose_eval_step = 50, output_prob = True, multi_label = False)"
   ]
  },
  {
   "cell_type": "markdown",
   "id": "e626f923",
   "metadata": {
    "papermill": {
     "duration": 0.003166,
     "end_time": "2025-04-03T00:10:21.637315",
     "exception": false,
     "start_time": "2025-04-03T00:10:21.634149",
     "status": "completed"
    },
    "tags": []
   },
   "source": [
    "## lgb"
   ]
  },
  {
   "cell_type": "code",
   "execution_count": 7,
   "id": "da9a375a",
   "metadata": {
    "execution": {
     "iopub.execute_input": "2025-04-03T00:10:21.645239Z",
     "iopub.status.busy": "2025-04-03T00:10:21.644931Z",
     "iopub.status.idle": "2025-04-03T00:10:23.698230Z",
     "shell.execute_reply": "2025-04-03T00:10:23.697320Z"
    },
    "papermill": {
     "duration": 2.059145,
     "end_time": "2025-04-03T00:10:23.699786",
     "exception": false,
     "start_time": "2025-04-03T00:10:21.640641",
     "status": "completed"
    },
    "tags": []
   },
   "outputs": [
    {
     "name": "stdout",
     "output_type": "stream",
     "text": [
      "[LightGBM] [Warning] boosting is set=goss, boosting_type=gbdt will be ignored. Current value: boosting=goss\n",
      "Training until validation scores don't improve for 50 rounds\n",
      "[100]\tvalid_0's binary_logloss: 0.0753021\n",
      "[200]\tvalid_0's binary_logloss: 0.0537239\n",
      "Early stopping, best iteration is:\n",
      "[198]\tvalid_0's binary_logloss: 0.0522064\n",
      "[LightGBM] [Warning] boosting is set=goss, boosting_type=gbdt will be ignored. Current value: boosting=goss\n",
      "[100]\tvalid_0's binary_logloss: 0.190418\n",
      "[200]\tvalid_0's binary_logloss: 0.196041\n",
      "Early stopping, best iteration is:\n",
      "[198]\tvalid_0's binary_logloss: 0.0522064\n",
      "[LightGBM] [Warning] boosting is set=goss, boosting_type=gbdt will be ignored. Current value: boosting=goss\n",
      "[100]\tvalid_0's binary_logloss: 0.173883\n",
      "[200]\tvalid_0's binary_logloss: 0.196299\n",
      "Early stopping, best iteration is:\n",
      "[198]\tvalid_0's binary_logloss: 0.0522064\n",
      "[LightGBM] [Warning] boosting is set=goss, boosting_type=gbdt will be ignored. Current value: boosting=goss\n",
      "[100]\tvalid_0's binary_logloss: 0.166974\n",
      "[200]\tvalid_0's binary_logloss: 0.159226\n",
      "Early stopping, best iteration is:\n",
      "[198]\tvalid_0's binary_logloss: 0.0522064\n",
      "[LightGBM] [Warning] boosting is set=goss, boosting_type=gbdt will be ignored. Current value: boosting=goss\n",
      "[100]\tvalid_0's binary_logloss: 0.15854\n",
      "[200]\tvalid_0's binary_logloss: 0.18558\n",
      "Early stopping, best iteration is:\n",
      "[198]\tvalid_0's binary_logloss: 0.0522064\n",
      "validation score:  3.261191328857667\n"
     ]
    }
   ],
   "source": [
    "models = []\n",
    "valid_output = np.zeros(len(target))\n",
    "for split, (tr_idx, val_idx) in enumerate(train_valid_idx_pairs): \n",
    "    model = lgb_modelling.train_with_validation(train.loc[tr_idx], target.loc[tr_idx],\n",
    "                                                          train.loc[val_idx], target.loc[val_idx])\n",
    "    valid_output[val_idx] = lgb_modelling.predict(model, train.loc[val_idx])\n",
    "    models.append(model)\n",
    "val_score = balanced_log_loss(target, valid_output)\n",
    "print(\"validation score: \", val_score)\n",
    "\n",
    "lgb_test_output = lgb_modelling.test(models, final_test)"
   ]
  },
  {
   "cell_type": "markdown",
   "id": "c1b08328",
   "metadata": {
    "papermill": {
     "duration": 0.003819,
     "end_time": "2025-04-03T00:10:23.707923",
     "exception": false,
     "start_time": "2025-04-03T00:10:23.704104",
     "status": "completed"
    },
    "tags": []
   },
   "source": [
    "## cb"
   ]
  },
  {
   "cell_type": "code",
   "execution_count": 8,
   "id": "dc3a76b2",
   "metadata": {
    "execution": {
     "iopub.execute_input": "2025-04-03T00:10:23.716845Z",
     "iopub.status.busy": "2025-04-03T00:10:23.716553Z",
     "iopub.status.idle": "2025-04-03T00:10:38.437559Z",
     "shell.execute_reply": "2025-04-03T00:10:38.436596Z"
    },
    "papermill": {
     "duration": 14.727633,
     "end_time": "2025-04-03T00:10:38.439358",
     "exception": false,
     "start_time": "2025-04-03T00:10:23.711725",
     "status": "completed"
    },
    "tags": []
   },
   "outputs": [
    {
     "name": "stdout",
     "output_type": "stream",
     "text": [
      "Learning rate set to 0.026623\n",
      "0:\tlearn: 0.6658456\ttest: 0.6657945\tbest: 0.6657945 (0)\ttotal: 63ms\tremaining: 1m 2s\n",
      "100:\tlearn: 0.1123480\ttest: 0.1832610\tbest: 0.1832610 (100)\ttotal: 612ms\tremaining: 5.45s\n",
      "200:\tlearn: 0.0492788\ttest: 0.1381917\tbest: 0.1381917 (200)\ttotal: 1.16s\tremaining: 4.61s\n",
      "300:\tlearn: 0.0253975\ttest: 0.1166001\tbest: 0.1166001 (300)\ttotal: 1.71s\tremaining: 3.98s\n",
      "400:\tlearn: 0.0143491\ttest: 0.1034707\tbest: 0.1034707 (400)\ttotal: 2.36s\tremaining: 3.52s\n",
      "500:\tlearn: 0.0094645\ttest: 0.0988917\tbest: 0.0988917 (500)\ttotal: 3.08s\tremaining: 3.07s\n",
      "600:\tlearn: 0.0068158\ttest: 0.0956670\tbest: 0.0952825 (577)\ttotal: 3.7s\tremaining: 2.45s\n",
      "700:\tlearn: 0.0052091\ttest: 0.0923589\tbest: 0.0923589 (700)\ttotal: 4.23s\tremaining: 1.8s\n",
      "800:\tlearn: 0.0042617\ttest: 0.0891180\tbest: 0.0891180 (800)\ttotal: 4.75s\tremaining: 1.18s\n",
      "Stopped by overfitting detector  (50 iterations wait)\n",
      "\n",
      "bestTest = 0.08903141659\n",
      "bestIteration = 803\n",
      "\n",
      "Shrink model to first 804 iterations.\n",
      "Learning rate set to 0.026623\n",
      "0:\tlearn: 0.6639685\ttest: 0.6675938\tbest: 0.6675938 (0)\ttotal: 8.83ms\tremaining: 8.82s\n",
      "100:\tlearn: 0.0966009\ttest: 0.2232625\tbest: 0.2232625 (100)\ttotal: 561ms\tremaining: 4.99s\n",
      "200:\tlearn: 0.0400339\ttest: 0.1963458\tbest: 0.1962260 (199)\ttotal: 1.12s\tremaining: 4.44s\n",
      "300:\tlearn: 0.0203409\ttest: 0.1821292\tbest: 0.1820633 (296)\ttotal: 1.68s\tremaining: 3.91s\n",
      "400:\tlearn: 0.0121352\ttest: 0.1778289\tbest: 0.1777488 (399)\ttotal: 2.23s\tremaining: 3.33s\n",
      "Stopped by overfitting detector  (50 iterations wait)\n",
      "\n",
      "bestTest = 0.1777037715\n",
      "bestIteration = 422\n",
      "\n",
      "Shrink model to first 423 iterations.\n",
      "Learning rate set to 0.02661\n",
      "0:\tlearn: 0.6732626\ttest: 0.6767785\tbest: 0.6767785 (0)\ttotal: 7.05ms\tremaining: 7.04s\n",
      "100:\tlearn: 0.1004395\ttest: 0.2277886\tbest: 0.2277886 (100)\ttotal: 556ms\tremaining: 4.95s\n",
      "200:\tlearn: 0.0410985\ttest: 0.1978980\tbest: 0.1978980 (200)\ttotal: 1.1s\tremaining: 4.38s\n",
      "300:\tlearn: 0.0209257\ttest: 0.1840968\tbest: 0.1836870 (293)\ttotal: 1.66s\tremaining: 3.85s\n",
      "400:\tlearn: 0.0112593\ttest: 0.1818971\tbest: 0.1808583 (382)\ttotal: 2.22s\tremaining: 3.32s\n",
      "Stopped by overfitting detector  (50 iterations wait)\n",
      "\n",
      "bestTest = 0.1808583496\n",
      "bestIteration = 382\n",
      "\n",
      "Shrink model to first 383 iterations.\n",
      "Learning rate set to 0.026623\n",
      "0:\tlearn: 0.6647664\ttest: 0.6672171\tbest: 0.6672171 (0)\ttotal: 6.65ms\tremaining: 6.64s\n",
      "100:\tlearn: 0.1064686\ttest: 0.2057343\tbest: 0.2057343 (100)\ttotal: 558ms\tremaining: 4.97s\n",
      "200:\tlearn: 0.0453790\ttest: 0.1700236\tbest: 0.1700236 (200)\ttotal: 1.11s\tremaining: 4.42s\n",
      "300:\tlearn: 0.0233442\ttest: 0.1547804\tbest: 0.1544352 (298)\ttotal: 1.65s\tremaining: 3.84s\n",
      "400:\tlearn: 0.0140283\ttest: 0.1497491\tbest: 0.1494520 (374)\ttotal: 2.19s\tremaining: 3.27s\n",
      "Stopped by overfitting detector  (50 iterations wait)\n",
      "\n",
      "bestTest = 0.1494519523\n",
      "bestIteration = 374\n",
      "\n",
      "Shrink model to first 375 iterations.\n",
      "Learning rate set to 0.02661\n",
      "0:\tlearn: 0.6649654\ttest: 0.6644447\tbest: 0.6644447 (0)\ttotal: 6.34ms\tremaining: 6.33s\n",
      "100:\tlearn: 0.1076124\ttest: 0.2287639\tbest: 0.2283431 (98)\ttotal: 600ms\tremaining: 5.34s\n",
      "200:\tlearn: 0.0446048\ttest: 0.1988272\tbest: 0.1985434 (199)\ttotal: 1.16s\tremaining: 4.63s\n",
      "300:\tlearn: 0.0218487\ttest: 0.1931048\tbest: 0.1908997 (267)\ttotal: 1.71s\tremaining: 3.98s\n",
      "Stopped by overfitting detector  (50 iterations wait)\n",
      "\n",
      "bestTest = 0.1908997058\n",
      "bestIteration = 267\n",
      "\n",
      "Shrink model to first 268 iterations.\n",
      "validation score:  0.3645940857907282\n"
     ]
    }
   ],
   "source": [
    "models = []\n",
    "valid_output = np.zeros(len(target))\n",
    "for split, (tr_idx, val_idx) in enumerate(train_valid_idx_pairs): \n",
    "    model = cb_modelling.train_with_validation(train.loc[tr_idx], target.loc[tr_idx],\n",
    "                                                    train.loc[val_idx], target.loc[val_idx])\n",
    "    valid_output[val_idx] = cb_modelling.predict(model, train.loc[val_idx])\n",
    "    models.append(model)\n",
    "val_score = balanced_log_loss(target, valid_output)\n",
    "print(\"validation score: \", val_score)\n",
    "cb_test_output = cb_modelling.test(models, final_test)"
   ]
  },
  {
   "cell_type": "markdown",
   "id": "4863aa8a",
   "metadata": {
    "papermill": {
     "duration": 0.004814,
     "end_time": "2025-04-03T00:10:38.449601",
     "exception": false,
     "start_time": "2025-04-03T00:10:38.444787",
     "status": "completed"
    },
    "tags": []
   },
   "source": [
    "# xgb"
   ]
  },
  {
   "cell_type": "code",
   "execution_count": 9,
   "id": "6d99b042",
   "metadata": {
    "execution": {
     "iopub.execute_input": "2025-04-03T00:10:38.460739Z",
     "iopub.status.busy": "2025-04-03T00:10:38.460430Z",
     "iopub.status.idle": "2025-04-03T00:10:39.567352Z",
     "shell.execute_reply": "2025-04-03T00:10:39.566204Z"
    },
    "papermill": {
     "duration": 1.115105,
     "end_time": "2025-04-03T00:10:39.569523",
     "exception": false,
     "start_time": "2025-04-03T00:10:38.454418",
     "status": "completed"
    },
    "tags": []
   },
   "outputs": [
    {
     "name": "stdout",
     "output_type": "stream",
     "text": [
      "[0]\tvalidation_0-logloss:0.50062\n",
      "[50]\tvalidation_0-logloss:0.08244\n",
      "[99]\tvalidation_0-logloss:0.07952\n",
      "[0]\tvalidation_0-logloss:0.52655\n",
      "[50]\tvalidation_0-logloss:0.15118\n",
      "[99]\tvalidation_0-logloss:0.15183\n",
      "[0]\tvalidation_0-logloss:0.50637\n",
      "[50]\tvalidation_0-logloss:0.16298\n",
      "[99]\tvalidation_0-logloss:0.16329\n",
      "[0]\tvalidation_0-logloss:0.52571\n",
      "[50]\tvalidation_0-logloss:0.15877\n",
      "[99]\tvalidation_0-logloss:0.15716\n",
      "[0]\tvalidation_0-logloss:0.52212\n",
      "[50]\tvalidation_0-logloss:0.20782\n",
      "[99]\tvalidation_0-logloss:0.21162\n",
      "validation score:  0.3381245344172203\n"
     ]
    }
   ],
   "source": [
    "models = []\n",
    "valid_output = np.zeros(len(target))\n",
    "for split, (tr_idx, val_idx) in enumerate(train_valid_idx_pairs): \n",
    "    model = xgb_modelling.train_with_validation(train.loc[tr_idx], target.loc[tr_idx],\n",
    "                                                        train.loc[val_idx], target.loc[val_idx])\n",
    "    valid_output[val_idx] = xgb_modelling.predict(model, train.loc[val_idx])\n",
    "    models.append(model)\n",
    "val_score = balanced_log_loss(target, valid_output)\n",
    "print(\"validation score: \", val_score)\n",
    "xgb_test_output = xgb_modelling.test(models, final_test)"
   ]
  },
  {
   "cell_type": "markdown",
   "id": "b30f6184",
   "metadata": {
    "papermill": {
     "duration": 0.005051,
     "end_time": "2025-04-03T00:10:39.580481",
     "exception": false,
     "start_time": "2025-04-03T00:10:39.575430",
     "status": "completed"
    },
    "tags": []
   },
   "source": [
    "# tuning"
   ]
  },
  {
   "cell_type": "code",
   "execution_count": 10,
   "id": "aa1d439c",
   "metadata": {
    "execution": {
     "iopub.execute_input": "2025-04-03T00:10:39.592135Z",
     "iopub.status.busy": "2025-04-03T00:10:39.591867Z",
     "iopub.status.idle": "2025-04-03T00:10:39.596385Z",
     "shell.execute_reply": "2025-04-03T00:10:39.595653Z"
    },
    "papermill": {
     "duration": 0.012219,
     "end_time": "2025-04-03T00:10:39.597796",
     "exception": false,
     "start_time": "2025-04-03T00:10:39.585577",
     "status": "completed"
    },
    "tags": []
   },
   "outputs": [],
   "source": [
    "def param_tuning(objective, trial_num = 5, option = \"minimize\"):\n",
    "                        \n",
    "    study = optuna.create_study(direction=option) \n",
    "    study.optimize(objective, n_trials=trial_num)\n",
    "    trial = study.best_trial\n",
    "    best_parameters = trial.params\n",
    "    best_value = trial.value\n",
    "    print('Value: ', best_value)\n",
    "    print('best_parameters: ', best_parameters)\n",
    "\n",
    "    optuna.visualization.plot_param_importances(study).show()\n",
    "\n",
    "    return best_parameters, best_value"
   ]
  },
  {
   "cell_type": "code",
   "execution_count": 11,
   "id": "10d91b7b",
   "metadata": {
    "execution": {
     "iopub.execute_input": "2025-04-03T00:10:39.610335Z",
     "iopub.status.busy": "2025-04-03T00:10:39.610028Z",
     "iopub.status.idle": "2025-04-03T00:10:54.361459Z",
     "shell.execute_reply": "2025-04-03T00:10:54.360564Z"
    },
    "papermill": {
     "duration": 14.759593,
     "end_time": "2025-04-03T00:10:54.363171",
     "exception": false,
     "start_time": "2025-04-03T00:10:39.603578",
     "status": "completed"
    },
    "tags": []
   },
   "outputs": [
    {
     "name": "stderr",
     "output_type": "stream",
     "text": [
      "\u001b[32m[I 2025-04-03 00:10:39,613]\u001b[0m A new study created in memory with name: no-name-72c9bc96-8a06-4776-b61c-c325554ae943\u001b[0m\n"
     ]
    },
    {
     "name": "stdout",
     "output_type": "stream",
     "text": [
      "[LightGBM] [Warning] boosting is set=goss, boosting_type=gbdt will be ignored. Current value: boosting=goss\n",
      "[LightGBM] [Warning] feature_fraction is set=0.8390209808447286, colsample_bytree=1.0 will be ignored. Current value: feature_fraction=0.8390209808447286\n",
      "Training until validation scores don't improve for 50 rounds\n",
      "[100]\tvalid_0's binary_logloss: 0.0791658\n",
      "[200]\tvalid_0's binary_logloss: 0.0521942\n",
      "[300]\tvalid_0's binary_logloss: 0.052448\n",
      "[400]\tvalid_0's binary_logloss: 0.048403\n",
      "Early stopping, best iteration is:\n",
      "[370]\tvalid_0's binary_logloss: 0.0457814\n",
      "[LightGBM] [Warning] boosting is set=goss, boosting_type=gbdt will be ignored. Current value: boosting=goss\n",
      "[LightGBM] [Warning] feature_fraction is set=0.8390209808447286, colsample_bytree=1.0 will be ignored. Current value: feature_fraction=0.8390209808447286\n",
      "[100]\tvalid_0's binary_logloss: 0.184643\n",
      "[200]\tvalid_0's binary_logloss: 0.182337\n",
      "[300]\tvalid_0's binary_logloss: 0.199001\n",
      "[400]\tvalid_0's binary_logloss: 0.235876\n",
      "Early stopping, best iteration is:\n",
      "[370]\tvalid_0's binary_logloss: 0.0457814\n",
      "[LightGBM] [Warning] boosting is set=goss, boosting_type=gbdt will be ignored. Current value: boosting=goss\n",
      "[LightGBM] [Warning] feature_fraction is set=0.8390209808447286, colsample_bytree=1.0 will be ignored. Current value: feature_fraction=0.8390209808447286\n",
      "[100]\tvalid_0's binary_logloss: 0.166857\n",
      "[200]\tvalid_0's binary_logloss: 0.172453\n",
      "[300]\tvalid_0's binary_logloss: 0.183974\n",
      "[400]\tvalid_0's binary_logloss: 0.199947\n",
      "Early stopping, best iteration is:\n",
      "[370]\tvalid_0's binary_logloss: 0.0457814\n",
      "[LightGBM] [Warning] boosting is set=goss, boosting_type=gbdt will be ignored. Current value: boosting=goss\n",
      "[LightGBM] [Warning] feature_fraction is set=0.8390209808447286, colsample_bytree=1.0 will be ignored. Current value: feature_fraction=0.8390209808447286\n",
      "[100]\tvalid_0's binary_logloss: 0.163416\n",
      "[200]\tvalid_0's binary_logloss: 0.1544\n",
      "[300]\tvalid_0's binary_logloss: 0.167625\n",
      "[400]\tvalid_0's binary_logloss: 0.177097\n",
      "Early stopping, best iteration is:\n",
      "[370]\tvalid_0's binary_logloss: 0.0457814\n",
      "[LightGBM] [Warning] boosting is set=goss, boosting_type=gbdt will be ignored. Current value: boosting=goss\n",
      "[LightGBM] [Warning] feature_fraction is set=0.8390209808447286, colsample_bytree=1.0 will be ignored. Current value: feature_fraction=0.8390209808447286\n",
      "[100]\tvalid_0's binary_logloss: 0.165539\n",
      "[200]\tvalid_0's binary_logloss: 0.175578\n"
     ]
    },
    {
     "name": "stderr",
     "output_type": "stream",
     "text": [
      "\u001b[32m[I 2025-04-03 00:10:42,780]\u001b[0m Trial 0 finished with value: 2.9995030165666097 and parameters: {'num_leaves': 13, 'feature_fraction': 0.8390209808447286}. Best is trial 0 with value: 2.9995030165666097.\u001b[0m\n"
     ]
    },
    {
     "name": "stdout",
     "output_type": "stream",
     "text": [
      "[300]\tvalid_0's binary_logloss: 0.215584\n",
      "[400]\tvalid_0's binary_logloss: 0.271553\n",
      "Early stopping, best iteration is:\n",
      "[370]\tvalid_0's binary_logloss: 0.0457814\n",
      "[LightGBM] [Warning] boosting is set=goss, boosting_type=gbdt will be ignored. Current value: boosting=goss\n",
      "[LightGBM] [Warning] feature_fraction is set=0.6657267624202725, colsample_bytree=1.0 will be ignored. Current value: feature_fraction=0.6657267624202725\n",
      "Training until validation scores don't improve for 50 rounds\n",
      "[100]\tvalid_0's binary_logloss: 0.079783\n",
      "[200]\tvalid_0's binary_logloss: 0.048642\n",
      "[300]\tvalid_0's binary_logloss: 0.036067\n",
      "[400]\tvalid_0's binary_logloss: 0.0344897\n",
      "Early stopping, best iteration is:\n",
      "[369]\tvalid_0's binary_logloss: 0.0299517\n",
      "[LightGBM] [Warning] boosting is set=goss, boosting_type=gbdt will be ignored. Current value: boosting=goss\n",
      "[LightGBM] [Warning] feature_fraction is set=0.6657267624202725, colsample_bytree=1.0 will be ignored. Current value: feature_fraction=0.6657267624202725\n",
      "[100]\tvalid_0's binary_logloss: 0.186169\n",
      "[200]\tvalid_0's binary_logloss: 0.193426\n",
      "[300]\tvalid_0's binary_logloss: 0.232142\n",
      "[400]\tvalid_0's binary_logloss: 0.256831\n",
      "Early stopping, best iteration is:\n",
      "[369]\tvalid_0's binary_logloss: 0.0299517\n",
      "[LightGBM] [Warning] boosting is set=goss, boosting_type=gbdt will be ignored. Current value: boosting=goss\n",
      "[LightGBM] [Warning] feature_fraction is set=0.6657267624202725, colsample_bytree=1.0 will be ignored. Current value: feature_fraction=0.6657267624202725\n",
      "[100]\tvalid_0's binary_logloss: 0.165181\n",
      "[200]\tvalid_0's binary_logloss: 0.169366\n",
      "[300]\tvalid_0's binary_logloss: 0.186601\n",
      "[400]\tvalid_0's binary_logloss: 0.215216\n",
      "Early stopping, best iteration is:\n",
      "[369]\tvalid_0's binary_logloss: 0.0299517\n",
      "[LightGBM] [Warning] boosting is set=goss, boosting_type=gbdt will be ignored. Current value: boosting=goss\n",
      "[LightGBM] [Warning] feature_fraction is set=0.6657267624202725, colsample_bytree=1.0 will be ignored. Current value: feature_fraction=0.6657267624202725\n",
      "[100]\tvalid_0's binary_logloss: 0.157608\n",
      "[200]\tvalid_0's binary_logloss: 0.153983\n",
      "[300]\tvalid_0's binary_logloss: 0.162478\n",
      "[400]\tvalid_0's binary_logloss: 0.190772\n",
      "Early stopping, best iteration is:\n",
      "[369]\tvalid_0's binary_logloss: 0.0299517\n",
      "[LightGBM] [Warning] boosting is set=goss, boosting_type=gbdt will be ignored. Current value: boosting=goss\n",
      "[LightGBM] [Warning] feature_fraction is set=0.6657267624202725, colsample_bytree=1.0 will be ignored. Current value: feature_fraction=0.6657267624202725\n",
      "[100]\tvalid_0's binary_logloss: 0.155016\n",
      "[200]\tvalid_0's binary_logloss: 0.187109\n"
     ]
    },
    {
     "name": "stderr",
     "output_type": "stream",
     "text": [
      "\u001b[32m[I 2025-04-03 00:10:45,811]\u001b[0m Trial 1 finished with value: 3.0092455568676226 and parameters: {'num_leaves': 23, 'feature_fraction': 0.6657267624202725}. Best is trial 0 with value: 2.9995030165666097.\u001b[0m\n"
     ]
    },
    {
     "name": "stdout",
     "output_type": "stream",
     "text": [
      "[300]\tvalid_0's binary_logloss: 0.213391\n",
      "[400]\tvalid_0's binary_logloss: 0.25493\n",
      "Early stopping, best iteration is:\n",
      "[369]\tvalid_0's binary_logloss: 0.0299517\n",
      "[LightGBM] [Warning] boosting is set=goss, boosting_type=gbdt will be ignored. Current value: boosting=goss\n",
      "[LightGBM] [Warning] feature_fraction is set=0.7678484602013245, colsample_bytree=1.0 will be ignored. Current value: feature_fraction=0.7678484602013245\n",
      "Training until validation scores don't improve for 50 rounds\n",
      "[100]\tvalid_0's binary_logloss: 0.0721961\n",
      "[200]\tvalid_0's binary_logloss: 0.0536599\n",
      "[300]\tvalid_0's binary_logloss: 0.044654\n",
      "Early stopping, best iteration is:\n",
      "[289]\tvalid_0's binary_logloss: 0.0441863\n",
      "[LightGBM] [Warning] boosting is set=goss, boosting_type=gbdt will be ignored. Current value: boosting=goss\n",
      "[LightGBM] [Warning] feature_fraction is set=0.7678484602013245, colsample_bytree=1.0 will be ignored. Current value: feature_fraction=0.7678484602013245\n",
      "[100]\tvalid_0's binary_logloss: 0.195307\n",
      "[200]\tvalid_0's binary_logloss: 0.196939\n",
      "[300]\tvalid_0's binary_logloss: 0.19942\n",
      "Early stopping, best iteration is:\n",
      "[289]\tvalid_0's binary_logloss: 0.0441863\n",
      "[LightGBM] [Warning] boosting is set=goss, boosting_type=gbdt will be ignored. Current value: boosting=goss\n",
      "[LightGBM] [Warning] feature_fraction is set=0.7678484602013245, colsample_bytree=1.0 will be ignored. Current value: feature_fraction=0.7678484602013245\n",
      "[100]\tvalid_0's binary_logloss: 0.172018\n",
      "[200]\tvalid_0's binary_logloss: 0.177167\n",
      "[300]\tvalid_0's binary_logloss: 0.19263\n",
      "Early stopping, best iteration is:\n",
      "[289]\tvalid_0's binary_logloss: 0.0441863\n",
      "[LightGBM] [Warning] boosting is set=goss, boosting_type=gbdt will be ignored. Current value: boosting=goss\n",
      "[LightGBM] [Warning] feature_fraction is set=0.7678484602013245, colsample_bytree=1.0 will be ignored. Current value: feature_fraction=0.7678484602013245\n",
      "[100]\tvalid_0's binary_logloss: 0.169796\n",
      "[200]\tvalid_0's binary_logloss: 0.161911\n",
      "[300]\tvalid_0's binary_logloss: 0.153426\n",
      "Early stopping, best iteration is:\n",
      "[289]\tvalid_0's binary_logloss: 0.0441863\n",
      "[LightGBM] [Warning] boosting is set=goss, boosting_type=gbdt will be ignored. Current value: boosting=goss\n",
      "[LightGBM] [Warning] feature_fraction is set=0.7678484602013245, colsample_bytree=1.0 will be ignored. Current value: feature_fraction=0.7678484602013245\n",
      "[100]\tvalid_0's binary_logloss: 0.178485\n",
      "[200]\tvalid_0's binary_logloss: 0.194905\n"
     ]
    },
    {
     "name": "stderr",
     "output_type": "stream",
     "text": [
      "\u001b[32m[I 2025-04-03 00:10:48,475]\u001b[0m Trial 2 finished with value: 3.135218442862645 and parameters: {'num_leaves': 34, 'feature_fraction': 0.7678484602013245}. Best is trial 0 with value: 2.9995030165666097.\u001b[0m\n"
     ]
    },
    {
     "name": "stdout",
     "output_type": "stream",
     "text": [
      "[300]\tvalid_0's binary_logloss: 0.255231\n",
      "Early stopping, best iteration is:\n",
      "[289]\tvalid_0's binary_logloss: 0.0441863\n",
      "[LightGBM] [Warning] boosting is set=goss, boosting_type=gbdt will be ignored. Current value: boosting=goss\n",
      "[LightGBM] [Warning] feature_fraction is set=0.67948681787784, colsample_bytree=1.0 will be ignored. Current value: feature_fraction=0.67948681787784\n",
      "Training until validation scores don't improve for 50 rounds\n",
      "[100]\tvalid_0's binary_logloss: 0.0755702\n",
      "[200]\tvalid_0's binary_logloss: 0.041365\n",
      "[300]\tvalid_0's binary_logloss: 0.0338216\n",
      "Early stopping, best iteration is:\n",
      "[293]\tvalid_0's binary_logloss: 0.0321089\n",
      "[LightGBM] [Warning] boosting is set=goss, boosting_type=gbdt will be ignored. Current value: boosting=goss\n",
      "[LightGBM] [Warning] feature_fraction is set=0.67948681787784, colsample_bytree=1.0 will be ignored. Current value: feature_fraction=0.67948681787784\n",
      "[100]\tvalid_0's binary_logloss: 0.194947\n",
      "[200]\tvalid_0's binary_logloss: 0.175611\n",
      "[300]\tvalid_0's binary_logloss: 0.195895\n",
      "Early stopping, best iteration is:\n",
      "[293]\tvalid_0's binary_logloss: 0.0321089\n",
      "[LightGBM] [Warning] boosting is set=goss, boosting_type=gbdt will be ignored. Current value: boosting=goss\n",
      "[LightGBM] [Warning] feature_fraction is set=0.67948681787784, colsample_bytree=1.0 will be ignored. Current value: feature_fraction=0.67948681787784\n",
      "[100]\tvalid_0's binary_logloss: 0.182183\n",
      "[200]\tvalid_0's binary_logloss: 0.165452\n",
      "[300]\tvalid_0's binary_logloss: 0.173672\n",
      "Early stopping, best iteration is:\n",
      "[293]\tvalid_0's binary_logloss: 0.0321089\n",
      "[LightGBM] [Warning] boosting is set=goss, boosting_type=gbdt will be ignored. Current value: boosting=goss\n",
      "[LightGBM] [Warning] feature_fraction is set=0.67948681787784, colsample_bytree=1.0 will be ignored. Current value: feature_fraction=0.67948681787784\n",
      "[100]\tvalid_0's binary_logloss: 0.148121\n",
      "[200]\tvalid_0's binary_logloss: 0.144857\n",
      "[300]\tvalid_0's binary_logloss: 0.162425\n",
      "Early stopping, best iteration is:\n",
      "[293]\tvalid_0's binary_logloss: 0.0321089\n",
      "[LightGBM] [Warning] boosting is set=goss, boosting_type=gbdt will be ignored. Current value: boosting=goss\n",
      "[LightGBM] [Warning] feature_fraction is set=0.67948681787784, colsample_bytree=1.0 will be ignored. Current value: feature_fraction=0.67948681787784\n",
      "[100]\tvalid_0's binary_logloss: 0.161386\n",
      "[200]\tvalid_0's binary_logloss: 0.179144\n"
     ]
    },
    {
     "name": "stderr",
     "output_type": "stream",
     "text": [
      "\u001b[32m[I 2025-04-03 00:10:51,210]\u001b[0m Trial 3 finished with value: 3.1594047591356405 and parameters: {'num_leaves': 30, 'feature_fraction': 0.67948681787784}. Best is trial 0 with value: 2.9995030165666097.\u001b[0m\n"
     ]
    },
    {
     "name": "stdout",
     "output_type": "stream",
     "text": [
      "[300]\tvalid_0's binary_logloss: 0.205316\n",
      "Early stopping, best iteration is:\n",
      "[293]\tvalid_0's binary_logloss: 0.0321089\n",
      "[LightGBM] [Warning] boosting is set=goss, boosting_type=gbdt will be ignored. Current value: boosting=goss\n",
      "[LightGBM] [Warning] feature_fraction is set=0.9447897560867842, colsample_bytree=1.0 will be ignored. Current value: feature_fraction=0.9447897560867842\n",
      "Training until validation scores don't improve for 50 rounds\n",
      "[100]\tvalid_0's binary_logloss: 0.073851\n",
      "[200]\tvalid_0's binary_logloss: 0.0472328\n",
      "[300]\tvalid_0's binary_logloss: 0.0406845\n",
      "Early stopping, best iteration is:\n",
      "[263]\tvalid_0's binary_logloss: 0.0367877\n",
      "[LightGBM] [Warning] boosting is set=goss, boosting_type=gbdt will be ignored. Current value: boosting=goss\n",
      "[LightGBM] [Warning] feature_fraction is set=0.9447897560867842, colsample_bytree=1.0 will be ignored. Current value: feature_fraction=0.9447897560867842\n",
      "[100]\tvalid_0's binary_logloss: 0.183165\n",
      "[200]\tvalid_0's binary_logloss: 0.19847\n",
      "[300]\tvalid_0's binary_logloss: 0.224181\n",
      "Early stopping, best iteration is:\n",
      "[263]\tvalid_0's binary_logloss: 0.0367877\n",
      "[LightGBM] [Warning] boosting is set=goss, boosting_type=gbdt will be ignored. Current value: boosting=goss\n",
      "[LightGBM] [Warning] feature_fraction is set=0.9447897560867842, colsample_bytree=1.0 will be ignored. Current value: feature_fraction=0.9447897560867842\n",
      "[100]\tvalid_0's binary_logloss: 0.170899\n",
      "[200]\tvalid_0's binary_logloss: 0.166398\n",
      "[300]\tvalid_0's binary_logloss: 0.198501\n",
      "Early stopping, best iteration is:\n",
      "[263]\tvalid_0's binary_logloss: 0.0367877\n",
      "[LightGBM] [Warning] boosting is set=goss, boosting_type=gbdt will be ignored. Current value: boosting=goss\n",
      "[LightGBM] [Warning] feature_fraction is set=0.9447897560867842, colsample_bytree=1.0 will be ignored. Current value: feature_fraction=0.9447897560867842\n",
      "[100]\tvalid_0's binary_logloss: 0.157771\n",
      "[200]\tvalid_0's binary_logloss: 0.14255\n",
      "[300]\tvalid_0's binary_logloss: 0.155119\n",
      "Early stopping, best iteration is:\n",
      "[263]\tvalid_0's binary_logloss: 0.0367877\n",
      "[LightGBM] [Warning] boosting is set=goss, boosting_type=gbdt will be ignored. Current value: boosting=goss\n",
      "[LightGBM] [Warning] feature_fraction is set=0.9447897560867842, colsample_bytree=1.0 will be ignored. Current value: feature_fraction=0.9447897560867842\n",
      "[100]\tvalid_0's binary_logloss: 0.160402\n",
      "[200]\tvalid_0's binary_logloss: 0.179191\n"
     ]
    },
    {
     "name": "stderr",
     "output_type": "stream",
     "text": [
      "\u001b[32m[I 2025-04-03 00:10:53,745]\u001b[0m Trial 4 finished with value: 3.0092455568676226 and parameters: {'num_leaves': 49, 'feature_fraction': 0.9447897560867842}. Best is trial 0 with value: 2.9995030165666097.\u001b[0m\n"
     ]
    },
    {
     "name": "stdout",
     "output_type": "stream",
     "text": [
      "[300]\tvalid_0's binary_logloss: 0.204401\n",
      "Early stopping, best iteration is:\n",
      "[263]\tvalid_0's binary_logloss: 0.0367877\n",
      "Value:  2.9995030165666097\n",
      "best_parameters:  {'num_leaves': 13, 'feature_fraction': 0.8390209808447286}\n"
     ]
    },
    {
     "data": {
      "text/html": [
       "        <script type=\"text/javascript\">\n",
       "        window.PlotlyConfig = {MathJaxConfig: 'local'};\n",
       "        if (window.MathJax && window.MathJax.Hub && window.MathJax.Hub.Config) {window.MathJax.Hub.Config({SVG: {font: \"STIX-Web\"}});}\n",
       "        if (typeof require !== 'undefined') {\n",
       "        require.undef(\"plotly\");\n",
       "        requirejs.config({\n",
       "            paths: {\n",
       "                'plotly': ['https://cdn.plot.ly/plotly-2.20.0.min']\n",
       "            }\n",
       "        });\n",
       "        require(['plotly'], function(Plotly) {\n",
       "            window._Plotly = Plotly;\n",
       "        });\n",
       "        }\n",
       "        </script>\n",
       "        "
      ]
     },
     "metadata": {},
     "output_type": "display_data"
    },
    {
     "data": {
      "text/html": [
       "<div>                            <div id=\"0527af3e-47e2-425f-bb1c-3cd047696c3c\" class=\"plotly-graph-div\" style=\"height:525px; width:100%;\"></div>            <script type=\"text/javascript\">                require([\"plotly\"], function(Plotly) {                    window.PLOTLYENV=window.PLOTLYENV || {};                                    if (document.getElementById(\"0527af3e-47e2-425f-bb1c-3cd047696c3c\")) {                    Plotly.newPlot(                        \"0527af3e-47e2-425f-bb1c-3cd047696c3c\",                        [{\"cliponaxis\":false,\"hovertemplate\":[\"feature_fraction (FloatDistribution): 0.48768839447837675<extra></extra>\",\"num_leaves (IntDistribution): 0.5123116055216232<extra></extra>\"],\"marker\":{\"color\":\"rgb(66,146,198)\"},\"orientation\":\"h\",\"text\":[\"0.49\",\"0.51\"],\"textposition\":\"outside\",\"x\":[0.48768839447837675,0.5123116055216232],\"y\":[\"feature_fraction\",\"num_leaves\"],\"type\":\"bar\"}],                        {\"showlegend\":false,\"title\":{\"text\":\"Hyperparameter Importances\"},\"xaxis\":{\"title\":{\"text\":\"Importance for Objective Value\"}},\"yaxis\":{\"title\":{\"text\":\"Hyperparameter\"}},\"template\":{\"data\":{\"histogram2dcontour\":[{\"type\":\"histogram2dcontour\",\"colorbar\":{\"outlinewidth\":0,\"ticks\":\"\"},\"colorscale\":[[0.0,\"#0d0887\"],[0.1111111111111111,\"#46039f\"],[0.2222222222222222,\"#7201a8\"],[0.3333333333333333,\"#9c179e\"],[0.4444444444444444,\"#bd3786\"],[0.5555555555555556,\"#d8576b\"],[0.6666666666666666,\"#ed7953\"],[0.7777777777777778,\"#fb9f3a\"],[0.8888888888888888,\"#fdca26\"],[1.0,\"#f0f921\"]]}],\"choropleth\":[{\"type\":\"choropleth\",\"colorbar\":{\"outlinewidth\":0,\"ticks\":\"\"}}],\"histogram2d\":[{\"type\":\"histogram2d\",\"colorbar\":{\"outlinewidth\":0,\"ticks\":\"\"},\"colorscale\":[[0.0,\"#0d0887\"],[0.1111111111111111,\"#46039f\"],[0.2222222222222222,\"#7201a8\"],[0.3333333333333333,\"#9c179e\"],[0.4444444444444444,\"#bd3786\"],[0.5555555555555556,\"#d8576b\"],[0.6666666666666666,\"#ed7953\"],[0.7777777777777778,\"#fb9f3a\"],[0.8888888888888888,\"#fdca26\"],[1.0,\"#f0f921\"]]}],\"heatmap\":[{\"type\":\"heatmap\",\"colorbar\":{\"outlinewidth\":0,\"ticks\":\"\"},\"colorscale\":[[0.0,\"#0d0887\"],[0.1111111111111111,\"#46039f\"],[0.2222222222222222,\"#7201a8\"],[0.3333333333333333,\"#9c179e\"],[0.4444444444444444,\"#bd3786\"],[0.5555555555555556,\"#d8576b\"],[0.6666666666666666,\"#ed7953\"],[0.7777777777777778,\"#fb9f3a\"],[0.8888888888888888,\"#fdca26\"],[1.0,\"#f0f921\"]]}],\"heatmapgl\":[{\"type\":\"heatmapgl\",\"colorbar\":{\"outlinewidth\":0,\"ticks\":\"\"},\"colorscale\":[[0.0,\"#0d0887\"],[0.1111111111111111,\"#46039f\"],[0.2222222222222222,\"#7201a8\"],[0.3333333333333333,\"#9c179e\"],[0.4444444444444444,\"#bd3786\"],[0.5555555555555556,\"#d8576b\"],[0.6666666666666666,\"#ed7953\"],[0.7777777777777778,\"#fb9f3a\"],[0.8888888888888888,\"#fdca26\"],[1.0,\"#f0f921\"]]}],\"contourcarpet\":[{\"type\":\"contourcarpet\",\"colorbar\":{\"outlinewidth\":0,\"ticks\":\"\"}}],\"contour\":[{\"type\":\"contour\",\"colorbar\":{\"outlinewidth\":0,\"ticks\":\"\"},\"colorscale\":[[0.0,\"#0d0887\"],[0.1111111111111111,\"#46039f\"],[0.2222222222222222,\"#7201a8\"],[0.3333333333333333,\"#9c179e\"],[0.4444444444444444,\"#bd3786\"],[0.5555555555555556,\"#d8576b\"],[0.6666666666666666,\"#ed7953\"],[0.7777777777777778,\"#fb9f3a\"],[0.8888888888888888,\"#fdca26\"],[1.0,\"#f0f921\"]]}],\"surface\":[{\"type\":\"surface\",\"colorbar\":{\"outlinewidth\":0,\"ticks\":\"\"},\"colorscale\":[[0.0,\"#0d0887\"],[0.1111111111111111,\"#46039f\"],[0.2222222222222222,\"#7201a8\"],[0.3333333333333333,\"#9c179e\"],[0.4444444444444444,\"#bd3786\"],[0.5555555555555556,\"#d8576b\"],[0.6666666666666666,\"#ed7953\"],[0.7777777777777778,\"#fb9f3a\"],[0.8888888888888888,\"#fdca26\"],[1.0,\"#f0f921\"]]}],\"mesh3d\":[{\"type\":\"mesh3d\",\"colorbar\":{\"outlinewidth\":0,\"ticks\":\"\"}}],\"scatter\":[{\"fillpattern\":{\"fillmode\":\"overlay\",\"size\":10,\"solidity\":0.2},\"type\":\"scatter\"}],\"parcoords\":[{\"type\":\"parcoords\",\"line\":{\"colorbar\":{\"outlinewidth\":0,\"ticks\":\"\"}}}],\"scatterpolargl\":[{\"type\":\"scatterpolargl\",\"marker\":{\"colorbar\":{\"outlinewidth\":0,\"ticks\":\"\"}}}],\"bar\":[{\"error_x\":{\"color\":\"#2a3f5f\"},\"error_y\":{\"color\":\"#2a3f5f\"},\"marker\":{\"line\":{\"color\":\"#E5ECF6\",\"width\":0.5},\"pattern\":{\"fillmode\":\"overlay\",\"size\":10,\"solidity\":0.2}},\"type\":\"bar\"}],\"scattergeo\":[{\"type\":\"scattergeo\",\"marker\":{\"colorbar\":{\"outlinewidth\":0,\"ticks\":\"\"}}}],\"scatterpolar\":[{\"type\":\"scatterpolar\",\"marker\":{\"colorbar\":{\"outlinewidth\":0,\"ticks\":\"\"}}}],\"histogram\":[{\"marker\":{\"pattern\":{\"fillmode\":\"overlay\",\"size\":10,\"solidity\":0.2}},\"type\":\"histogram\"}],\"scattergl\":[{\"type\":\"scattergl\",\"marker\":{\"colorbar\":{\"outlinewidth\":0,\"ticks\":\"\"}}}],\"scatter3d\":[{\"type\":\"scatter3d\",\"line\":{\"colorbar\":{\"outlinewidth\":0,\"ticks\":\"\"}},\"marker\":{\"colorbar\":{\"outlinewidth\":0,\"ticks\":\"\"}}}],\"scattermapbox\":[{\"type\":\"scattermapbox\",\"marker\":{\"colorbar\":{\"outlinewidth\":0,\"ticks\":\"\"}}}],\"scatterternary\":[{\"type\":\"scatterternary\",\"marker\":{\"colorbar\":{\"outlinewidth\":0,\"ticks\":\"\"}}}],\"scattercarpet\":[{\"type\":\"scattercarpet\",\"marker\":{\"colorbar\":{\"outlinewidth\":0,\"ticks\":\"\"}}}],\"carpet\":[{\"aaxis\":{\"endlinecolor\":\"#2a3f5f\",\"gridcolor\":\"white\",\"linecolor\":\"white\",\"minorgridcolor\":\"white\",\"startlinecolor\":\"#2a3f5f\"},\"baxis\":{\"endlinecolor\":\"#2a3f5f\",\"gridcolor\":\"white\",\"linecolor\":\"white\",\"minorgridcolor\":\"white\",\"startlinecolor\":\"#2a3f5f\"},\"type\":\"carpet\"}],\"table\":[{\"cells\":{\"fill\":{\"color\":\"#EBF0F8\"},\"line\":{\"color\":\"white\"}},\"header\":{\"fill\":{\"color\":\"#C8D4E3\"},\"line\":{\"color\":\"white\"}},\"type\":\"table\"}],\"barpolar\":[{\"marker\":{\"line\":{\"color\":\"#E5ECF6\",\"width\":0.5},\"pattern\":{\"fillmode\":\"overlay\",\"size\":10,\"solidity\":0.2}},\"type\":\"barpolar\"}],\"pie\":[{\"automargin\":true,\"type\":\"pie\"}]},\"layout\":{\"autotypenumbers\":\"strict\",\"colorway\":[\"#636efa\",\"#EF553B\",\"#00cc96\",\"#ab63fa\",\"#FFA15A\",\"#19d3f3\",\"#FF6692\",\"#B6E880\",\"#FF97FF\",\"#FECB52\"],\"font\":{\"color\":\"#2a3f5f\"},\"hovermode\":\"closest\",\"hoverlabel\":{\"align\":\"left\"},\"paper_bgcolor\":\"white\",\"plot_bgcolor\":\"#E5ECF6\",\"polar\":{\"bgcolor\":\"#E5ECF6\",\"angularaxis\":{\"gridcolor\":\"white\",\"linecolor\":\"white\",\"ticks\":\"\"},\"radialaxis\":{\"gridcolor\":\"white\",\"linecolor\":\"white\",\"ticks\":\"\"}},\"ternary\":{\"bgcolor\":\"#E5ECF6\",\"aaxis\":{\"gridcolor\":\"white\",\"linecolor\":\"white\",\"ticks\":\"\"},\"baxis\":{\"gridcolor\":\"white\",\"linecolor\":\"white\",\"ticks\":\"\"},\"caxis\":{\"gridcolor\":\"white\",\"linecolor\":\"white\",\"ticks\":\"\"}},\"coloraxis\":{\"colorbar\":{\"outlinewidth\":0,\"ticks\":\"\"}},\"colorscale\":{\"sequential\":[[0.0,\"#0d0887\"],[0.1111111111111111,\"#46039f\"],[0.2222222222222222,\"#7201a8\"],[0.3333333333333333,\"#9c179e\"],[0.4444444444444444,\"#bd3786\"],[0.5555555555555556,\"#d8576b\"],[0.6666666666666666,\"#ed7953\"],[0.7777777777777778,\"#fb9f3a\"],[0.8888888888888888,\"#fdca26\"],[1.0,\"#f0f921\"]],\"sequentialminus\":[[0.0,\"#0d0887\"],[0.1111111111111111,\"#46039f\"],[0.2222222222222222,\"#7201a8\"],[0.3333333333333333,\"#9c179e\"],[0.4444444444444444,\"#bd3786\"],[0.5555555555555556,\"#d8576b\"],[0.6666666666666666,\"#ed7953\"],[0.7777777777777778,\"#fb9f3a\"],[0.8888888888888888,\"#fdca26\"],[1.0,\"#f0f921\"]],\"diverging\":[[0,\"#8e0152\"],[0.1,\"#c51b7d\"],[0.2,\"#de77ae\"],[0.3,\"#f1b6da\"],[0.4,\"#fde0ef\"],[0.5,\"#f7f7f7\"],[0.6,\"#e6f5d0\"],[0.7,\"#b8e186\"],[0.8,\"#7fbc41\"],[0.9,\"#4d9221\"],[1,\"#276419\"]]},\"xaxis\":{\"gridcolor\":\"white\",\"linecolor\":\"white\",\"ticks\":\"\",\"title\":{\"standoff\":15},\"zerolinecolor\":\"white\",\"automargin\":true,\"zerolinewidth\":2},\"yaxis\":{\"gridcolor\":\"white\",\"linecolor\":\"white\",\"ticks\":\"\",\"title\":{\"standoff\":15},\"zerolinecolor\":\"white\",\"automargin\":true,\"zerolinewidth\":2},\"scene\":{\"xaxis\":{\"backgroundcolor\":\"#E5ECF6\",\"gridcolor\":\"white\",\"linecolor\":\"white\",\"showbackground\":true,\"ticks\":\"\",\"zerolinecolor\":\"white\",\"gridwidth\":2},\"yaxis\":{\"backgroundcolor\":\"#E5ECF6\",\"gridcolor\":\"white\",\"linecolor\":\"white\",\"showbackground\":true,\"ticks\":\"\",\"zerolinecolor\":\"white\",\"gridwidth\":2},\"zaxis\":{\"backgroundcolor\":\"#E5ECF6\",\"gridcolor\":\"white\",\"linecolor\":\"white\",\"showbackground\":true,\"ticks\":\"\",\"zerolinecolor\":\"white\",\"gridwidth\":2}},\"shapedefaults\":{\"line\":{\"color\":\"#2a3f5f\"}},\"annotationdefaults\":{\"arrowcolor\":\"#2a3f5f\",\"arrowhead\":0,\"arrowwidth\":1},\"geo\":{\"bgcolor\":\"white\",\"landcolor\":\"#E5ECF6\",\"subunitcolor\":\"white\",\"showland\":true,\"showlakes\":true,\"lakecolor\":\"white\"},\"title\":{\"x\":0.05},\"mapbox\":{\"style\":\"light\"}}}},                        {\"responsive\": true}                    ).then(function(){\n",
       "                            \n",
       "var gd = document.getElementById('0527af3e-47e2-425f-bb1c-3cd047696c3c');\n",
       "var x = new MutationObserver(function (mutations, observer) {{\n",
       "        var display = window.getComputedStyle(gd).display;\n",
       "        if (!display || display === 'none') {{\n",
       "            console.log([gd, 'removed!']);\n",
       "            Plotly.purge(gd);\n",
       "            observer.disconnect();\n",
       "        }}\n",
       "}});\n",
       "\n",
       "// Listen for the removal of the full notebook cells\n",
       "var notebookContainer = gd.closest('#notebook-container');\n",
       "if (notebookContainer) {{\n",
       "    x.observe(notebookContainer, {childList: true});\n",
       "}}\n",
       "\n",
       "// Listen for the clearing of the current output cell\n",
       "var outputEl = gd.closest('.output');\n",
       "if (outputEl) {{\n",
       "    x.observe(outputEl, {childList: true});\n",
       "}}\n",
       "\n",
       "                        })                };                });            </script>        </div>"
      ]
     },
     "metadata": {},
     "output_type": "display_data"
    },
    {
     "data": {
      "text/plain": [
       "({'num_leaves': 13, 'feature_fraction': 0.8390209808447286},\n",
       " 2.9995030165666097)"
      ]
     },
     "execution_count": 11,
     "metadata": {},
     "output_type": "execute_result"
    }
   ],
   "source": [
    "def lgb_objective(trial):\n",
    "\n",
    "    check_params = {\n",
    "                #\"max_bin\": trial.suggest_int(\"max_bin\", 10, 500),\n",
    "                'num_leaves': trial.suggest_int('num_leaves', 10, 100),\n",
    "                #'min_data_in_leaf': trial.suggest_int(\"min_data_in_leaf\", 2, 50),\n",
    "                #'min_sum_hessian_in_leaf': trial.suggest_float('min_sum_hessian_in_leaf', 1e-8, 10.0, log=True),\n",
    "                #'learning_rate': trial.suggest_float('learning_rate', 0.01, 0.5),\n",
    "                'feature_fraction': trial.suggest_float('feature_fraction', 0.5, 1.0),\n",
    "                #'bagging_fraction': trial.suggest_float('bagging_fraction', 0.1, 1.0),\n",
    "                #'bagging_freq': trial.suggest_int('bagging_freq', 1, 100),\n",
    "                #'min_child_samples': trial.suggest_int('min_child_samples', 1, 10),\n",
    "                #'min_gain_to_split': trial.suggest_float('min_gain_to_split', 0, 10),\n",
    "                #'lambda_l2': trial.suggest_float('lambda_l2', 0, 0.1),\n",
    "                #'lambda_l1': trial.suggest_float('lambda_l1', 0, 0.1),\n",
    "                #'max_depth': trial.suggest_int('max_depth', 2, 100),\n",
    "                #\"extra_trees\": trial.suggest_categorical('extra_trees', [True, False]),\n",
    "                #\"path_smooth\": trial.suggest_int(\"path_smooth\", 0, 10),\n",
    "    }\n",
    "    new_params = lgb_params.copy()\n",
    "    new_params.update(check_params)\n",
    "\n",
    "    model_class = LGBClass(model_class = LGBMClassifier, params = new_params)\n",
    "\n",
    "    valid_output = np.zeros(len(target))\n",
    "    for split, (tr_idx, val_idx) in enumerate(train_valid_idx_pairs): \n",
    "        model = model_class.train_with_validation(train.loc[tr_idx], target.loc[tr_idx],\n",
    "                                                        train.loc[val_idx], target.loc[val_idx])\n",
    "        valid_output[val_idx] = model_class.predict(model, train.loc[val_idx])\n",
    "    score = balanced_log_loss(target, valid_output)\n",
    "    return score\n",
    "\n",
    "lgb_best_params, lgb_best_value = param_tuning(lgb_objective)\n",
    "lgb_best_params, lgb_best_value"
   ]
  },
  {
   "cell_type": "code",
   "execution_count": 12,
   "id": "78d4bbd7",
   "metadata": {
    "execution": {
     "iopub.execute_input": "2025-04-03T00:10:54.379642Z",
     "iopub.status.busy": "2025-04-03T00:10:54.379390Z",
     "iopub.status.idle": "2025-04-03T00:11:02.294236Z",
     "shell.execute_reply": "2025-04-03T00:11:02.293500Z"
    },
    "papermill": {
     "duration": 7.924514,
     "end_time": "2025-04-03T00:11:02.295578",
     "exception": false,
     "start_time": "2025-04-03T00:10:54.371064",
     "status": "completed"
    },
    "tags": []
   },
   "outputs": [
    {
     "name": "stderr",
     "output_type": "stream",
     "text": [
      "\u001b[32m[I 2025-04-03 00:10:54,382]\u001b[0m A new study created in memory with name: no-name-cff3565b-e9b2-48b7-80d7-a4cc5576308f\u001b[0m\n"
     ]
    },
    {
     "name": "stdout",
     "output_type": "stream",
     "text": [
      "[0]\tvalidation_0-logloss:0.50132\n",
      "[50]\tvalidation_0-logloss:0.10666\n",
      "[99]\tvalidation_0-logloss:0.10666\n",
      "[0]\tvalidation_0-logloss:0.52655\n",
      "[50]\tvalidation_0-logloss:0.16041\n",
      "[99]\tvalidation_0-logloss:0.16041\n",
      "[0]\tvalidation_0-logloss:0.50315\n",
      "[50]\tvalidation_0-logloss:0.17950\n",
      "[99]\tvalidation_0-logloss:0.17950\n",
      "[0]\tvalidation_0-logloss:0.52638\n",
      "[50]\tvalidation_0-logloss:0.16462\n",
      "[99]\tvalidation_0-logloss:0.16462\n",
      "[0]\tvalidation_0-logloss:0.52017\n",
      "[50]\tvalidation_0-logloss:0.19874\n",
      "[99]\tvalidation_0-logloss:0.19874\n"
     ]
    },
    {
     "name": "stderr",
     "output_type": "stream",
     "text": [
      "\u001b[32m[I 2025-04-03 00:10:56,017]\u001b[0m Trial 0 finished with value: 0.32614449311622123 and parameters: {'gamma': 0.9198787882664067}. Best is trial 0 with value: 0.32614449311622123.\u001b[0m\n"
     ]
    },
    {
     "name": "stdout",
     "output_type": "stream",
     "text": [
      "[0]\tvalidation_0-logloss:0.50132\n",
      "[50]\tvalidation_0-logloss:0.09916\n",
      "[99]\tvalidation_0-logloss:0.09916\n",
      "[0]\tvalidation_0-logloss:0.52655\n",
      "[50]\tvalidation_0-logloss:0.15683\n",
      "[99]\tvalidation_0-logloss:0.15683\n",
      "[0]\tvalidation_0-logloss:0.50569\n",
      "[50]\tvalidation_0-logloss:0.16340\n",
      "[99]\tvalidation_0-logloss:0.16340\n",
      "[0]\tvalidation_0-logloss:0.52638\n",
      "[50]\tvalidation_0-logloss:0.18021\n",
      "[99]\tvalidation_0-logloss:0.18021\n",
      "[0]\tvalidation_0-logloss:0.52001\n",
      "[50]\tvalidation_0-logloss:0.20418\n",
      "[99]\tvalidation_0-logloss:0.20418\n"
     ]
    },
    {
     "name": "stderr",
     "output_type": "stream",
     "text": [
      "\u001b[32m[I 2025-04-03 00:10:57,452]\u001b[0m Trial 1 finished with value: 0.33799175134293097 and parameters: {'gamma': 0.5226972472816125}. Best is trial 0 with value: 0.32614449311622123.\u001b[0m\n"
     ]
    },
    {
     "name": "stdout",
     "output_type": "stream",
     "text": [
      "[0]\tvalidation_0-logloss:0.50132\n",
      "[50]\tvalidation_0-logloss:0.10446\n",
      "[99]\tvalidation_0-logloss:0.10446\n",
      "[0]\tvalidation_0-logloss:0.52655\n",
      "[50]\tvalidation_0-logloss:0.16209\n",
      "[99]\tvalidation_0-logloss:0.16209\n",
      "[0]\tvalidation_0-logloss:0.50315\n",
      "[50]\tvalidation_0-logloss:0.16781\n",
      "[99]\tvalidation_0-logloss:0.16781\n",
      "[0]\tvalidation_0-logloss:0.52638\n",
      "[50]\tvalidation_0-logloss:0.16462\n",
      "[99]\tvalidation_0-logloss:0.16462\n",
      "[0]\tvalidation_0-logloss:0.52017\n",
      "[50]\tvalidation_0-logloss:0.19689\n",
      "[99]\tvalidation_0-logloss:0.19689\n"
     ]
    },
    {
     "name": "stderr",
     "output_type": "stream",
     "text": [
      "\u001b[32m[I 2025-04-03 00:10:59,543]\u001b[0m Trial 2 finished with value: 0.32248015069841846 and parameters: {'gamma': 0.8968416781442157}. Best is trial 2 with value: 0.32248015069841846.\u001b[0m\n"
     ]
    },
    {
     "name": "stdout",
     "output_type": "stream",
     "text": [
      "[0]\tvalidation_0-logloss:0.50062\n",
      "[50]\tvalidation_0-logloss:0.08493\n",
      "[99]\tvalidation_0-logloss:0.08494\n",
      "[0]\tvalidation_0-logloss:0.52655\n",
      "[50]\tvalidation_0-logloss:0.15856\n",
      "[99]\tvalidation_0-logloss:0.15856\n",
      "[0]\tvalidation_0-logloss:0.50637\n",
      "[50]\tvalidation_0-logloss:0.16684\n",
      "[99]\tvalidation_0-logloss:0.16684\n",
      "[0]\tvalidation_0-logloss:0.52571\n",
      "[50]\tvalidation_0-logloss:0.16172\n",
      "[99]\tvalidation_0-logloss:0.16172\n",
      "[0]\tvalidation_0-logloss:0.52001\n",
      "[50]\tvalidation_0-logloss:0.18751\n",
      "[99]\tvalidation_0-logloss:0.18756\n"
     ]
    },
    {
     "name": "stderr",
     "output_type": "stream",
     "text": [
      "\u001b[32m[I 2025-04-03 00:11:00,722]\u001b[0m Trial 3 finished with value: 0.32418928150930176 and parameters: {'gamma': 0.21824823772960078}. Best is trial 2 with value: 0.32248015069841846.\u001b[0m\n"
     ]
    },
    {
     "name": "stdout",
     "output_type": "stream",
     "text": [
      "[0]\tvalidation_0-logloss:0.50132\n",
      "[50]\tvalidation_0-logloss:0.09507\n",
      "[99]\tvalidation_0-logloss:0.09507\n",
      "[0]\tvalidation_0-logloss:0.52655\n",
      "[50]\tvalidation_0-logloss:0.16543\n",
      "[99]\tvalidation_0-logloss:0.16543\n",
      "[0]\tvalidation_0-logloss:0.50569\n",
      "[50]\tvalidation_0-logloss:0.15788\n",
      "[99]\tvalidation_0-logloss:0.15788\n",
      "[0]\tvalidation_0-logloss:0.52638\n",
      "[50]\tvalidation_0-logloss:0.18752\n",
      "[99]\tvalidation_0-logloss:0.18752\n",
      "[0]\tvalidation_0-logloss:0.52001\n",
      "[50]\tvalidation_0-logloss:0.19418\n",
      "[99]\tvalidation_0-logloss:0.19418\n"
     ]
    },
    {
     "name": "stderr",
     "output_type": "stream",
     "text": [
      "\u001b[32m[I 2025-04-03 00:11:02,197]\u001b[0m Trial 4 finished with value: 0.3432741459670619 and parameters: {'gamma': 0.5771753453149779}. Best is trial 2 with value: 0.32248015069841846.\u001b[0m\n"
     ]
    },
    {
     "name": "stdout",
     "output_type": "stream",
     "text": [
      "Value:  0.32248015069841846\n",
      "best_parameters:  {'gamma': 0.8968416781442157}\n"
     ]
    },
    {
     "data": {
      "text/html": [
       "<div>                            <div id=\"5398f6eb-3b2f-458d-bd6c-4a7b5d8b4254\" class=\"plotly-graph-div\" style=\"height:525px; width:100%;\"></div>            <script type=\"text/javascript\">                require([\"plotly\"], function(Plotly) {                    window.PLOTLYENV=window.PLOTLYENV || {};                                    if (document.getElementById(\"5398f6eb-3b2f-458d-bd6c-4a7b5d8b4254\")) {                    Plotly.newPlot(                        \"5398f6eb-3b2f-458d-bd6c-4a7b5d8b4254\",                        [{\"cliponaxis\":false,\"hovertemplate\":[\"gamma (FloatDistribution): 1.0<extra></extra>\"],\"marker\":{\"color\":\"rgb(66,146,198)\"},\"orientation\":\"h\",\"text\":[\"1.00\"],\"textposition\":\"outside\",\"x\":[1.0],\"y\":[\"gamma\"],\"type\":\"bar\"}],                        {\"showlegend\":false,\"title\":{\"text\":\"Hyperparameter Importances\"},\"xaxis\":{\"title\":{\"text\":\"Importance for Objective Value\"}},\"yaxis\":{\"title\":{\"text\":\"Hyperparameter\"}},\"template\":{\"data\":{\"histogram2dcontour\":[{\"type\":\"histogram2dcontour\",\"colorbar\":{\"outlinewidth\":0,\"ticks\":\"\"},\"colorscale\":[[0.0,\"#0d0887\"],[0.1111111111111111,\"#46039f\"],[0.2222222222222222,\"#7201a8\"],[0.3333333333333333,\"#9c179e\"],[0.4444444444444444,\"#bd3786\"],[0.5555555555555556,\"#d8576b\"],[0.6666666666666666,\"#ed7953\"],[0.7777777777777778,\"#fb9f3a\"],[0.8888888888888888,\"#fdca26\"],[1.0,\"#f0f921\"]]}],\"choropleth\":[{\"type\":\"choropleth\",\"colorbar\":{\"outlinewidth\":0,\"ticks\":\"\"}}],\"histogram2d\":[{\"type\":\"histogram2d\",\"colorbar\":{\"outlinewidth\":0,\"ticks\":\"\"},\"colorscale\":[[0.0,\"#0d0887\"],[0.1111111111111111,\"#46039f\"],[0.2222222222222222,\"#7201a8\"],[0.3333333333333333,\"#9c179e\"],[0.4444444444444444,\"#bd3786\"],[0.5555555555555556,\"#d8576b\"],[0.6666666666666666,\"#ed7953\"],[0.7777777777777778,\"#fb9f3a\"],[0.8888888888888888,\"#fdca26\"],[1.0,\"#f0f921\"]]}],\"heatmap\":[{\"type\":\"heatmap\",\"colorbar\":{\"outlinewidth\":0,\"ticks\":\"\"},\"colorscale\":[[0.0,\"#0d0887\"],[0.1111111111111111,\"#46039f\"],[0.2222222222222222,\"#7201a8\"],[0.3333333333333333,\"#9c179e\"],[0.4444444444444444,\"#bd3786\"],[0.5555555555555556,\"#d8576b\"],[0.6666666666666666,\"#ed7953\"],[0.7777777777777778,\"#fb9f3a\"],[0.8888888888888888,\"#fdca26\"],[1.0,\"#f0f921\"]]}],\"heatmapgl\":[{\"type\":\"heatmapgl\",\"colorbar\":{\"outlinewidth\":0,\"ticks\":\"\"},\"colorscale\":[[0.0,\"#0d0887\"],[0.1111111111111111,\"#46039f\"],[0.2222222222222222,\"#7201a8\"],[0.3333333333333333,\"#9c179e\"],[0.4444444444444444,\"#bd3786\"],[0.5555555555555556,\"#d8576b\"],[0.6666666666666666,\"#ed7953\"],[0.7777777777777778,\"#fb9f3a\"],[0.8888888888888888,\"#fdca26\"],[1.0,\"#f0f921\"]]}],\"contourcarpet\":[{\"type\":\"contourcarpet\",\"colorbar\":{\"outlinewidth\":0,\"ticks\":\"\"}}],\"contour\":[{\"type\":\"contour\",\"colorbar\":{\"outlinewidth\":0,\"ticks\":\"\"},\"colorscale\":[[0.0,\"#0d0887\"],[0.1111111111111111,\"#46039f\"],[0.2222222222222222,\"#7201a8\"],[0.3333333333333333,\"#9c179e\"],[0.4444444444444444,\"#bd3786\"],[0.5555555555555556,\"#d8576b\"],[0.6666666666666666,\"#ed7953\"],[0.7777777777777778,\"#fb9f3a\"],[0.8888888888888888,\"#fdca26\"],[1.0,\"#f0f921\"]]}],\"surface\":[{\"type\":\"surface\",\"colorbar\":{\"outlinewidth\":0,\"ticks\":\"\"},\"colorscale\":[[0.0,\"#0d0887\"],[0.1111111111111111,\"#46039f\"],[0.2222222222222222,\"#7201a8\"],[0.3333333333333333,\"#9c179e\"],[0.4444444444444444,\"#bd3786\"],[0.5555555555555556,\"#d8576b\"],[0.6666666666666666,\"#ed7953\"],[0.7777777777777778,\"#fb9f3a\"],[0.8888888888888888,\"#fdca26\"],[1.0,\"#f0f921\"]]}],\"mesh3d\":[{\"type\":\"mesh3d\",\"colorbar\":{\"outlinewidth\":0,\"ticks\":\"\"}}],\"scatter\":[{\"fillpattern\":{\"fillmode\":\"overlay\",\"size\":10,\"solidity\":0.2},\"type\":\"scatter\"}],\"parcoords\":[{\"type\":\"parcoords\",\"line\":{\"colorbar\":{\"outlinewidth\":0,\"ticks\":\"\"}}}],\"scatterpolargl\":[{\"type\":\"scatterpolargl\",\"marker\":{\"colorbar\":{\"outlinewidth\":0,\"ticks\":\"\"}}}],\"bar\":[{\"error_x\":{\"color\":\"#2a3f5f\"},\"error_y\":{\"color\":\"#2a3f5f\"},\"marker\":{\"line\":{\"color\":\"#E5ECF6\",\"width\":0.5},\"pattern\":{\"fillmode\":\"overlay\",\"size\":10,\"solidity\":0.2}},\"type\":\"bar\"}],\"scattergeo\":[{\"type\":\"scattergeo\",\"marker\":{\"colorbar\":{\"outlinewidth\":0,\"ticks\":\"\"}}}],\"scatterpolar\":[{\"type\":\"scatterpolar\",\"marker\":{\"colorbar\":{\"outlinewidth\":0,\"ticks\":\"\"}}}],\"histogram\":[{\"marker\":{\"pattern\":{\"fillmode\":\"overlay\",\"size\":10,\"solidity\":0.2}},\"type\":\"histogram\"}],\"scattergl\":[{\"type\":\"scattergl\",\"marker\":{\"colorbar\":{\"outlinewidth\":0,\"ticks\":\"\"}}}],\"scatter3d\":[{\"type\":\"scatter3d\",\"line\":{\"colorbar\":{\"outlinewidth\":0,\"ticks\":\"\"}},\"marker\":{\"colorbar\":{\"outlinewidth\":0,\"ticks\":\"\"}}}],\"scattermapbox\":[{\"type\":\"scattermapbox\",\"marker\":{\"colorbar\":{\"outlinewidth\":0,\"ticks\":\"\"}}}],\"scatterternary\":[{\"type\":\"scatterternary\",\"marker\":{\"colorbar\":{\"outlinewidth\":0,\"ticks\":\"\"}}}],\"scattercarpet\":[{\"type\":\"scattercarpet\",\"marker\":{\"colorbar\":{\"outlinewidth\":0,\"ticks\":\"\"}}}],\"carpet\":[{\"aaxis\":{\"endlinecolor\":\"#2a3f5f\",\"gridcolor\":\"white\",\"linecolor\":\"white\",\"minorgridcolor\":\"white\",\"startlinecolor\":\"#2a3f5f\"},\"baxis\":{\"endlinecolor\":\"#2a3f5f\",\"gridcolor\":\"white\",\"linecolor\":\"white\",\"minorgridcolor\":\"white\",\"startlinecolor\":\"#2a3f5f\"},\"type\":\"carpet\"}],\"table\":[{\"cells\":{\"fill\":{\"color\":\"#EBF0F8\"},\"line\":{\"color\":\"white\"}},\"header\":{\"fill\":{\"color\":\"#C8D4E3\"},\"line\":{\"color\":\"white\"}},\"type\":\"table\"}],\"barpolar\":[{\"marker\":{\"line\":{\"color\":\"#E5ECF6\",\"width\":0.5},\"pattern\":{\"fillmode\":\"overlay\",\"size\":10,\"solidity\":0.2}},\"type\":\"barpolar\"}],\"pie\":[{\"automargin\":true,\"type\":\"pie\"}]},\"layout\":{\"autotypenumbers\":\"strict\",\"colorway\":[\"#636efa\",\"#EF553B\",\"#00cc96\",\"#ab63fa\",\"#FFA15A\",\"#19d3f3\",\"#FF6692\",\"#B6E880\",\"#FF97FF\",\"#FECB52\"],\"font\":{\"color\":\"#2a3f5f\"},\"hovermode\":\"closest\",\"hoverlabel\":{\"align\":\"left\"},\"paper_bgcolor\":\"white\",\"plot_bgcolor\":\"#E5ECF6\",\"polar\":{\"bgcolor\":\"#E5ECF6\",\"angularaxis\":{\"gridcolor\":\"white\",\"linecolor\":\"white\",\"ticks\":\"\"},\"radialaxis\":{\"gridcolor\":\"white\",\"linecolor\":\"white\",\"ticks\":\"\"}},\"ternary\":{\"bgcolor\":\"#E5ECF6\",\"aaxis\":{\"gridcolor\":\"white\",\"linecolor\":\"white\",\"ticks\":\"\"},\"baxis\":{\"gridcolor\":\"white\",\"linecolor\":\"white\",\"ticks\":\"\"},\"caxis\":{\"gridcolor\":\"white\",\"linecolor\":\"white\",\"ticks\":\"\"}},\"coloraxis\":{\"colorbar\":{\"outlinewidth\":0,\"ticks\":\"\"}},\"colorscale\":{\"sequential\":[[0.0,\"#0d0887\"],[0.1111111111111111,\"#46039f\"],[0.2222222222222222,\"#7201a8\"],[0.3333333333333333,\"#9c179e\"],[0.4444444444444444,\"#bd3786\"],[0.5555555555555556,\"#d8576b\"],[0.6666666666666666,\"#ed7953\"],[0.7777777777777778,\"#fb9f3a\"],[0.8888888888888888,\"#fdca26\"],[1.0,\"#f0f921\"]],\"sequentialminus\":[[0.0,\"#0d0887\"],[0.1111111111111111,\"#46039f\"],[0.2222222222222222,\"#7201a8\"],[0.3333333333333333,\"#9c179e\"],[0.4444444444444444,\"#bd3786\"],[0.5555555555555556,\"#d8576b\"],[0.6666666666666666,\"#ed7953\"],[0.7777777777777778,\"#fb9f3a\"],[0.8888888888888888,\"#fdca26\"],[1.0,\"#f0f921\"]],\"diverging\":[[0,\"#8e0152\"],[0.1,\"#c51b7d\"],[0.2,\"#de77ae\"],[0.3,\"#f1b6da\"],[0.4,\"#fde0ef\"],[0.5,\"#f7f7f7\"],[0.6,\"#e6f5d0\"],[0.7,\"#b8e186\"],[0.8,\"#7fbc41\"],[0.9,\"#4d9221\"],[1,\"#276419\"]]},\"xaxis\":{\"gridcolor\":\"white\",\"linecolor\":\"white\",\"ticks\":\"\",\"title\":{\"standoff\":15},\"zerolinecolor\":\"white\",\"automargin\":true,\"zerolinewidth\":2},\"yaxis\":{\"gridcolor\":\"white\",\"linecolor\":\"white\",\"ticks\":\"\",\"title\":{\"standoff\":15},\"zerolinecolor\":\"white\",\"automargin\":true,\"zerolinewidth\":2},\"scene\":{\"xaxis\":{\"backgroundcolor\":\"#E5ECF6\",\"gridcolor\":\"white\",\"linecolor\":\"white\",\"showbackground\":true,\"ticks\":\"\",\"zerolinecolor\":\"white\",\"gridwidth\":2},\"yaxis\":{\"backgroundcolor\":\"#E5ECF6\",\"gridcolor\":\"white\",\"linecolor\":\"white\",\"showbackground\":true,\"ticks\":\"\",\"zerolinecolor\":\"white\",\"gridwidth\":2},\"zaxis\":{\"backgroundcolor\":\"#E5ECF6\",\"gridcolor\":\"white\",\"linecolor\":\"white\",\"showbackground\":true,\"ticks\":\"\",\"zerolinecolor\":\"white\",\"gridwidth\":2}},\"shapedefaults\":{\"line\":{\"color\":\"#2a3f5f\"}},\"annotationdefaults\":{\"arrowcolor\":\"#2a3f5f\",\"arrowhead\":0,\"arrowwidth\":1},\"geo\":{\"bgcolor\":\"white\",\"landcolor\":\"#E5ECF6\",\"subunitcolor\":\"white\",\"showland\":true,\"showlakes\":true,\"lakecolor\":\"white\"},\"title\":{\"x\":0.05},\"mapbox\":{\"style\":\"light\"}}}},                        {\"responsive\": true}                    ).then(function(){\n",
       "                            \n",
       "var gd = document.getElementById('5398f6eb-3b2f-458d-bd6c-4a7b5d8b4254');\n",
       "var x = new MutationObserver(function (mutations, observer) {{\n",
       "        var display = window.getComputedStyle(gd).display;\n",
       "        if (!display || display === 'none') {{\n",
       "            console.log([gd, 'removed!']);\n",
       "            Plotly.purge(gd);\n",
       "            observer.disconnect();\n",
       "        }}\n",
       "}});\n",
       "\n",
       "// Listen for the removal of the full notebook cells\n",
       "var notebookContainer = gd.closest('#notebook-container');\n",
       "if (notebookContainer) {{\n",
       "    x.observe(notebookContainer, {childList: true});\n",
       "}}\n",
       "\n",
       "// Listen for the clearing of the current output cell\n",
       "var outputEl = gd.closest('.output');\n",
       "if (outputEl) {{\n",
       "    x.observe(outputEl, {childList: true});\n",
       "}}\n",
       "\n",
       "                        })                };                });            </script>        </div>"
      ]
     },
     "metadata": {},
     "output_type": "display_data"
    },
    {
     "data": {
      "text/plain": [
       "({'gamma': 0.8968416781442157}, 0.32248015069841846)"
      ]
     },
     "execution_count": 12,
     "metadata": {},
     "output_type": "execute_result"
    }
   ],
   "source": [
    "def xgb_objective(trial):\n",
    "\n",
    "    check_params = {\n",
    "                \"verbosity\": 0,\n",
    "                \"gamma\": trial.suggest_float(\"gamma\", 0, 1),\n",
    "                #\"max_depth\": trial.suggest_int(\"max_depth\", 1, 10),\n",
    "                #\"num_leaves\": trial.suggest_int(\"num_leaves\", 10, 100),\n",
    "                #\"learning_rate\": trial.suggest_float(\"learning_rate\", 0.01, 0.5),\n",
    "                #\"min_child_weight\": trial.suggest_int(\"min_child_weight\", 1, 10),\n",
    "                #\"max_delta_step\": trial.suggest_int(\"max_delta_step\", 0, 10),\n",
    "                #\"subsample\": trial.suggest_float(\"subsample\", 0, 1),\n",
    "                #\"lambda\": trial.suggest_float(\"lambda\", 0, 1),\n",
    "                #\"alpha\": trial.suggest_float(\"alpha\", 0, 1),\n",
    "            }\n",
    "\n",
    "    new_params = xgb_params.copy()\n",
    "    new_params.update(check_params)\n",
    "\n",
    "    model_class = XGBClass(model_class = XGBClassifier, params = new_params,\n",
    "                           verbose_eval_step = 50, output_prob = True, multi_label = False)\n",
    "\n",
    "    valid_output = np.zeros(len(target))\n",
    "    for split, (tr_idx, val_idx) in enumerate(train_valid_idx_pairs): \n",
    "        model = model_class.train_with_validation(train.loc[tr_idx], target.loc[tr_idx],\n",
    "                                                        train.loc[val_idx], target.loc[val_idx])\n",
    "        valid_output[val_idx] = model_class.predict(model, train.loc[val_idx])\n",
    "    score = balanced_log_loss(target, valid_output)\n",
    "    return score\n",
    "\n",
    "xgb_best_params, xgb_best_value = param_tuning(xgb_objective)\n",
    "xgb_best_params, xgb_best_value"
   ]
  },
  {
   "cell_type": "code",
   "execution_count": 13,
   "id": "0c638841",
   "metadata": {
    "execution": {
     "iopub.execute_input": "2025-04-03T00:11:02.318297Z",
     "iopub.status.busy": "2025-04-03T00:11:02.317965Z",
     "iopub.status.idle": "2025-04-03T00:11:12.983150Z",
     "shell.execute_reply": "2025-04-03T00:11:12.982443Z"
    },
    "papermill": {
     "duration": 10.678185,
     "end_time": "2025-04-03T00:11:12.984686",
     "exception": false,
     "start_time": "2025-04-03T00:11:02.306501",
     "status": "completed"
    },
    "tags": []
   },
   "outputs": [
    {
     "name": "stderr",
     "output_type": "stream",
     "text": [
      "\u001b[32m[I 2025-04-03 00:11:02,321]\u001b[0m A new study created in memory with name: no-name-29da6424-ca49-4223-9250-db9d81d298b5\u001b[0m\n"
     ]
    },
    {
     "name": "stdout",
     "output_type": "stream",
     "text": [
      "0:\tlearn: 0.4984757\ttest: 0.5664083\tbest: 0.5664083 (0)\ttotal: 6.39ms\tremaining: 6.38s\n",
      "100:\tlearn: 0.0002798\ttest: 0.1811736\tbest: 0.1786160 (55)\ttotal: 830ms\tremaining: 7.39s\n",
      "Stopped by overfitting detector  (50 iterations wait)\n",
      "\n",
      "bestTest = 0.1786159814\n",
      "bestIteration = 55\n",
      "\n",
      "Shrink model to first 56 iterations.\n",
      "0:\tlearn: 0.4597054\ttest: 0.5544622\tbest: 0.5544622 (0)\ttotal: 6.38ms\tremaining: 6.38s\n",
      "Stopped by overfitting detector  (50 iterations wait)\n",
      "\n",
      "bestTest = 0.2969948768\n",
      "bestIteration = 7\n",
      "\n",
      "Shrink model to first 8 iterations.\n",
      "0:\tlearn: 0.4724080\ttest: 0.5663967\tbest: 0.5663967 (0)\ttotal: 7.68ms\tremaining: 7.67s\n",
      "100:\tlearn: 0.0002668\ttest: 0.2548191\tbest: 0.2537329 (75)\ttotal: 849ms\tremaining: 7.55s\n",
      "Stopped by overfitting detector  (50 iterations wait)\n",
      "\n",
      "bestTest = 0.2537329378\n",
      "bestIteration = 75\n",
      "\n",
      "Shrink model to first 76 iterations.\n",
      "0:\tlearn: 0.4758794\ttest: 0.5603418\tbest: 0.5603418 (0)\ttotal: 6.4ms\tremaining: 6.39s\n",
      "Stopped by overfitting detector  (50 iterations wait)\n",
      "\n",
      "bestTest = 0.2889627321\n",
      "bestIteration = 42\n",
      "\n",
      "Shrink model to first 43 iterations.\n",
      "0:\tlearn: 0.4807214\ttest: 0.5654929\tbest: 0.5654929 (0)\ttotal: 6.36ms\tremaining: 6.35s\n"
     ]
    },
    {
     "name": "stderr",
     "output_type": "stream",
     "text": [
      "\u001b[32m[I 2025-04-03 00:11:06,334]\u001b[0m Trial 0 finished with value: 0.636829604573982 and parameters: {'max_depth': 9, 'reg_lambda': 0.06558557336612225, 'learning_rate': 0.18992657440179556, 'min_child_samples': 4}. Best is trial 0 with value: 0.636829604573982.\u001b[0m\n"
     ]
    },
    {
     "name": "stdout",
     "output_type": "stream",
     "text": [
      "Stopped by overfitting detector  (50 iterations wait)\n",
      "\n",
      "bestTest = 0.2529983673\n",
      "bestIteration = 20\n",
      "\n",
      "Shrink model to first 21 iterations.\n",
      "0:\tlearn: 0.4694879\ttest: 0.4796736\tbest: 0.4796736 (0)\ttotal: 5.71ms\tremaining: 5.7s\n",
      "100:\tlearn: 0.0016273\ttest: 0.0951723\tbest: 0.0945766 (94)\ttotal: 652ms\tremaining: 5.8s\n",
      "200:\tlearn: 0.0006874\ttest: 0.0854599\tbest: 0.0852821 (174)\ttotal: 1.27s\tremaining: 5.03s\n",
      "300:\tlearn: 0.0006587\ttest: 0.0838676\tbest: 0.0838676 (300)\ttotal: 1.86s\tremaining: 4.32s\n",
      "Stopped by overfitting detector  (50 iterations wait)\n",
      "\n",
      "bestTest = 0.08373223789\n",
      "bestIteration = 320\n",
      "\n",
      "Shrink model to first 321 iterations.\n",
      "0:\tlearn: 0.4827983\ttest: 0.5091058\tbest: 0.5091058 (0)\ttotal: 5.63ms\tremaining: 5.63s\n",
      "Stopped by overfitting detector  (50 iterations wait)\n",
      "\n",
      "bestTest = 0.1990574917\n",
      "bestIteration = 27\n",
      "\n",
      "Shrink model to first 28 iterations.\n",
      "0:\tlearn: 0.5089822\ttest: 0.5163548\tbest: 0.5163548 (0)\ttotal: 5.66ms\tremaining: 5.66s\n",
      "Stopped by overfitting detector  (50 iterations wait)\n",
      "\n",
      "bestTest = 0.1621883312\n",
      "bestIteration = 39\n",
      "\n",
      "Shrink model to first 40 iterations.\n",
      "0:\tlearn: 0.4793418\ttest: 0.5010749\tbest: 0.5010749 (0)\ttotal: 5.57ms\tremaining: 5.56s\n",
      "Stopped by overfitting detector  (50 iterations wait)\n",
      "\n",
      "bestTest = 0.1495821131\n",
      "bestIteration = 48\n",
      "\n",
      "Shrink model to first 49 iterations.\n",
      "0:\tlearn: 0.4525839\ttest: 0.4446185\tbest: 0.4446185 (0)\ttotal: 5.45ms\tremaining: 5.44s\n"
     ]
    },
    {
     "name": "stderr",
     "output_type": "stream",
     "text": [
      "\u001b[32m[I 2025-04-03 00:11:11,055]\u001b[0m Trial 1 finished with value: 0.36365609246088937 and parameters: {'max_depth': 6, 'reg_lambda': 0.9655789453975407, 'learning_rate': 0.19935738452046448, 'min_child_samples': 4}. Best is trial 1 with value: 0.36365609246088937.\u001b[0m\n"
     ]
    },
    {
     "name": "stdout",
     "output_type": "stream",
     "text": [
      "Stopped by overfitting detector  (50 iterations wait)\n",
      "\n",
      "bestTest = 0.1861883943\n",
      "bestIteration = 30\n",
      "\n",
      "Shrink model to first 31 iterations.\n",
      "0:\tlearn: 0.4173255\ttest: 0.4098514\tbest: 0.4098514 (0)\ttotal: 1.4ms\tremaining: 1.4s\n",
      "Stopped by overfitting detector  (50 iterations wait)\n",
      "\n",
      "bestTest = 0.08771250709\n",
      "bestIteration = 46\n",
      "\n",
      "Shrink model to first 47 iterations.\n",
      "0:\tlearn: 0.3871626\ttest: 0.4352862\tbest: 0.4352862 (0)\ttotal: 1.28ms\tremaining: 1.28s\n",
      "Stopped by overfitting detector  (50 iterations wait)\n",
      "\n",
      "bestTest = 0.2123003618\n",
      "bestIteration = 22\n",
      "\n",
      "Shrink model to first 23 iterations.\n",
      "0:\tlearn: 0.4024283\ttest: 0.4541999\tbest: 0.4541999 (0)\ttotal: 1.25ms\tremaining: 1.24s\n",
      "Stopped by overfitting detector  (50 iterations wait)\n",
      "\n",
      "bestTest = 0.2228418014\n",
      "bestIteration = 16\n",
      "\n",
      "Shrink model to first 17 iterations.\n",
      "0:\tlearn: 0.4172842\ttest: 0.4210783\tbest: 0.4210783 (0)\ttotal: 1.47ms\tremaining: 1.47s\n"
     ]
    },
    {
     "name": "stderr",
     "output_type": "stream",
     "text": [
      "\u001b[32m[I 2025-04-03 00:11:11,713]\u001b[0m Trial 2 finished with value: 0.38171977003457747 and parameters: {'max_depth': 3, 'reg_lambda': 0.6006540494699573, 'learning_rate': 0.49043576785438453, 'min_child_samples': 5}. Best is trial 1 with value: 0.36365609246088937.\u001b[0m\n"
     ]
    },
    {
     "name": "stdout",
     "output_type": "stream",
     "text": [
      "Stopped by overfitting detector  (50 iterations wait)\n",
      "\n",
      "bestTest = 0.1739001319\n",
      "bestIteration = 35\n",
      "\n",
      "Shrink model to first 36 iterations.\n",
      "0:\tlearn: 0.3910896\ttest: 0.4114799\tbest: 0.4114799 (0)\ttotal: 1.3ms\tremaining: 1.3s\n",
      "Stopped by overfitting detector  (50 iterations wait)\n",
      "\n",
      "bestTest = 0.240410116\n",
      "bestIteration = 22\n",
      "\n",
      "Shrink model to first 23 iterations.\n",
      "0:\tlearn: 0.3863911\ttest: 0.3907153\tbest: 0.3907153 (0)\ttotal: 1.08ms\tremaining: 1.08s\n",
      "Stopped by overfitting detector  (50 iterations wait)\n",
      "\n",
      "bestTest = 0.1451654259\n",
      "bestIteration = 29\n",
      "\n",
      "Shrink model to first 30 iterations.\n",
      "0:\tlearn: 0.3654359\ttest: 0.4463842\tbest: 0.4463842 (0)\ttotal: 1.08ms\tremaining: 1.08s\n",
      "Stopped by overfitting detector  (50 iterations wait)\n",
      "\n",
      "bestTest = 0.3534238133\n",
      "bestIteration = 3\n",
      "\n",
      "Shrink model to first 4 iterations.\n",
      "0:\tlearn: 0.3816499\ttest: 0.3992218\tbest: 0.3992218 (0)\ttotal: 1.07ms\tremaining: 1.07s\n",
      "100:\tlearn: 0.0001636\ttest: 0.2046575\tbest: 0.2045418 (74)\ttotal: 95.1ms\tremaining: 847ms\n",
      "Stopped by overfitting detector  (50 iterations wait)\n",
      "\n",
      "bestTest = 0.2045418013\n",
      "bestIteration = 74\n",
      "\n",
      "Shrink model to first 75 iterations.\n",
      "0:\tlearn: 0.3549919\ttest: 0.4493465\tbest: 0.4493465 (0)\ttotal: 1.05ms\tremaining: 1.04s\n",
      "100:\tlearn: 0.0001974\ttest: 0.2435264\tbest: 0.2435129 (76)\ttotal: 95.9ms\tremaining: 854ms\n",
      "Stopped by overfitting detector  (50 iterations wait)\n",
      "\n",
      "bestTest = 0.2435128787\n",
      "bestIteration = 76\n",
      "\n",
      "Shrink model to first 77 iterations.\n"
     ]
    },
    {
     "name": "stderr",
     "output_type": "stream",
     "text": [
      "\u001b[32m[I 2025-04-03 00:11:12,362]\u001b[0m Trial 3 finished with value: 0.5653220579740393 and parameters: {'max_depth': 6, 'reg_lambda': 0.05185625114089987, 'learning_rate': 0.4913774936310952, 'min_child_samples': 1}. Best is trial 1 with value: 0.36365609246088937.\u001b[0m\n"
     ]
    },
    {
     "name": "stdout",
     "output_type": "stream",
     "text": [
      "0:\tlearn: 0.3583841\ttest: 0.3966307\tbest: 0.3966307 (0)\ttotal: 1.06ms\tremaining: 1.06s\n",
      "Stopped by overfitting detector  (50 iterations wait)\n",
      "\n",
      "bestTest = 0.3143374995\n",
      "bestIteration = 7\n",
      "\n",
      "Shrink model to first 8 iterations.\n",
      "0:\tlearn: 0.5510414\ttest: 0.5537821\tbest: 0.5537821 (0)\ttotal: 434us\tremaining: 434ms\n",
      "100:\tlearn: 0.0005842\ttest: 0.1008399\tbest: 0.0975282 (94)\ttotal: 49.6ms\tremaining: 441ms\n",
      "Stopped by overfitting detector  (50 iterations wait)\n",
      "\n",
      "bestTest = 0.08501737461\n",
      "bestIteration = 128\n",
      "\n",
      "Shrink model to first 129 iterations.\n",
      "0:\tlearn: 0.5509419\ttest: 0.5547073\tbest: 0.5547073 (0)\ttotal: 417us\tremaining: 417ms\n",
      "100:\tlearn: 0.0004101\ttest: 0.2555394\tbest: 0.2028993 (58)\ttotal: 48.9ms\tremaining: 435ms\n",
      "Stopped by overfitting detector  (50 iterations wait)\n",
      "\n",
      "bestTest = 0.2028992756\n",
      "bestIteration = 58\n",
      "\n",
      "Shrink model to first 59 iterations.\n",
      "0:\tlearn: 0.5509276\ttest: 0.5536428\tbest: 0.5536428 (0)\ttotal: 452us\tremaining: 452ms\n",
      "Stopped by overfitting detector  (50 iterations wait)\n",
      "\n",
      "bestTest = 0.2795152472\n",
      "bestIteration = 32\n",
      "\n",
      "Shrink model to first 33 iterations.\n",
      "0:\tlearn: 0.5516395\ttest: 0.5516643\tbest: 0.5516643 (0)\ttotal: 435us\tremaining: 435ms\n"
     ]
    },
    {
     "name": "stderr",
     "output_type": "stream",
     "text": [
      "\u001b[32m[I 2025-04-03 00:11:12,855]\u001b[0m Trial 4 finished with value: 0.47670468992774134 and parameters: {'max_depth': 4, 'reg_lambda': 0.03563447809368614, 'learning_rate': 0.3538672981615714, 'min_child_samples': 6}. Best is trial 1 with value: 0.36365609246088937.\u001b[0m\n"
     ]
    },
    {
     "name": "stdout",
     "output_type": "stream",
     "text": [
      "100:\tlearn: 0.0003943\ttest: 0.2279019\tbest: 0.2123162 (90)\ttotal: 48.2ms\tremaining: 429ms\n",
      "Stopped by overfitting detector  (50 iterations wait)\n",
      "\n",
      "bestTest = 0.2123161829\n",
      "bestIteration = 90\n",
      "\n",
      "Shrink model to first 91 iterations.\n",
      "0:\tlearn: 0.5529363\ttest: 0.5494602\tbest: 0.5494602 (0)\ttotal: 409us\tremaining: 409ms\n",
      "Stopped by overfitting detector  (50 iterations wait)\n",
      "\n",
      "bestTest = 0.3127574403\n",
      "bestIteration = 9\n",
      "\n",
      "Shrink model to first 10 iterations.\n",
      "Value:  0.36365609246088937\n",
      "best_parameters:  {'max_depth': 6, 'reg_lambda': 0.9655789453975407, 'learning_rate': 0.19935738452046448, 'min_child_samples': 4}\n"
     ]
    },
    {
     "data": {
      "text/html": [
       "<div>                            <div id=\"bdf30ba0-5d20-4590-86ad-048a1c2a2c85\" class=\"plotly-graph-div\" style=\"height:525px; width:100%;\"></div>            <script type=\"text/javascript\">                require([\"plotly\"], function(Plotly) {                    window.PLOTLYENV=window.PLOTLYENV || {};                                    if (document.getElementById(\"bdf30ba0-5d20-4590-86ad-048a1c2a2c85\")) {                    Plotly.newPlot(                        \"bdf30ba0-5d20-4590-86ad-048a1c2a2c85\",                        [{\"cliponaxis\":false,\"hovertemplate\":[\"min_child_samples (IntDistribution): 0.1510229386640805<extra></extra>\",\"learning_rate (FloatDistribution): 0.15851958711418285<extra></extra>\",\"max_depth (IntDistribution): 0.31478652702712373<extra></extra>\",\"reg_lambda (FloatDistribution): 0.37567094719461286<extra></extra>\"],\"marker\":{\"color\":\"rgb(66,146,198)\"},\"orientation\":\"h\",\"text\":[\"0.15\",\"0.16\",\"0.31\",\"0.38\"],\"textposition\":\"outside\",\"x\":[0.1510229386640805,0.15851958711418285,0.31478652702712373,0.37567094719461286],\"y\":[\"min_child_samples\",\"learning_rate\",\"max_depth\",\"reg_lambda\"],\"type\":\"bar\"}],                        {\"showlegend\":false,\"title\":{\"text\":\"Hyperparameter Importances\"},\"xaxis\":{\"title\":{\"text\":\"Importance for Objective Value\"}},\"yaxis\":{\"title\":{\"text\":\"Hyperparameter\"}},\"template\":{\"data\":{\"histogram2dcontour\":[{\"type\":\"histogram2dcontour\",\"colorbar\":{\"outlinewidth\":0,\"ticks\":\"\"},\"colorscale\":[[0.0,\"#0d0887\"],[0.1111111111111111,\"#46039f\"],[0.2222222222222222,\"#7201a8\"],[0.3333333333333333,\"#9c179e\"],[0.4444444444444444,\"#bd3786\"],[0.5555555555555556,\"#d8576b\"],[0.6666666666666666,\"#ed7953\"],[0.7777777777777778,\"#fb9f3a\"],[0.8888888888888888,\"#fdca26\"],[1.0,\"#f0f921\"]]}],\"choropleth\":[{\"type\":\"choropleth\",\"colorbar\":{\"outlinewidth\":0,\"ticks\":\"\"}}],\"histogram2d\":[{\"type\":\"histogram2d\",\"colorbar\":{\"outlinewidth\":0,\"ticks\":\"\"},\"colorscale\":[[0.0,\"#0d0887\"],[0.1111111111111111,\"#46039f\"],[0.2222222222222222,\"#7201a8\"],[0.3333333333333333,\"#9c179e\"],[0.4444444444444444,\"#bd3786\"],[0.5555555555555556,\"#d8576b\"],[0.6666666666666666,\"#ed7953\"],[0.7777777777777778,\"#fb9f3a\"],[0.8888888888888888,\"#fdca26\"],[1.0,\"#f0f921\"]]}],\"heatmap\":[{\"type\":\"heatmap\",\"colorbar\":{\"outlinewidth\":0,\"ticks\":\"\"},\"colorscale\":[[0.0,\"#0d0887\"],[0.1111111111111111,\"#46039f\"],[0.2222222222222222,\"#7201a8\"],[0.3333333333333333,\"#9c179e\"],[0.4444444444444444,\"#bd3786\"],[0.5555555555555556,\"#d8576b\"],[0.6666666666666666,\"#ed7953\"],[0.7777777777777778,\"#fb9f3a\"],[0.8888888888888888,\"#fdca26\"],[1.0,\"#f0f921\"]]}],\"heatmapgl\":[{\"type\":\"heatmapgl\",\"colorbar\":{\"outlinewidth\":0,\"ticks\":\"\"},\"colorscale\":[[0.0,\"#0d0887\"],[0.1111111111111111,\"#46039f\"],[0.2222222222222222,\"#7201a8\"],[0.3333333333333333,\"#9c179e\"],[0.4444444444444444,\"#bd3786\"],[0.5555555555555556,\"#d8576b\"],[0.6666666666666666,\"#ed7953\"],[0.7777777777777778,\"#fb9f3a\"],[0.8888888888888888,\"#fdca26\"],[1.0,\"#f0f921\"]]}],\"contourcarpet\":[{\"type\":\"contourcarpet\",\"colorbar\":{\"outlinewidth\":0,\"ticks\":\"\"}}],\"contour\":[{\"type\":\"contour\",\"colorbar\":{\"outlinewidth\":0,\"ticks\":\"\"},\"colorscale\":[[0.0,\"#0d0887\"],[0.1111111111111111,\"#46039f\"],[0.2222222222222222,\"#7201a8\"],[0.3333333333333333,\"#9c179e\"],[0.4444444444444444,\"#bd3786\"],[0.5555555555555556,\"#d8576b\"],[0.6666666666666666,\"#ed7953\"],[0.7777777777777778,\"#fb9f3a\"],[0.8888888888888888,\"#fdca26\"],[1.0,\"#f0f921\"]]}],\"surface\":[{\"type\":\"surface\",\"colorbar\":{\"outlinewidth\":0,\"ticks\":\"\"},\"colorscale\":[[0.0,\"#0d0887\"],[0.1111111111111111,\"#46039f\"],[0.2222222222222222,\"#7201a8\"],[0.3333333333333333,\"#9c179e\"],[0.4444444444444444,\"#bd3786\"],[0.5555555555555556,\"#d8576b\"],[0.6666666666666666,\"#ed7953\"],[0.7777777777777778,\"#fb9f3a\"],[0.8888888888888888,\"#fdca26\"],[1.0,\"#f0f921\"]]}],\"mesh3d\":[{\"type\":\"mesh3d\",\"colorbar\":{\"outlinewidth\":0,\"ticks\":\"\"}}],\"scatter\":[{\"fillpattern\":{\"fillmode\":\"overlay\",\"size\":10,\"solidity\":0.2},\"type\":\"scatter\"}],\"parcoords\":[{\"type\":\"parcoords\",\"line\":{\"colorbar\":{\"outlinewidth\":0,\"ticks\":\"\"}}}],\"scatterpolargl\":[{\"type\":\"scatterpolargl\",\"marker\":{\"colorbar\":{\"outlinewidth\":0,\"ticks\":\"\"}}}],\"bar\":[{\"error_x\":{\"color\":\"#2a3f5f\"},\"error_y\":{\"color\":\"#2a3f5f\"},\"marker\":{\"line\":{\"color\":\"#E5ECF6\",\"width\":0.5},\"pattern\":{\"fillmode\":\"overlay\",\"size\":10,\"solidity\":0.2}},\"type\":\"bar\"}],\"scattergeo\":[{\"type\":\"scattergeo\",\"marker\":{\"colorbar\":{\"outlinewidth\":0,\"ticks\":\"\"}}}],\"scatterpolar\":[{\"type\":\"scatterpolar\",\"marker\":{\"colorbar\":{\"outlinewidth\":0,\"ticks\":\"\"}}}],\"histogram\":[{\"marker\":{\"pattern\":{\"fillmode\":\"overlay\",\"size\":10,\"solidity\":0.2}},\"type\":\"histogram\"}],\"scattergl\":[{\"type\":\"scattergl\",\"marker\":{\"colorbar\":{\"outlinewidth\":0,\"ticks\":\"\"}}}],\"scatter3d\":[{\"type\":\"scatter3d\",\"line\":{\"colorbar\":{\"outlinewidth\":0,\"ticks\":\"\"}},\"marker\":{\"colorbar\":{\"outlinewidth\":0,\"ticks\":\"\"}}}],\"scattermapbox\":[{\"type\":\"scattermapbox\",\"marker\":{\"colorbar\":{\"outlinewidth\":0,\"ticks\":\"\"}}}],\"scatterternary\":[{\"type\":\"scatterternary\",\"marker\":{\"colorbar\":{\"outlinewidth\":0,\"ticks\":\"\"}}}],\"scattercarpet\":[{\"type\":\"scattercarpet\",\"marker\":{\"colorbar\":{\"outlinewidth\":0,\"ticks\":\"\"}}}],\"carpet\":[{\"aaxis\":{\"endlinecolor\":\"#2a3f5f\",\"gridcolor\":\"white\",\"linecolor\":\"white\",\"minorgridcolor\":\"white\",\"startlinecolor\":\"#2a3f5f\"},\"baxis\":{\"endlinecolor\":\"#2a3f5f\",\"gridcolor\":\"white\",\"linecolor\":\"white\",\"minorgridcolor\":\"white\",\"startlinecolor\":\"#2a3f5f\"},\"type\":\"carpet\"}],\"table\":[{\"cells\":{\"fill\":{\"color\":\"#EBF0F8\"},\"line\":{\"color\":\"white\"}},\"header\":{\"fill\":{\"color\":\"#C8D4E3\"},\"line\":{\"color\":\"white\"}},\"type\":\"table\"}],\"barpolar\":[{\"marker\":{\"line\":{\"color\":\"#E5ECF6\",\"width\":0.5},\"pattern\":{\"fillmode\":\"overlay\",\"size\":10,\"solidity\":0.2}},\"type\":\"barpolar\"}],\"pie\":[{\"automargin\":true,\"type\":\"pie\"}]},\"layout\":{\"autotypenumbers\":\"strict\",\"colorway\":[\"#636efa\",\"#EF553B\",\"#00cc96\",\"#ab63fa\",\"#FFA15A\",\"#19d3f3\",\"#FF6692\",\"#B6E880\",\"#FF97FF\",\"#FECB52\"],\"font\":{\"color\":\"#2a3f5f\"},\"hovermode\":\"closest\",\"hoverlabel\":{\"align\":\"left\"},\"paper_bgcolor\":\"white\",\"plot_bgcolor\":\"#E5ECF6\",\"polar\":{\"bgcolor\":\"#E5ECF6\",\"angularaxis\":{\"gridcolor\":\"white\",\"linecolor\":\"white\",\"ticks\":\"\"},\"radialaxis\":{\"gridcolor\":\"white\",\"linecolor\":\"white\",\"ticks\":\"\"}},\"ternary\":{\"bgcolor\":\"#E5ECF6\",\"aaxis\":{\"gridcolor\":\"white\",\"linecolor\":\"white\",\"ticks\":\"\"},\"baxis\":{\"gridcolor\":\"white\",\"linecolor\":\"white\",\"ticks\":\"\"},\"caxis\":{\"gridcolor\":\"white\",\"linecolor\":\"white\",\"ticks\":\"\"}},\"coloraxis\":{\"colorbar\":{\"outlinewidth\":0,\"ticks\":\"\"}},\"colorscale\":{\"sequential\":[[0.0,\"#0d0887\"],[0.1111111111111111,\"#46039f\"],[0.2222222222222222,\"#7201a8\"],[0.3333333333333333,\"#9c179e\"],[0.4444444444444444,\"#bd3786\"],[0.5555555555555556,\"#d8576b\"],[0.6666666666666666,\"#ed7953\"],[0.7777777777777778,\"#fb9f3a\"],[0.8888888888888888,\"#fdca26\"],[1.0,\"#f0f921\"]],\"sequentialminus\":[[0.0,\"#0d0887\"],[0.1111111111111111,\"#46039f\"],[0.2222222222222222,\"#7201a8\"],[0.3333333333333333,\"#9c179e\"],[0.4444444444444444,\"#bd3786\"],[0.5555555555555556,\"#d8576b\"],[0.6666666666666666,\"#ed7953\"],[0.7777777777777778,\"#fb9f3a\"],[0.8888888888888888,\"#fdca26\"],[1.0,\"#f0f921\"]],\"diverging\":[[0,\"#8e0152\"],[0.1,\"#c51b7d\"],[0.2,\"#de77ae\"],[0.3,\"#f1b6da\"],[0.4,\"#fde0ef\"],[0.5,\"#f7f7f7\"],[0.6,\"#e6f5d0\"],[0.7,\"#b8e186\"],[0.8,\"#7fbc41\"],[0.9,\"#4d9221\"],[1,\"#276419\"]]},\"xaxis\":{\"gridcolor\":\"white\",\"linecolor\":\"white\",\"ticks\":\"\",\"title\":{\"standoff\":15},\"zerolinecolor\":\"white\",\"automargin\":true,\"zerolinewidth\":2},\"yaxis\":{\"gridcolor\":\"white\",\"linecolor\":\"white\",\"ticks\":\"\",\"title\":{\"standoff\":15},\"zerolinecolor\":\"white\",\"automargin\":true,\"zerolinewidth\":2},\"scene\":{\"xaxis\":{\"backgroundcolor\":\"#E5ECF6\",\"gridcolor\":\"white\",\"linecolor\":\"white\",\"showbackground\":true,\"ticks\":\"\",\"zerolinecolor\":\"white\",\"gridwidth\":2},\"yaxis\":{\"backgroundcolor\":\"#E5ECF6\",\"gridcolor\":\"white\",\"linecolor\":\"white\",\"showbackground\":true,\"ticks\":\"\",\"zerolinecolor\":\"white\",\"gridwidth\":2},\"zaxis\":{\"backgroundcolor\":\"#E5ECF6\",\"gridcolor\":\"white\",\"linecolor\":\"white\",\"showbackground\":true,\"ticks\":\"\",\"zerolinecolor\":\"white\",\"gridwidth\":2}},\"shapedefaults\":{\"line\":{\"color\":\"#2a3f5f\"}},\"annotationdefaults\":{\"arrowcolor\":\"#2a3f5f\",\"arrowhead\":0,\"arrowwidth\":1},\"geo\":{\"bgcolor\":\"white\",\"landcolor\":\"#E5ECF6\",\"subunitcolor\":\"white\",\"showland\":true,\"showlakes\":true,\"lakecolor\":\"white\"},\"title\":{\"x\":0.05},\"mapbox\":{\"style\":\"light\"}}}},                        {\"responsive\": true}                    ).then(function(){\n",
       "                            \n",
       "var gd = document.getElementById('bdf30ba0-5d20-4590-86ad-048a1c2a2c85');\n",
       "var x = new MutationObserver(function (mutations, observer) {{\n",
       "        var display = window.getComputedStyle(gd).display;\n",
       "        if (!display || display === 'none') {{\n",
       "            console.log([gd, 'removed!']);\n",
       "            Plotly.purge(gd);\n",
       "            observer.disconnect();\n",
       "        }}\n",
       "}});\n",
       "\n",
       "// Listen for the removal of the full notebook cells\n",
       "var notebookContainer = gd.closest('#notebook-container');\n",
       "if (notebookContainer) {{\n",
       "    x.observe(notebookContainer, {childList: true});\n",
       "}}\n",
       "\n",
       "// Listen for the clearing of the current output cell\n",
       "var outputEl = gd.closest('.output');\n",
       "if (outputEl) {{\n",
       "    x.observe(outputEl, {childList: true});\n",
       "}}\n",
       "\n",
       "                        })                };                });            </script>        </div>"
      ]
     },
     "metadata": {},
     "output_type": "display_data"
    },
    {
     "data": {
      "text/plain": [
       "({'max_depth': 6,\n",
       "  'reg_lambda': 0.9655789453975407,\n",
       "  'learning_rate': 0.19935738452046448,\n",
       "  'min_child_samples': 4},\n",
       " 0.36365609246088937)"
      ]
     },
     "execution_count": 13,
     "metadata": {},
     "output_type": "execute_result"
    }
   ],
   "source": [
    "def cb_objective(trial):\n",
    "\n",
    "    check_params = {\n",
    "                \"verbose\": False,\n",
    "                \"max_depth\": trial.suggest_int(\"max_depth\", 1, 10),\n",
    "                # 'num_leaves': trial.suggest_int('num_leaves', 10, 100),\n",
    "                \"reg_lambda\": trial.suggest_float(\"reg_lambda\", 0, 1.0),\n",
    "                \"learning_rate\": trial.suggest_float(\"learning_rate\", 0.05, 0.5),\n",
    "                \"min_child_samples\": trial.suggest_int(\"min_child_samples\", 1, 10),\n",
    "                \"colsample_bylevel\": trial.suggest_float(\"reg_lambda\", 0, 1.0),\n",
    "            }\n",
    "\n",
    "    new_params = cb_params.copy()\n",
    "    new_params.update(check_params)\n",
    "\n",
    "    model_class = CBClass(model_class = CatBoostClassifier, params = new_params,\n",
    "                          output_prob = True, multi_label = False)\n",
    "\n",
    "    valid_output = np.zeros(len(target))\n",
    "    for split, (tr_idx, val_idx) in enumerate(train_valid_idx_pairs): \n",
    "        model = model_class.train_with_validation(train.loc[tr_idx], target.loc[tr_idx],\n",
    "                                                        train.loc[val_idx], target.loc[val_idx])\n",
    "        valid_output[val_idx] = model_class.predict(model, train.loc[val_idx])\n",
    "    score = balanced_log_loss(target, valid_output)\n",
    "    return score\n",
    "\n",
    "cb_best_params, cb_best_value = param_tuning(cb_objective)\n",
    "cb_best_params, cb_best_value"
   ]
  },
  {
   "cell_type": "code",
   "execution_count": null,
   "id": "d13f7332",
   "metadata": {
    "papermill": {
     "duration": 0.011896,
     "end_time": "2025-04-03T00:11:13.008931",
     "exception": false,
     "start_time": "2025-04-03T00:11:12.997035",
     "status": "completed"
    },
    "tags": []
   },
   "outputs": [],
   "source": []
  }
 ],
 "metadata": {
  "kaggle": {
   "accelerator": "none",
   "dataSources": [
    {
     "databundleVersionId": 5687476,
     "sourceId": 52784,
     "sourceType": "competition"
    },
    {
     "databundleVersionId": 11591244,
     "datasetId": 930977,
     "sourceId": 11188361,
     "sourceType": "datasetVersion"
    },
    {
     "databundleVersionId": 5868506,
     "datasetId": 3327146,
     "sourceId": 5791830,
     "sourceType": "datasetVersion"
    },
    {
     "databundleVersionId": 7545479,
     "datasetId": 921302,
     "sourceId": 7453542,
     "sourceType": "datasetVersion"
    },
    {
     "sourceId": 129537037,
     "sourceType": "kernelVersion"
    }
   ],
   "dockerImageVersionId": 30474,
   "isGpuEnabled": false,
   "isInternetEnabled": true,
   "language": "python",
   "sourceType": "notebook"
  },
  "kernelspec": {
   "display_name": "Python 3",
   "language": "python",
   "name": "python3"
  },
  "language_info": {
   "codemirror_mode": {
    "name": "ipython",
    "version": 3
   },
   "file_extension": ".py",
   "mimetype": "text/x-python",
   "name": "python",
   "nbconvert_exporter": "python",
   "pygments_lexer": "ipython3",
   "version": "3.10.10"
  },
  "papermill": {
   "default_parameters": {},
   "duration": 64.633874,
   "end_time": "2025-04-03T00:11:14.142841",
   "environment_variables": {},
   "exception": null,
   "input_path": "__notebook__.ipynb",
   "output_path": "__notebook__.ipynb",
   "parameters": {},
   "start_time": "2025-04-03T00:10:09.508967",
   "version": "2.4.0"
  }
 },
 "nbformat": 4,
 "nbformat_minor": 5
}
