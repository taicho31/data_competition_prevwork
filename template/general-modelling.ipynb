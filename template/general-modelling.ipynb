{
 "cells": [
  {
   "cell_type": "markdown",
   "id": "8d518e68",
   "metadata": {
    "papermill": {
     "duration": 0.007135,
     "end_time": "2023-11-18T01:05:46.960292",
     "exception": false,
     "start_time": "2023-11-18T01:05:46.953157",
     "status": "completed"
    },
    "tags": []
   },
   "source": [
    "- base: https://www.kaggle.com/code/vadimkamaev/postprocessin-ensemble\n",
    "- select feats by importances and 3 ensembles (no postprocess) \n",
    "- update common class again\n",
    "- refactoring common classes *"
   ]
  },
  {
   "cell_type": "markdown",
   "id": "c9b45c3a",
   "metadata": {
    "papermill": {
     "duration": 0.00615,
     "end_time": "2023-11-18T01:05:46.973292",
     "exception": false,
     "start_time": "2023-11-18T01:05:46.967142",
     "status": "completed"
    },
    "tags": []
   },
   "source": [
    "# common class"
   ]
  },
  {
   "cell_type": "code",
   "execution_count": 1,
   "id": "9190e70e",
   "metadata": {
    "execution": {
     "iopub.execute_input": "2023-11-18T01:05:46.988918Z",
     "iopub.status.busy": "2023-11-18T01:05:46.988084Z",
     "iopub.status.idle": "2023-11-18T01:05:50.841302Z",
     "shell.execute_reply": "2023-11-18T01:05:50.840362Z"
    },
    "papermill": {
     "duration": 3.864582,
     "end_time": "2023-11-18T01:05:50.844254",
     "exception": false,
     "start_time": "2023-11-18T01:05:46.979672",
     "status": "completed"
    },
    "tags": []
   },
   "outputs": [
    {
     "name": "stderr",
     "output_type": "stream",
     "text": [
      "/opt/conda/lib/python3.10/site-packages/scipy/__init__.py:146: UserWarning: A NumPy version >=1.16.5 and <1.23.0 is required for this version of SciPy (detected version 1.23.5\n",
      "  warnings.warn(f\"A NumPy version >={np_minversion} and <{np_maxversion}\"\n"
     ]
    }
   ],
   "source": [
    "import sys\n",
    "import optuna\n",
    "import numpy as np\n",
    "import pandas as pd\n",
    "import lightgbm as lgb\n",
    "import xgboost as xgb\n",
    "from catboost import CatBoostClassifier, CatBoostRegressor\n",
    "sys.path.append('../input/iterativestratification')\n",
    "from iterstrat.ml_stratifiers import MultilabelStratifiedKFold\n",
    "from sklearn.model_selection import StratifiedKFold, KFold\n",
    "\n",
    "from datetime import datetime\n",
    "from sklearn.decomposition import PCA"
   ]
  },
  {
   "cell_type": "code",
   "execution_count": 2,
   "id": "3a1dda0c",
   "metadata": {
    "execution": {
     "iopub.execute_input": "2023-11-18T01:05:50.859837Z",
     "iopub.status.busy": "2023-11-18T01:05:50.859395Z",
     "iopub.status.idle": "2023-11-18T01:05:50.882072Z",
     "shell.execute_reply": "2023-11-18T01:05:50.880799Z"
    },
    "papermill": {
     "duration": 0.033349,
     "end_time": "2023-11-18T01:05:50.884406",
     "exception": false,
     "start_time": "2023-11-18T01:05:50.851057",
     "status": "completed"
    },
    "tags": []
   },
   "outputs": [],
   "source": [
    "class ObjectiveManager():\n",
    "    \"\"\"Class for HyperParameter tuning by Optuna.\"\"\"\n",
    "    def __init__(self, model_name, model, config, tr_idx, val_idx):\n",
    "        self.model_name = model_name\n",
    "        self.config = config\n",
    "        self.model = model\n",
    "        self.tr_idx = tr_idx\n",
    "        self.val_idx = val_idx\n",
    "    \n",
    "    def __call__(self, trial):\n",
    "        if self.model_name == \"lgb\":\n",
    "            # https://lightgbm.readthedocs.io/en/latest/Parameters.html\n",
    "            check_params = {\n",
    "                'num_leaves': trial.suggest_int('num_leaves', 10, 100),\n",
    "                'learning_rate': trial.suggest_float('learning_rate', 0.01, 0.5),\n",
    "                'feature_fraction': trial.suggest_float('feature_fraction', 0.5, 1.0),\n",
    "                'bagging_fraction': trial.suggest_float('bagging_fraction', 0.5, 1.0),\n",
    "                'min_child_samples': trial.suggest_int('min_child_samples', 1, 10),\n",
    "                'lambda_l2': trial.suggest_float('lambda_l2', 0, 0.1),\n",
    "                'lambda_l1': trial.suggest_float('lambda_l1', 0, 0.1),\n",
    "            }\n",
    "            if self.config[\"optuna_mode\"] == \"split\": \n",
    "                evaluate_func = self.model.lgb_train_and_valid\n",
    "                \n",
    "        elif self.model_name == \"xgb\":\n",
    "            # https://xgboost.readthedocs.io/en/stable/parameter.html\n",
    "            check_params = {\n",
    "                'gamma': trial.suggest_float('gamma', 0, 1),\n",
    "                'max_depth': trial.suggest_int('max_depth', 1, 10),\n",
    "                'num_leaves': trial.suggest_int('num_leaves', 10, 100),\n",
    "                'learning_rate': trial.suggest_float('learning_rate', 0.01, 0.5),\n",
    "                'min_child_weight': trial.suggest_int('min_child_weight', 1, 10),\n",
    "                'max_delta_step': trial.suggest_int('max_delta_step', 0, 10),\n",
    "                'subsample': trial.suggest_float('subsample', 0, 1),\n",
    "                'lambda': trial.suggest_float('lambda', 0, 1),\n",
    "                'alpha': trial.suggest_float('alpha', 0, 1),\n",
    "            }\n",
    "            if self.config[\"optuna_mode\"] == \"split\": \n",
    "                evaluate_func = self.model.xgb_train_and_valid\n",
    "\n",
    "        elif self.model_name == \"cb\":\n",
    "            # https://catboost.ai/en/docs/references/training-parameters/\n",
    "            check_params = {\n",
    "                'max_depth': trial.suggest_int('max_depth', 1, 10),\n",
    "                #'num_leaves': trial.suggest_int('num_leaves', 10, 100),\n",
    "                'reg_lambda': trial.suggest_float('reg_lambda', 0, 1.0),\n",
    "                'learning_rate': trial.suggest_float('learning_rate', 0.05, 0.5),\n",
    "                'min_child_samples': trial.suggest_int('min_child_samples', 1, 10),\n",
    "                'colsample_bylevel': trial.suggest_float('reg_lambda', 0, 1.0),\n",
    "            }\n",
    "            if self.config[\"optuna_mode\"] == \"split\": \n",
    "                evaluate_func = self.model.cb_train_and_valid\n",
    "                \n",
    "        feats = self.config[self.model_name][\"feats\"]\n",
    "        params = self.config[self.model_name][\"params\"].copy()\n",
    "        params.update(check_params)\n",
    "        if self.config[\"optuna_mode\"] == \"cv\":\n",
    "            _, val_output, _ = self.model.execute_cv(self.model_name)\n",
    "            score = self.config[\"metric_function\"](self.config[\"target\"], val_output)\n",
    "        else:\n",
    "            _, val_output, _ = evaluate_func(self.tr_idx, self.val_idx, feats, None)\n",
    "            score = self.config[\"metric_function\"](self.config[\"target\"].iloc[val_idx], val_output)\n",
    "        return score\n",
    "    \n",
    "def param_tuning(config, model_name, model, tr_idx = None, val_idx = None, option = \"minimize\"):\n",
    "            \n",
    "    objective = ObjectiveManager(model_name, model, config, tr_idx, val_idx)\n",
    "            \n",
    "    study = optuna.create_study(direction=option) \n",
    "    study.optimize(objective, n_trials=config[\"optuna_trial_num\"])\n",
    "    trial = study.best_trial\n",
    "    print('Value: ', trial.value)\n",
    "    return trial.params"
   ]
  },
  {
   "cell_type": "code",
   "execution_count": 3,
   "id": "84437474",
   "metadata": {
    "execution": {
     "iopub.execute_input": "2023-11-18T01:05:50.900447Z",
     "iopub.status.busy": "2023-11-18T01:05:50.900063Z",
     "iopub.status.idle": "2023-11-18T01:05:50.932816Z",
     "shell.execute_reply": "2023-11-18T01:05:50.931812Z"
    },
    "papermill": {
     "duration": 0.043444,
     "end_time": "2023-11-18T01:05:50.935097",
     "exception": false,
     "start_time": "2023-11-18T01:05:50.891653",
     "status": "completed"
    },
    "tags": []
   },
   "outputs": [],
   "source": [
    "class TreeModelling:\n",
    "    def __init__(self, config):\n",
    "        self.config = config \n",
    "        \n",
    "    def make_split(self, tr_idx, val_idx, feats):\n",
    "        x_tr = self.config[\"train_data\"][feats].iloc[tr_idx]\n",
    "        x_val = self.config[\"train_data\"][feats].iloc[val_idx]\n",
    "        y_tr = self.config[\"target\"].iloc[tr_idx]\n",
    "        y_val = self.config[\"target\"].iloc[val_idx]\n",
    "        return x_tr, x_val, y_tr, y_val\n",
    "    \n",
    "        \n",
    "    def lgb_train_and_valid(self, tr_idx, val_idx, split, verbose=True):\n",
    "        \n",
    "        feats = self.config[\"lgb\"][\"feats\"]\n",
    "        x_tr, x_val, y_tr, y_val = self.make_split(tr_idx, val_idx, feats)\n",
    "        feat_imp_df = pd.DataFrame(feats, columns = [\"feat\"])\n",
    "        \n",
    "        model = lgb.train(self.config[\"lgb\"][\"params\"], lgb.Dataset(x_tr, y_tr), \n",
    "                          self.config[\"lgb\"][\"num_round\"], valid_sets=[lgb.Dataset(x_val, y_val)], \n",
    "                          callbacks = [lgb.early_stopping(stopping_rounds=self.config[\"lgb\"][\"es_round\"], verbose=verbose), \n",
    "                                       lgb.log_evaluation(self.config[\"lgb\"][\"verbose_eval\"])]) \n",
    "        feat_imp_df[\"imp\"+str(split)] = model.feature_importance()\n",
    "        valid_pred = model.predict(x_val)\n",
    "    \n",
    "        return model, valid_pred, feat_imp_df\n",
    "    \n",
    "    def lgb_test(self, models, test):\n",
    "        feats = self.config[\"lgb\"][\"feats\"]\n",
    "        test_pred = [model.predict(test[feats]) for model in models]\n",
    "        test_pred = np.mean(test_pred, axis=0)\n",
    "        return test_pred\n",
    "    \n",
    "\n",
    "    def xgb_train_and_valid(self, tr_idx, val_idx, split):\n",
    "        \n",
    "        feats = self.config[\"xgb\"][\"feats\"]\n",
    "        x_tr, x_val, y_tr, y_val = self.make_split(tr_idx, val_idx, feats)\n",
    "        \n",
    "        xgb_eval = xgb.DMatrix(x_val, label = y_val)\n",
    "        model = xgb.train(self.config[\"xgb\"][\"params\"], xgb.DMatrix(x_tr, label = y_tr), \n",
    "                          self.config[\"xgb\"][\"num_round\"], evals = [(xgb_eval, \"eval\")], \n",
    "                          early_stopping_rounds=self.config[\"xgb\"][\"es_round\"], \n",
    "                          verbose_eval = self.config[\"xgb\"][\"verbose_eval\"])\n",
    "        feat_imp_df = pd.DataFrame(model.get_score(importance_type=\"total_gain\").items(), \n",
    "                                   columns =[\"feat\", \"imp\"+str(split)])\n",
    "        valid_pred = model.predict(xgb_eval, iteration_range=(0, model.best_ntree_limit))\n",
    "    \n",
    "        return model, valid_pred, feat_imp_df\n",
    "    \n",
    "    def xgb_test(self, models, test):\n",
    "        feats = self.config[\"xgb\"][\"feats\"]\n",
    "        dtest = xgb.DMatrix(test[feats])\n",
    "        test_pred = [model.predict(dtest, iteration_range=(0, model.best_ntree_limit)) for model in models]\n",
    "        test_pred = np.mean(test_pred, axis=0)\n",
    "        return test_pred\n",
    "\n",
    "    \n",
    "    def cb_train_and_valid(self, tr_idx, val_idx, split):\n",
    "        \n",
    "        feats = self.config[\"cb\"][\"feats\"]\n",
    "        x_tr, x_val, y_tr, y_val = self.make_split(tr_idx, val_idx, feats)\n",
    "        feat_imp_df = pd.DataFrame(feats, columns = [\"feat\"]) \n",
    "        \n",
    "        if self.config[\"task_type\"] == \"classification\":\n",
    "            model = CatBoostClassifier(**self.config[\"cb\"][\"params\"])\n",
    "            model.fit(x_tr, y_tr, eval_set=[(x_val, y_val)], \n",
    "                      early_stopping_rounds=self.config[\"cb\"][\"es_round\"],\n",
    "                      verbose_eval = self.config[\"cb\"][\"verbose_eval\"])\n",
    "            valid_pred = model.predict_proba(x_val)[:,1]\n",
    "        elif self.config[\"task_type\"]:\n",
    "            model = CatBoostRegressor(**self.config[\"cb\"][\"params\"])\n",
    "            model.fit(x_tr, y_tr, eval_set=[(x_val, y_val)], \n",
    "                      early_stopping_rounds=self.config[\"cb\"][\"es_round\"], \n",
    "                      verbose_eval = self.config[\"cb\"][\"verbose_eval\"])\n",
    "            valid_pred = model.predict(x_val)\n",
    "        \n",
    "        feat_imp_df[\"imp\"+str(split)] = model.get_feature_importance()\n",
    "    \n",
    "        return model, valid_pred, feat_imp_df\n",
    "    \n",
    "    def cb_test(self, models, test):\n",
    "        feats = self.config[\"cb\"][\"feats\"]\n",
    "        if self.config[\"task_type\"] == \"classification\":\n",
    "            test_pred = [model.predict_proba(test[feats])[:,1] for model in models]\n",
    "        else:\n",
    "            test_pred = [model.predict(test[feats]) for model in models]\n",
    "        test_pred = np.mean(test_pred, axis=0)        \n",
    "        return test_pred\n",
    "    \n",
    "    \n",
    "    def execute_cv(self, model_name):\n",
    "            \n",
    "        models = []\n",
    "        feats = self.config[model_name][\"feats\"]\n",
    "        valid_output = np.zeros(len(self.config[\"target\"]))\n",
    "        \n",
    "        if model_name == \"lgb\":\n",
    "            func = self.lgb_train_and_valid\n",
    "        elif model_name == \"xgb\":\n",
    "            func = self.xgb_train_and_valid\n",
    "        elif model_name == \"cb\":\n",
    "            func = self.cb_train_and_valid\n",
    "        \n",
    "        ####\n",
    "        cv_scheme = MultilabelStratifiedKFold(5, shuffle=True, random_state=42).split(self.config[\"train_data\"],\n",
    "                                                                                      train_stratify)\n",
    "        ####\n",
    "    \n",
    "        for split, (tr_idx, val_idx) in enumerate(cv_scheme): \n",
    "            if split == 0:\n",
    "                model, valid_pred, feat_imp_df = func(tr_idx, val_idx, split)\n",
    "            else:\n",
    "                model, valid_pred, tmp_imp_df = func(tr_idx, val_idx, split)\n",
    "                feat_imp_df = pd.merge(feat_imp_df, tmp_imp_df, on = \"feat\", how = \"inner\")\n",
    "            valid_output[val_idx] = valid_pred\n",
    "            models.append(model)\n",
    "    \n",
    "        feat_imp_df[\"sum\"] = feat_imp_df.iloc[:,1:].sum(axis=1)\n",
    "        val_score = self.config[\"metric_function\"](self.config[\"target\"], valid_output)\n",
    "        print(\"validation score: \", val_score)\n",
    "        print(\" \")\n",
    "    \n",
    "        return models, valid_output, feat_imp_df"
   ]
  },
  {
   "cell_type": "markdown",
   "id": "13691218",
   "metadata": {
    "papermill": {
     "duration": 0.00704,
     "end_time": "2023-11-18T01:05:50.949145",
     "exception": false,
     "start_time": "2023-11-18T01:05:50.942105",
     "status": "completed"
    },
    "tags": []
   },
   "source": [
    "# preprocess"
   ]
  },
  {
   "cell_type": "code",
   "execution_count": 4,
   "id": "e5d88d0c",
   "metadata": {
    "execution": {
     "iopub.execute_input": "2023-11-18T01:05:50.965394Z",
     "iopub.status.busy": "2023-11-18T01:05:50.964799Z",
     "iopub.status.idle": "2023-11-18T01:05:51.133871Z",
     "shell.execute_reply": "2023-11-18T01:05:51.132234Z"
    },
    "papermill": {
     "duration": 0.18168,
     "end_time": "2023-11-18T01:05:51.138252",
     "exception": false,
     "start_time": "2023-11-18T01:05:50.956572",
     "status": "completed"
    },
    "tags": []
   },
   "outputs": [
    {
     "name": "stdout",
     "output_type": "stream",
     "text": [
      "(617, 79) (5, 73)\n"
     ]
    }
   ],
   "source": [
    "train = pd.read_csv('/kaggle/input/icr-identify-age-related-conditions/train.csv')\n",
    "test = pd.read_csv('/kaggle/input/icr-identify-age-related-conditions/test.csv')\n",
    "sample = pd.read_csv('/kaggle/input/icr-identify-age-related-conditions/sample_submission.csv')\n",
    "greeks = pd.read_csv('/kaggle/input/icr-identify-age-related-conditions/greeks.csv')\n",
    "\n",
    "\n",
    "train['EJ'] = train['EJ'].map({'A': 0, 'B': 1})\n",
    "test['EJ']  = test['EJ'].map({'A': 0, 'B': 1})\n",
    "\n",
    "# process epsilon\n",
    "train = pd.merge(train, greeks, on = \"Id\", how = \"inner\")\n",
    "train_stratify = train[[\"Class\", \"Beta\", \"Delta\", \"Gamma\"]] \n",
    "train[\"Epsilon_ordinal\"] = train[\"Epsilon\"].map(lambda x: datetime.strptime(x,'%m/%d/%Y').toordinal() if x != \"Unknown\" else np.nan)\n",
    "\n",
    "org_features = [n for n in train.columns if n not in ['Class', 'Id', 'Alpha', \"Beta\", \"Gamma\", \"Delta\", \"Epsilon\"]]\n",
    "test_times = pd.DataFrame([train.Epsilon_ordinal.max() + 1] * len(test), columns = [\"Epsilon_ordinal\"])\n",
    "final_test = pd.concat((test, test_times), axis=1)\n",
    "\n",
    "# fill missing value\n",
    "train.fillna(-999, inplace=True)\n",
    "final_test.fillna(-999, inplace=True)\n",
    "\n",
    "# add pca columns\n",
    "pca_feat_num = 15\n",
    "pca_cols = [\"pca\"+str(i+1) for i in range(pca_feat_num)]\n",
    "pca = PCA(n_components=pca_feat_num,random_state=42)\n",
    "pca_train = pca.fit_transform(train[org_features])\n",
    "pca_test = pca.transform(final_test[org_features])\n",
    "pca_train = pd.DataFrame(pca_train, columns=pca_cols)\n",
    "pca_test = pd.DataFrame(pca_test, columns=pca_cols)\n",
    "train = pd.concat([train, pca_train],axis=1)\n",
    "final_test = pd.concat([final_test, pca_test],axis=1)\n",
    "\n",
    "print(train.shape, final_test.shape)"
   ]
  },
  {
   "cell_type": "markdown",
   "id": "3bfd374f",
   "metadata": {
    "papermill": {
     "duration": 0.026124,
     "end_time": "2023-11-18T01:05:51.184198",
     "exception": false,
     "start_time": "2023-11-18T01:05:51.158074",
     "status": "completed"
    },
    "tags": []
   },
   "source": [
    "# config"
   ]
  },
  {
   "cell_type": "code",
   "execution_count": 5,
   "id": "2339dd31",
   "metadata": {
    "execution": {
     "iopub.execute_input": "2023-11-18T01:05:51.231647Z",
     "iopub.status.busy": "2023-11-18T01:05:51.231261Z",
     "iopub.status.idle": "2023-11-18T01:05:51.241750Z",
     "shell.execute_reply": "2023-11-18T01:05:51.240529Z"
    },
    "papermill": {
     "duration": 0.032996,
     "end_time": "2023-11-18T01:05:51.244061",
     "exception": false,
     "start_time": "2023-11-18T01:05:51.211065",
     "status": "completed"
    },
    "tags": []
   },
   "outputs": [],
   "source": [
    "from sklearn.metrics import log_loss\n",
    "def balanced_log_loss(y_true, y_pred):\n",
    "    nc = np.bincount(y_true)\n",
    "    return log_loss(y_true, y_pred, sample_weight = 1/nc[y_true], eps=1e-15)\n",
    "\n",
    "config = {\n",
    "    \"xgb\": {\n",
    "        \"feats\": org_features + pca_cols,\n",
    "        \"num_round\" : 1000,\n",
    "        \"es_round\" : 50,\n",
    "        \"verbose_eval\": 100,\n",
    "        \"params\" : {\n",
    "            'objective': 'binary:logistic',\n",
    "            'eval_metric': 'logloss',\n",
    "            'verbosity': 0,\n",
    "            'seed': 42\n",
    "        },   \n",
    "    },\n",
    "    \n",
    "    \"lgb\": {\n",
    "        \"feats\": org_features + pca_cols,\n",
    "        \"num_round\" : 1000,\n",
    "        \"es_round\" : 20,\n",
    "        \"verbose_eval\": 100,\n",
    "        \"params\" : {\n",
    "            'objective': 'binary', \n",
    "            'metric': 'binary_logloss', \n",
    "            'boosting': 'goss',\n",
    "            'verbose': -1,\n",
    "            'seed': 42,\n",
    "            'is_unbalance': True\n",
    "        },   \n",
    "    },\n",
    "\n",
    "    \"cb\": {\n",
    "        \"feats\": org_features + pca_cols,\n",
    "        \"es_round\" : 40,\n",
    "        \"verbose_eval\": 100,\n",
    "        \"params\" : {\n",
    "            'loss_function': 'Logloss',\n",
    "            'iterations': 1000,  \n",
    "            'random_seed': 42,\n",
    "            'use_best_model' : True\n",
    "        },\n",
    "    },\n",
    "    \"task_type\": \"classification\",\n",
    "    \"train_data\": train,\n",
    "    \"test_data\": final_test,\n",
    "    \"target\": train.Class,\n",
    "    \"metric_function\" : balanced_log_loss,\n",
    "    # optuna config\n",
    "    \"optuna_trial_num\": 5,\n",
    "    \"optuna_mode\" : \"cv\",\n",
    "}"
   ]
  },
  {
   "cell_type": "markdown",
   "id": "0c026c7b",
   "metadata": {
    "papermill": {
     "duration": 0.006478,
     "end_time": "2023-11-18T01:05:51.257392",
     "exception": false,
     "start_time": "2023-11-18T01:05:51.250914",
     "status": "completed"
    },
    "tags": []
   },
   "source": [
    "# tree model"
   ]
  },
  {
   "cell_type": "code",
   "execution_count": 6,
   "id": "48591424",
   "metadata": {
    "execution": {
     "iopub.execute_input": "2023-11-18T01:05:51.272971Z",
     "iopub.status.busy": "2023-11-18T01:05:51.272563Z",
     "iopub.status.idle": "2023-11-18T01:05:51.277443Z",
     "shell.execute_reply": "2023-11-18T01:05:51.276595Z"
    },
    "papermill": {
     "duration": 0.015313,
     "end_time": "2023-11-18T01:05:51.279557",
     "exception": false,
     "start_time": "2023-11-18T01:05:51.264244",
     "status": "completed"
    },
    "tags": []
   },
   "outputs": [],
   "source": [
    "treemodel = TreeModelling(config)"
   ]
  },
  {
   "cell_type": "markdown",
   "id": "601bcff4",
   "metadata": {
    "papermill": {
     "duration": 0.006407,
     "end_time": "2023-11-18T01:05:51.292764",
     "exception": false,
     "start_time": "2023-11-18T01:05:51.286357",
     "status": "completed"
    },
    "tags": []
   },
   "source": [
    "## lgb"
   ]
  },
  {
   "cell_type": "code",
   "execution_count": 7,
   "id": "3562b83c",
   "metadata": {
    "execution": {
     "iopub.execute_input": "2023-11-18T01:05:51.308409Z",
     "iopub.status.busy": "2023-11-18T01:05:51.307656Z",
     "iopub.status.idle": "2023-11-18T01:05:53.072965Z",
     "shell.execute_reply": "2023-11-18T01:05:53.071687Z"
    },
    "papermill": {
     "duration": 1.776339,
     "end_time": "2023-11-18T01:05:53.075786",
     "exception": false,
     "start_time": "2023-11-18T01:05:51.299447",
     "status": "completed"
    },
    "tags": []
   },
   "outputs": [
    {
     "name": "stdout",
     "output_type": "stream",
     "text": [
      "Training until validation scores don't improve for 20 rounds\n",
      "[100]\tvalid_0's binary_logloss: 0.0753021\n",
      "Early stopping, best iteration is:\n",
      "[133]\tvalid_0's binary_logloss: 0.0568181\n",
      "Training until validation scores don't improve for 20 rounds\n",
      "[100]\tvalid_0's binary_logloss: 0.190418\n",
      "Early stopping, best iteration is:\n",
      "[114]\tvalid_0's binary_logloss: 0.181247\n",
      "Training until validation scores don't improve for 20 rounds\n",
      "[100]\tvalid_0's binary_logloss: 0.173883\n",
      "Early stopping, best iteration is:\n",
      "[117]\tvalid_0's binary_logloss: 0.171541\n",
      "Training until validation scores don't improve for 20 rounds\n",
      "[100]\tvalid_0's binary_logloss: 0.166974\n",
      "Early stopping, best iteration is:\n",
      "[176]\tvalid_0's binary_logloss: 0.148852\n",
      "Training until validation scores don't improve for 20 rounds\n",
      "Early stopping, best iteration is:\n",
      "[71]\tvalid_0's binary_logloss: 0.156839\n",
      "validation score:  0.22179991403414676\n",
      " \n"
     ]
    }
   ],
   "source": [
    "lgb_models, lgb_val_output, lgb_imp_df = treemodel.execute_cv(\"lgb\")\n",
    "lgb_test_output = treemodel.lgb_test(lgb_models, config[\"test_data\"])"
   ]
  },
  {
   "cell_type": "code",
   "execution_count": 8,
   "id": "a457535f",
   "metadata": {
    "execution": {
     "iopub.execute_input": "2023-11-18T01:05:53.092558Z",
     "iopub.status.busy": "2023-11-18T01:05:53.092185Z",
     "iopub.status.idle": "2023-11-18T01:06:02.677004Z",
     "shell.execute_reply": "2023-11-18T01:06:02.675890Z"
    },
    "papermill": {
     "duration": 9.596186,
     "end_time": "2023-11-18T01:06:02.679579",
     "exception": false,
     "start_time": "2023-11-18T01:05:53.083393",
     "status": "completed"
    },
    "tags": []
   },
   "outputs": [
    {
     "name": "stderr",
     "output_type": "stream",
     "text": [
      "\u001b[32m[I 2023-11-18 01:05:53,094]\u001b[0m A new study created in memory with name: no-name-b5695834-d807-4b7b-a3aa-df34175d5143\u001b[0m\n"
     ]
    },
    {
     "name": "stdout",
     "output_type": "stream",
     "text": [
      "Training until validation scores don't improve for 20 rounds\n",
      "[100]\tvalid_0's binary_logloss: 0.0753021\n",
      "Early stopping, best iteration is:\n",
      "[133]\tvalid_0's binary_logloss: 0.0568181\n",
      "Training until validation scores don't improve for 20 rounds\n",
      "[100]\tvalid_0's binary_logloss: 0.190418\n",
      "Early stopping, best iteration is:\n",
      "[114]\tvalid_0's binary_logloss: 0.181247\n",
      "Training until validation scores don't improve for 20 rounds\n",
      "[100]\tvalid_0's binary_logloss: 0.173883\n",
      "Early stopping, best iteration is:\n",
      "[117]\tvalid_0's binary_logloss: 0.171541\n",
      "Training until validation scores don't improve for 20 rounds\n",
      "[100]\tvalid_0's binary_logloss: 0.166974\n",
      "Early stopping, best iteration is:\n",
      "[176]\tvalid_0's binary_logloss: 0.148852\n",
      "Training until validation scores don't improve for 20 rounds\n",
      "Early stopping, best iteration is:\n",
      "[71]\tvalid_0's binary_logloss: 0.156839\n"
     ]
    },
    {
     "name": "stderr",
     "output_type": "stream",
     "text": [
      "\u001b[32m[I 2023-11-18 01:05:54,761]\u001b[0m Trial 0 finished with value: 0.22179991403414676 and parameters: {'num_leaves': 71, 'learning_rate': 0.21606492576359745, 'feature_fraction': 0.6608910760693518, 'bagging_fraction': 0.8424804482547122, 'min_child_samples': 10, 'lambda_l2': 0.002318107061900232, 'lambda_l1': 0.08315354314938368}. Best is trial 0 with value: 0.22179991403414676.\u001b[0m\n"
     ]
    },
    {
     "name": "stdout",
     "output_type": "stream",
     "text": [
      "validation score:  0.22179991403414676\n",
      " \n",
      "Training until validation scores don't improve for 20 rounds\n",
      "[100]\tvalid_0's binary_logloss: 0.0753021\n",
      "Early stopping, best iteration is:\n",
      "[133]\tvalid_0's binary_logloss: 0.0568181\n",
      "Training until validation scores don't improve for 20 rounds\n",
      "[100]\tvalid_0's binary_logloss: 0.190418\n",
      "Early stopping, best iteration is:\n",
      "[114]\tvalid_0's binary_logloss: 0.181247\n",
      "Training until validation scores don't improve for 20 rounds\n",
      "[100]\tvalid_0's binary_logloss: 0.173883\n",
      "Early stopping, best iteration is:\n",
      "[117]\tvalid_0's binary_logloss: 0.171541\n",
      "Training until validation scores don't improve for 20 rounds\n",
      "[100]\tvalid_0's binary_logloss: 0.166974\n",
      "Early stopping, best iteration is:\n",
      "[176]\tvalid_0's binary_logloss: 0.148852\n",
      "Training until validation scores don't improve for 20 rounds\n",
      "Early stopping, best iteration is:\n",
      "[71]\tvalid_0's binary_logloss: 0.156839\n"
     ]
    },
    {
     "name": "stderr",
     "output_type": "stream",
     "text": [
      "\u001b[32m[I 2023-11-18 01:05:56,458]\u001b[0m Trial 1 finished with value: 0.22179991403414676 and parameters: {'num_leaves': 76, 'learning_rate': 0.48597269316971803, 'feature_fraction': 0.7343401421922306, 'bagging_fraction': 0.8692376672155666, 'min_child_samples': 5, 'lambda_l2': 0.0775177431766047, 'lambda_l1': 0.01688443631801524}. Best is trial 0 with value: 0.22179991403414676.\u001b[0m\n"
     ]
    },
    {
     "name": "stdout",
     "output_type": "stream",
     "text": [
      "validation score:  0.22179991403414676\n",
      " \n",
      "Training until validation scores don't improve for 20 rounds\n",
      "[100]\tvalid_0's binary_logloss: 0.0753021\n",
      "Early stopping, best iteration is:\n",
      "[133]\tvalid_0's binary_logloss: 0.0568181\n",
      "Training until validation scores don't improve for 20 rounds\n",
      "[100]\tvalid_0's binary_logloss: 0.190418\n",
      "Early stopping, best iteration is:\n",
      "[114]\tvalid_0's binary_logloss: 0.181247\n",
      "Training until validation scores don't improve for 20 rounds\n",
      "[100]\tvalid_0's binary_logloss: 0.173883\n",
      "Early stopping, best iteration is:\n",
      "[117]\tvalid_0's binary_logloss: 0.171541\n",
      "Training until validation scores don't improve for 20 rounds\n",
      "[100]\tvalid_0's binary_logloss: 0.166974\n",
      "Early stopping, best iteration is:\n",
      "[176]\tvalid_0's binary_logloss: 0.148852\n",
      "Training until validation scores don't improve for 20 rounds\n"
     ]
    },
    {
     "name": "stderr",
     "output_type": "stream",
     "text": [
      "\u001b[32m[I 2023-11-18 01:05:58,150]\u001b[0m Trial 2 finished with value: 0.22179991403414676 and parameters: {'num_leaves': 39, 'learning_rate': 0.4245122489138636, 'feature_fraction': 0.9374812578695819, 'bagging_fraction': 0.7127106911479574, 'min_child_samples': 10, 'lambda_l2': 0.03822305242216028, 'lambda_l1': 0.060403332063304886}. Best is trial 0 with value: 0.22179991403414676.\u001b[0m\n"
     ]
    },
    {
     "name": "stdout",
     "output_type": "stream",
     "text": [
      "Early stopping, best iteration is:\n",
      "[71]\tvalid_0's binary_logloss: 0.156839\n",
      "validation score:  0.22179991403414676\n",
      " \n",
      "Training until validation scores don't improve for 20 rounds\n",
      "[100]\tvalid_0's binary_logloss: 0.0753021\n",
      "Early stopping, best iteration is:\n",
      "[133]\tvalid_0's binary_logloss: 0.0568181\n",
      "Training until validation scores don't improve for 20 rounds\n",
      "[100]\tvalid_0's binary_logloss: 0.190418\n",
      "Early stopping, best iteration is:\n",
      "[114]\tvalid_0's binary_logloss: 0.181247\n",
      "Training until validation scores don't improve for 20 rounds\n",
      "[100]\tvalid_0's binary_logloss: 0.173883\n",
      "Early stopping, best iteration is:\n",
      "[117]\tvalid_0's binary_logloss: 0.171541\n",
      "Training until validation scores don't improve for 20 rounds\n",
      "[100]\tvalid_0's binary_logloss: 0.166974\n",
      "Early stopping, best iteration is:\n",
      "[176]\tvalid_0's binary_logloss: 0.148852\n",
      "Training until validation scores don't improve for 20 rounds\n"
     ]
    },
    {
     "name": "stderr",
     "output_type": "stream",
     "text": [
      "\u001b[32m[I 2023-11-18 01:05:59,939]\u001b[0m Trial 3 finished with value: 0.22179991403414676 and parameters: {'num_leaves': 91, 'learning_rate': 0.39045139678936347, 'feature_fraction': 0.6444971986230041, 'bagging_fraction': 0.6627849341152106, 'min_child_samples': 5, 'lambda_l2': 0.003937299850873444, 'lambda_l1': 0.0020529119492702533}. Best is trial 0 with value: 0.22179991403414676.\u001b[0m\n"
     ]
    },
    {
     "name": "stdout",
     "output_type": "stream",
     "text": [
      "Early stopping, best iteration is:\n",
      "[71]\tvalid_0's binary_logloss: 0.156839\n",
      "validation score:  0.22179991403414676\n",
      " \n",
      "Training until validation scores don't improve for 20 rounds\n",
      "[100]\tvalid_0's binary_logloss: 0.0753021\n",
      "Early stopping, best iteration is:\n",
      "[133]\tvalid_0's binary_logloss: 0.0568181\n",
      "Training until validation scores don't improve for 20 rounds\n",
      "[100]\tvalid_0's binary_logloss: 0.190418\n",
      "Early stopping, best iteration is:\n",
      "[114]\tvalid_0's binary_logloss: 0.181247\n",
      "Training until validation scores don't improve for 20 rounds\n",
      "[100]\tvalid_0's binary_logloss: 0.173883\n",
      "Early stopping, best iteration is:\n",
      "[117]\tvalid_0's binary_logloss: 0.171541\n",
      "Training until validation scores don't improve for 20 rounds\n",
      "[100]\tvalid_0's binary_logloss: 0.166974\n",
      "Early stopping, best iteration is:\n",
      "[176]\tvalid_0's binary_logloss: 0.148852\n",
      "Training until validation scores don't improve for 20 rounds\n",
      "Early stopping, best iteration is:\n",
      "[71]\tvalid_0's binary_logloss: 0.156839\n"
     ]
    },
    {
     "name": "stderr",
     "output_type": "stream",
     "text": [
      "\u001b[32m[I 2023-11-18 01:06:02,667]\u001b[0m Trial 4 finished with value: 0.22179991403414676 and parameters: {'num_leaves': 17, 'learning_rate': 0.3842755399569132, 'feature_fraction': 0.6767781818198513, 'bagging_fraction': 0.6235528373641517, 'min_child_samples': 4, 'lambda_l2': 0.05534887017307383, 'lambda_l1': 0.028463241064023405}. Best is trial 0 with value: 0.22179991403414676.\u001b[0m\n"
     ]
    },
    {
     "name": "stdout",
     "output_type": "stream",
     "text": [
      "validation score:  0.22179991403414676\n",
      " \n",
      "Value:  0.22179991403414676\n"
     ]
    },
    {
     "data": {
      "text/plain": [
       "{'num_leaves': 71,\n",
       " 'learning_rate': 0.21606492576359745,\n",
       " 'feature_fraction': 0.6608910760693518,\n",
       " 'bagging_fraction': 0.8424804482547122,\n",
       " 'min_child_samples': 10,\n",
       " 'lambda_l2': 0.002318107061900232,\n",
       " 'lambda_l1': 0.08315354314938368}"
      ]
     },
     "execution_count": 8,
     "metadata": {},
     "output_type": "execute_result"
    }
   ],
   "source": [
    "lgb_best_params = param_tuning(config = config, model_name = \"lgb\", model = treemodel)\n",
    "lgb_best_params"
   ]
  },
  {
   "cell_type": "markdown",
   "id": "f288c951",
   "metadata": {
    "papermill": {
     "duration": 0.011372,
     "end_time": "2023-11-18T01:06:02.702877",
     "exception": false,
     "start_time": "2023-11-18T01:06:02.691505",
     "status": "completed"
    },
    "tags": []
   },
   "source": [
    "## xgb"
   ]
  },
  {
   "cell_type": "code",
   "execution_count": 9,
   "id": "e1d66ac7",
   "metadata": {
    "execution": {
     "iopub.execute_input": "2023-11-18T01:06:02.727872Z",
     "iopub.status.busy": "2023-11-18T01:06:02.726790Z",
     "iopub.status.idle": "2023-11-18T01:06:05.091543Z",
     "shell.execute_reply": "2023-11-18T01:06:05.090236Z"
    },
    "papermill": {
     "duration": 2.380181,
     "end_time": "2023-11-18T01:06:05.094294",
     "exception": false,
     "start_time": "2023-11-18T01:06:02.714113",
     "status": "completed"
    },
    "tags": []
   },
   "outputs": [
    {
     "name": "stdout",
     "output_type": "stream",
     "text": [
      "[0]\teval-logloss:0.50062\n",
      "[100]\teval-logloss:0.07995\n",
      "[200]\teval-logloss:0.07652\n",
      "[294]\teval-logloss:0.07731\n",
      "[0]\teval-logloss:0.52655\n",
      "[78]\teval-logloss:0.15152\n",
      "[0]\teval-logloss:0.50637\n",
      "[73]\teval-logloss:0.16337\n",
      "[0]\teval-logloss:0.52571\n",
      "[100]\teval-logloss:0.15744\n",
      "[145]\teval-logloss:0.15881\n",
      "[0]\teval-logloss:0.52212\n",
      "[72]\teval-logloss:0.20594\n",
      "validation score:  0.31216516835643554\n",
      " \n"
     ]
    }
   ],
   "source": [
    "xgb_models, xgb_val_output, xgb_imp_df = treemodel.execute_cv(\"xgb\")\n",
    "xgb_test_output = treemodel.xgb_test(xgb_models, config[\"test_data\"])"
   ]
  },
  {
   "cell_type": "code",
   "execution_count": 10,
   "id": "7aa16f80",
   "metadata": {
    "execution": {
     "iopub.execute_input": "2023-11-18T01:06:05.122922Z",
     "iopub.status.busy": "2023-11-18T01:06:05.122516Z",
     "iopub.status.idle": "2023-11-18T01:06:16.831290Z",
     "shell.execute_reply": "2023-11-18T01:06:16.830238Z"
    },
    "papermill": {
     "duration": 11.725636,
     "end_time": "2023-11-18T01:06:16.833705",
     "exception": false,
     "start_time": "2023-11-18T01:06:05.108069",
     "status": "completed"
    },
    "tags": []
   },
   "outputs": [
    {
     "name": "stderr",
     "output_type": "stream",
     "text": [
      "\u001b[32m[I 2023-11-18 01:06:05,124]\u001b[0m A new study created in memory with name: no-name-e7087a31-2f99-4dcc-ac81-b4cad81f4bd4\u001b[0m\n"
     ]
    },
    {
     "name": "stdout",
     "output_type": "stream",
     "text": [
      "[0]\teval-logloss:0.50062\n",
      "[100]\teval-logloss:0.07995\n",
      "[200]\teval-logloss:0.07652\n",
      "[294]\teval-logloss:0.07731\n",
      "[0]\teval-logloss:0.52655\n",
      "[78]\teval-logloss:0.15152\n",
      "[0]\teval-logloss:0.50637\n",
      "[74]\teval-logloss:0.16255\n",
      "[0]\teval-logloss:0.52571\n",
      "[100]\teval-logloss:0.15744\n",
      "[144]\teval-logloss:0.15872\n",
      "[0]\teval-logloss:0.52212\n",
      "[72]\teval-logloss:0.20594\n"
     ]
    },
    {
     "name": "stderr",
     "output_type": "stream",
     "text": [
      "\u001b[32m[I 2023-11-18 01:06:07,470]\u001b[0m Trial 0 finished with value: 0.31216516835643554 and parameters: {'gamma': 0.666296797420977, 'max_depth': 7, 'num_leaves': 85, 'learning_rate': 0.36023275970736934, 'min_child_weight': 1, 'max_delta_step': 2, 'subsample': 0.07006128213587715, 'lambda': 0.8111668883534335, 'alpha': 0.05512814437811153}. Best is trial 0 with value: 0.31216516835643554.\u001b[0m\n"
     ]
    },
    {
     "name": "stdout",
     "output_type": "stream",
     "text": [
      "validation score:  0.31216516835643554\n",
      " \n",
      "[0]\teval-logloss:0.50062\n",
      "[100]\teval-logloss:0.07995\n",
      "[200]\teval-logloss:0.07652\n",
      "[293]\teval-logloss:0.07732\n",
      "[0]\teval-logloss:0.52655\n",
      "[78]\teval-logloss:0.15152\n",
      "[0]\teval-logloss:0.50637\n",
      "[73]\teval-logloss:0.16337\n",
      "[0]\teval-logloss:0.52571\n",
      "[100]\teval-logloss:0.15744\n",
      "[145]\teval-logloss:0.15881\n",
      "[0]\teval-logloss:0.52212\n",
      "[73]\teval-logloss:0.20678\n"
     ]
    },
    {
     "name": "stderr",
     "output_type": "stream",
     "text": [
      "\u001b[32m[I 2023-11-18 01:06:09,814]\u001b[0m Trial 1 finished with value: 0.31216516835643554 and parameters: {'gamma': 0.01671845237795755, 'max_depth': 9, 'num_leaves': 41, 'learning_rate': 0.29768581917864334, 'min_child_weight': 2, 'max_delta_step': 2, 'subsample': 0.04242094836640775, 'lambda': 0.7208517725554118, 'alpha': 0.07281482981385534}. Best is trial 0 with value: 0.31216516835643554.\u001b[0m\n"
     ]
    },
    {
     "name": "stdout",
     "output_type": "stream",
     "text": [
      "validation score:  0.31216516835643554\n",
      " \n",
      "[0]\teval-logloss:0.50062\n",
      "[100]\teval-logloss:0.07995\n",
      "[200]\teval-logloss:0.07652\n",
      "[294]\teval-logloss:0.07731\n",
      "[0]\teval-logloss:0.52655\n",
      "[78]\teval-logloss:0.15152\n",
      "[0]\teval-logloss:0.50637\n",
      "[73]\teval-logloss:0.16337\n",
      "[0]\teval-logloss:0.52571\n",
      "[100]\teval-logloss:0.15744\n",
      "[144]\teval-logloss:0.15872\n",
      "[0]\teval-logloss:0.52212\n",
      "[73]\teval-logloss:0.20678\n"
     ]
    },
    {
     "name": "stderr",
     "output_type": "stream",
     "text": [
      "\u001b[32m[I 2023-11-18 01:06:12,178]\u001b[0m Trial 2 finished with value: 0.31216516835643554 and parameters: {'gamma': 0.42847417985363256, 'max_depth': 7, 'num_leaves': 13, 'learning_rate': 0.3513790601845132, 'min_child_weight': 4, 'max_delta_step': 2, 'subsample': 0.3540887465851854, 'lambda': 0.36282892825134205, 'alpha': 0.3617305006428555}. Best is trial 0 with value: 0.31216516835643554.\u001b[0m\n"
     ]
    },
    {
     "name": "stdout",
     "output_type": "stream",
     "text": [
      "validation score:  0.31216516835643554\n",
      " \n",
      "[0]\teval-logloss:0.50062\n",
      "[100]\teval-logloss:0.07995\n",
      "[200]\teval-logloss:0.07652\n",
      "[294]\teval-logloss:0.07731\n",
      "[0]\teval-logloss:0.52655\n",
      "[79]\teval-logloss:0.15150\n",
      "[0]\teval-logloss:0.50637\n",
      "[73]\teval-logloss:0.16337\n",
      "[0]\teval-logloss:0.52571\n",
      "[100]\teval-logloss:0.15744\n",
      "[145]\teval-logloss:0.15881\n",
      "[0]\teval-logloss:0.52212\n",
      "[72]\teval-logloss:0.20594\n"
     ]
    },
    {
     "name": "stderr",
     "output_type": "stream",
     "text": [
      "\u001b[32m[I 2023-11-18 01:06:14,505]\u001b[0m Trial 3 finished with value: 0.31216516835643554 and parameters: {'gamma': 0.9161483212170861, 'max_depth': 2, 'num_leaves': 70, 'learning_rate': 0.02996066332979274, 'min_child_weight': 1, 'max_delta_step': 6, 'subsample': 0.28859938577689126, 'lambda': 0.17412933348010395, 'alpha': 0.9460867129294462}. Best is trial 0 with value: 0.31216516835643554.\u001b[0m\n"
     ]
    },
    {
     "name": "stdout",
     "output_type": "stream",
     "text": [
      "validation score:  0.31216516835643554\n",
      " \n",
      "[0]\teval-logloss:0.50062\n",
      "[100]\teval-logloss:0.07995\n",
      "[200]\teval-logloss:0.07652\n",
      "[294]\teval-logloss:0.07731\n",
      "[0]\teval-logloss:0.52655\n",
      "[79]\teval-logloss:0.15150\n",
      "[0]\teval-logloss:0.50637\n",
      "[74]\teval-logloss:0.16255\n",
      "[0]\teval-logloss:0.52571\n",
      "[100]\teval-logloss:0.15744\n",
      "[144]\teval-logloss:0.15872\n",
      "[0]\teval-logloss:0.52212\n",
      "[73]\teval-logloss:0.20678\n"
     ]
    },
    {
     "name": "stderr",
     "output_type": "stream",
     "text": [
      "\u001b[32m[I 2023-11-18 01:06:16,823]\u001b[0m Trial 4 finished with value: 0.31216516835643554 and parameters: {'gamma': 0.4545729895453162, 'max_depth': 3, 'num_leaves': 100, 'learning_rate': 0.3587800139694318, 'min_child_weight': 6, 'max_delta_step': 8, 'subsample': 0.21708634944623684, 'lambda': 0.18853139172757183, 'alpha': 0.3960629808842593}. Best is trial 0 with value: 0.31216516835643554.\u001b[0m\n"
     ]
    },
    {
     "name": "stdout",
     "output_type": "stream",
     "text": [
      "validation score:  0.31216516835643554\n",
      " \n",
      "Value:  0.31216516835643554\n"
     ]
    },
    {
     "data": {
      "text/plain": [
       "{'gamma': 0.666296797420977,\n",
       " 'max_depth': 7,\n",
       " 'num_leaves': 85,\n",
       " 'learning_rate': 0.36023275970736934,\n",
       " 'min_child_weight': 1,\n",
       " 'max_delta_step': 2,\n",
       " 'subsample': 0.07006128213587715,\n",
       " 'lambda': 0.8111668883534335,\n",
       " 'alpha': 0.05512814437811153}"
      ]
     },
     "execution_count": 10,
     "metadata": {},
     "output_type": "execute_result"
    }
   ],
   "source": [
    "xgb_best_params = param_tuning(config = config, model_name = \"xgb\", model = treemodel)\n",
    "xgb_best_params"
   ]
  },
  {
   "cell_type": "code",
   "execution_count": 11,
   "id": "8741d9d6",
   "metadata": {
    "execution": {
     "iopub.execute_input": "2023-11-18T01:06:16.873354Z",
     "iopub.status.busy": "2023-11-18T01:06:16.872968Z",
     "iopub.status.idle": "2023-11-18T01:06:38.080903Z",
     "shell.execute_reply": "2023-11-18T01:06:38.079959Z"
    },
    "papermill": {
     "duration": 21.23123,
     "end_time": "2023-11-18T01:06:38.083874",
     "exception": false,
     "start_time": "2023-11-18T01:06:16.852644",
     "status": "completed"
    },
    "tags": []
   },
   "outputs": [
    {
     "name": "stdout",
     "output_type": "stream",
     "text": [
      "Learning rate set to 0.026623\n",
      "0:\tlearn: 0.6658456\ttest: 0.6657945\tbest: 0.6657945 (0)\ttotal: 69.9ms\tremaining: 1m 9s\n",
      "100:\tlearn: 0.1123480\ttest: 0.1832610\tbest: 0.1832610 (100)\ttotal: 860ms\tremaining: 7.65s\n",
      "200:\tlearn: 0.0492788\ttest: 0.1381917\tbest: 0.1381917 (200)\ttotal: 1.65s\tremaining: 6.57s\n",
      "300:\tlearn: 0.0253975\ttest: 0.1166001\tbest: 0.1166001 (300)\ttotal: 2.44s\tremaining: 5.68s\n",
      "400:\tlearn: 0.0143491\ttest: 0.1034707\tbest: 0.1034707 (400)\ttotal: 3.29s\tremaining: 4.91s\n",
      "500:\tlearn: 0.0094645\ttest: 0.0988917\tbest: 0.0988917 (500)\ttotal: 4.09s\tremaining: 4.08s\n",
      "600:\tlearn: 0.0068158\ttest: 0.0956670\tbest: 0.0952825 (577)\ttotal: 4.9s\tremaining: 3.25s\n",
      "700:\tlearn: 0.0052091\ttest: 0.0923589\tbest: 0.0923589 (700)\ttotal: 5.7s\tremaining: 2.43s\n",
      "800:\tlearn: 0.0042617\ttest: 0.0891180\tbest: 0.0891180 (800)\ttotal: 6.5s\tremaining: 1.61s\n",
      "Stopped by overfitting detector  (40 iterations wait)\n",
      "\n",
      "bestTest = 0.08903141659\n",
      "bestIteration = 803\n",
      "\n",
      "Shrink model to first 804 iterations.\n",
      "Learning rate set to 0.026623\n",
      "0:\tlearn: 0.6639685\ttest: 0.6675938\tbest: 0.6675938 (0)\ttotal: 14.3ms\tremaining: 14.3s\n",
      "100:\tlearn: 0.0966009\ttest: 0.2232625\tbest: 0.2232625 (100)\ttotal: 815ms\tremaining: 7.25s\n",
      "200:\tlearn: 0.0400339\ttest: 0.1963458\tbest: 0.1962260 (199)\ttotal: 1.61s\tremaining: 6.41s\n",
      "300:\tlearn: 0.0203409\ttest: 0.1821292\tbest: 0.1820633 (296)\ttotal: 2.41s\tremaining: 5.6s\n",
      "400:\tlearn: 0.0121352\ttest: 0.1778289\tbest: 0.1777488 (399)\ttotal: 3.21s\tremaining: 4.8s\n",
      "Stopped by overfitting detector  (40 iterations wait)\n",
      "\n",
      "bestTest = 0.1777037715\n",
      "bestIteration = 422\n",
      "\n",
      "Shrink model to first 423 iterations.\n",
      "Learning rate set to 0.02661\n",
      "0:\tlearn: 0.6732626\ttest: 0.6767785\tbest: 0.6767785 (0)\ttotal: 11.4ms\tremaining: 11.4s\n",
      "100:\tlearn: 0.1004395\ttest: 0.2277886\tbest: 0.2277886 (100)\ttotal: 817ms\tremaining: 7.28s\n",
      "200:\tlearn: 0.0410985\ttest: 0.1978980\tbest: 0.1978980 (200)\ttotal: 1.62s\tremaining: 6.45s\n",
      "300:\tlearn: 0.0209257\ttest: 0.1840968\tbest: 0.1836870 (293)\ttotal: 2.48s\tremaining: 5.77s\n",
      "400:\tlearn: 0.0112593\ttest: 0.1818971\tbest: 0.1808583 (382)\ttotal: 3.28s\tremaining: 4.9s\n",
      "Stopped by overfitting detector  (40 iterations wait)\n",
      "\n",
      "bestTest = 0.1808583496\n",
      "bestIteration = 382\n",
      "\n",
      "Shrink model to first 383 iterations.\n",
      "Learning rate set to 0.026623\n",
      "0:\tlearn: 0.6647664\ttest: 0.6672171\tbest: 0.6672171 (0)\ttotal: 9.81ms\tremaining: 9.8s\n",
      "100:\tlearn: 0.1064686\ttest: 0.2057343\tbest: 0.2057343 (100)\ttotal: 970ms\tremaining: 8.64s\n",
      "200:\tlearn: 0.0453790\ttest: 0.1700236\tbest: 0.1700236 (200)\ttotal: 2.03s\tremaining: 8.07s\n",
      "300:\tlearn: 0.0233442\ttest: 0.1547804\tbest: 0.1544352 (298)\ttotal: 2.9s\tremaining: 6.74s\n",
      "400:\tlearn: 0.0140283\ttest: 0.1497491\tbest: 0.1494520 (374)\ttotal: 3.7s\tremaining: 5.53s\n",
      "Stopped by overfitting detector  (40 iterations wait)\n",
      "\n",
      "bestTest = 0.1494519523\n",
      "bestIteration = 374\n",
      "\n",
      "Shrink model to first 375 iterations.\n",
      "Learning rate set to 0.02661\n",
      "0:\tlearn: 0.6649654\ttest: 0.6644447\tbest: 0.6644447 (0)\ttotal: 11ms\tremaining: 11s\n",
      "100:\tlearn: 0.1076124\ttest: 0.2287639\tbest: 0.2283431 (98)\ttotal: 815ms\tremaining: 7.25s\n",
      "200:\tlearn: 0.0446048\ttest: 0.1988272\tbest: 0.1985434 (199)\ttotal: 1.62s\tremaining: 6.44s\n",
      "300:\tlearn: 0.0218487\ttest: 0.1931048\tbest: 0.1908997 (267)\ttotal: 2.42s\tremaining: 5.61s\n",
      "Stopped by overfitting detector  (40 iterations wait)\n",
      "\n",
      "bestTest = 0.1908997058\n",
      "bestIteration = 267\n",
      "\n",
      "Shrink model to first 268 iterations.\n",
      "validation score:  0.3645940857907282\n",
      " \n"
     ]
    }
   ],
   "source": [
    "cb_models, cb_val_output, cb_imp_df = treemodel.execute_cv(\"cb\")\n",
    "cb_test_output = treemodel.cb_test(cb_models, config[\"test_data\"])"
   ]
  },
  {
   "cell_type": "code",
   "execution_count": 12,
   "id": "565cfb8d",
   "metadata": {
    "execution": {
     "iopub.execute_input": "2023-11-18T01:06:38.132146Z",
     "iopub.status.busy": "2023-11-18T01:06:38.131444Z",
     "iopub.status.idle": "2023-11-18T01:08:22.004492Z",
     "shell.execute_reply": "2023-11-18T01:08:22.003644Z"
    },
    "papermill": {
     "duration": 103.899934,
     "end_time": "2023-11-18T01:08:22.006786",
     "exception": false,
     "start_time": "2023-11-18T01:06:38.106852",
     "status": "completed"
    },
    "tags": []
   },
   "outputs": [
    {
     "name": "stderr",
     "output_type": "stream",
     "text": [
      "\u001b[32m[I 2023-11-18 01:06:38,133]\u001b[0m A new study created in memory with name: no-name-39f40bd1-75a6-4894-a365-3342a1f5e60e\u001b[0m\n"
     ]
    },
    {
     "name": "stdout",
     "output_type": "stream",
     "text": [
      "Learning rate set to 0.026623\n",
      "0:\tlearn: 0.6658456\ttest: 0.6657945\tbest: 0.6657945 (0)\ttotal: 9.07ms\tremaining: 9.07s\n",
      "100:\tlearn: 0.1123480\ttest: 0.1832610\tbest: 0.1832610 (100)\ttotal: 812ms\tremaining: 7.23s\n",
      "200:\tlearn: 0.0492788\ttest: 0.1381917\tbest: 0.1381917 (200)\ttotal: 1.62s\tremaining: 6.44s\n",
      "300:\tlearn: 0.0253975\ttest: 0.1166001\tbest: 0.1166001 (300)\ttotal: 2.46s\tremaining: 5.72s\n",
      "400:\tlearn: 0.0143491\ttest: 0.1034707\tbest: 0.1034707 (400)\ttotal: 3.26s\tremaining: 4.86s\n",
      "500:\tlearn: 0.0094645\ttest: 0.0988917\tbest: 0.0988917 (500)\ttotal: 4.05s\tremaining: 4.03s\n",
      "600:\tlearn: 0.0068158\ttest: 0.0956670\tbest: 0.0952825 (577)\ttotal: 4.84s\tremaining: 3.21s\n",
      "700:\tlearn: 0.0052091\ttest: 0.0923589\tbest: 0.0923589 (700)\ttotal: 5.63s\tremaining: 2.4s\n",
      "800:\tlearn: 0.0042617\ttest: 0.0891180\tbest: 0.0891180 (800)\ttotal: 6.42s\tremaining: 1.59s\n",
      "Stopped by overfitting detector  (40 iterations wait)\n",
      "\n",
      "bestTest = 0.08903141659\n",
      "bestIteration = 803\n",
      "\n",
      "Shrink model to first 804 iterations.\n",
      "Learning rate set to 0.026623\n",
      "0:\tlearn: 0.6639685\ttest: 0.6675938\tbest: 0.6675938 (0)\ttotal: 8.3ms\tremaining: 8.3s\n",
      "100:\tlearn: 0.0966009\ttest: 0.2232625\tbest: 0.2232625 (100)\ttotal: 795ms\tremaining: 7.07s\n",
      "200:\tlearn: 0.0400339\ttest: 0.1963458\tbest: 0.1962260 (199)\ttotal: 1.58s\tremaining: 6.29s\n",
      "300:\tlearn: 0.0203409\ttest: 0.1821292\tbest: 0.1820633 (296)\ttotal: 2.37s\tremaining: 5.51s\n",
      "400:\tlearn: 0.0121352\ttest: 0.1778289\tbest: 0.1777488 (399)\ttotal: 3.16s\tremaining: 4.72s\n",
      "Stopped by overfitting detector  (40 iterations wait)\n",
      "\n",
      "bestTest = 0.1777037715\n",
      "bestIteration = 422\n",
      "\n",
      "Shrink model to first 423 iterations.\n",
      "Learning rate set to 0.02661\n",
      "0:\tlearn: 0.6732626\ttest: 0.6767785\tbest: 0.6767785 (0)\ttotal: 8.4ms\tremaining: 8.39s\n",
      "100:\tlearn: 0.1004395\ttest: 0.2277886\tbest: 0.2277886 (100)\ttotal: 814ms\tremaining: 7.25s\n",
      "200:\tlearn: 0.0410985\ttest: 0.1978980\tbest: 0.1978980 (200)\ttotal: 1.66s\tremaining: 6.6s\n",
      "300:\tlearn: 0.0209257\ttest: 0.1840968\tbest: 0.1836870 (293)\ttotal: 2.45s\tremaining: 5.69s\n",
      "400:\tlearn: 0.0112593\ttest: 0.1818971\tbest: 0.1808583 (382)\ttotal: 3.24s\tremaining: 4.84s\n",
      "Stopped by overfitting detector  (40 iterations wait)\n",
      "\n",
      "bestTest = 0.1808583496\n",
      "bestIteration = 382\n",
      "\n",
      "Shrink model to first 383 iterations.\n",
      "Learning rate set to 0.026623\n",
      "0:\tlearn: 0.6647664\ttest: 0.6672171\tbest: 0.6672171 (0)\ttotal: 8.25ms\tremaining: 8.24s\n",
      "100:\tlearn: 0.1064686\ttest: 0.2057343\tbest: 0.2057343 (100)\ttotal: 799ms\tremaining: 7.11s\n",
      "200:\tlearn: 0.0453790\ttest: 0.1700236\tbest: 0.1700236 (200)\ttotal: 1.58s\tremaining: 6.28s\n",
      "300:\tlearn: 0.0233442\ttest: 0.1547804\tbest: 0.1544352 (298)\ttotal: 2.36s\tremaining: 5.49s\n",
      "400:\tlearn: 0.0140283\ttest: 0.1497491\tbest: 0.1494520 (374)\ttotal: 3.15s\tremaining: 4.71s\n",
      "Stopped by overfitting detector  (40 iterations wait)\n",
      "\n",
      "bestTest = 0.1494519523\n",
      "bestIteration = 374\n",
      "\n",
      "Shrink model to first 375 iterations.\n",
      "Learning rate set to 0.02661\n",
      "0:\tlearn: 0.6649654\ttest: 0.6644447\tbest: 0.6644447 (0)\ttotal: 9.26ms\tremaining: 9.25s\n",
      "100:\tlearn: 0.1076124\ttest: 0.2287639\tbest: 0.2283431 (98)\ttotal: 803ms\tremaining: 7.15s\n",
      "200:\tlearn: 0.0446048\ttest: 0.1988272\tbest: 0.1985434 (199)\ttotal: 1.6s\tremaining: 6.34s\n"
     ]
    },
    {
     "name": "stderr",
     "output_type": "stream",
     "text": [
      "\u001b[32m[I 2023-11-18 01:06:58,457]\u001b[0m Trial 0 finished with value: 0.3645940857907282 and parameters: {'max_depth': 9, 'reg_lambda': 0.20976982415507472, 'learning_rate': 0.13263393173627286, 'min_child_samples': 1}. Best is trial 0 with value: 0.3645940857907282.\u001b[0m\n"
     ]
    },
    {
     "name": "stdout",
     "output_type": "stream",
     "text": [
      "300:\tlearn: 0.0218487\ttest: 0.1931048\tbest: 0.1908997 (267)\ttotal: 2.39s\tremaining: 5.54s\n",
      "Stopped by overfitting detector  (40 iterations wait)\n",
      "\n",
      "bestTest = 0.1908997058\n",
      "bestIteration = 267\n",
      "\n",
      "Shrink model to first 268 iterations.\n",
      "validation score:  0.3645940857907282\n",
      " \n",
      "Learning rate set to 0.026623\n",
      "0:\tlearn: 0.6658456\ttest: 0.6657945\tbest: 0.6657945 (0)\ttotal: 8.97ms\tremaining: 8.96s\n",
      "100:\tlearn: 0.1123480\ttest: 0.1832610\tbest: 0.1832610 (100)\ttotal: 807ms\tremaining: 7.18s\n",
      "200:\tlearn: 0.0492788\ttest: 0.1381917\tbest: 0.1381917 (200)\ttotal: 1.64s\tremaining: 6.54s\n",
      "300:\tlearn: 0.0253975\ttest: 0.1166001\tbest: 0.1166001 (300)\ttotal: 2.43s\tremaining: 5.65s\n",
      "400:\tlearn: 0.0143491\ttest: 0.1034707\tbest: 0.1034707 (400)\ttotal: 3.22s\tremaining: 4.81s\n",
      "500:\tlearn: 0.0094645\ttest: 0.0988917\tbest: 0.0988917 (500)\ttotal: 4.01s\tremaining: 3.99s\n",
      "600:\tlearn: 0.0068158\ttest: 0.0956670\tbest: 0.0952825 (577)\ttotal: 4.8s\tremaining: 3.19s\n",
      "700:\tlearn: 0.0052091\ttest: 0.0923589\tbest: 0.0923589 (700)\ttotal: 5.69s\tremaining: 2.43s\n",
      "800:\tlearn: 0.0042617\ttest: 0.0891180\tbest: 0.0891180 (800)\ttotal: 6.85s\tremaining: 1.7s\n",
      "Stopped by overfitting detector  (40 iterations wait)\n",
      "\n",
      "bestTest = 0.08903141659\n",
      "bestIteration = 803\n",
      "\n",
      "Shrink model to first 804 iterations.\n",
      "Learning rate set to 0.026623\n",
      "0:\tlearn: 0.6639685\ttest: 0.6675938\tbest: 0.6675938 (0)\ttotal: 8.95ms\tremaining: 8.94s\n",
      "100:\tlearn: 0.0966009\ttest: 0.2232625\tbest: 0.2232625 (100)\ttotal: 810ms\tremaining: 7.21s\n",
      "200:\tlearn: 0.0400339\ttest: 0.1963458\tbest: 0.1962260 (199)\ttotal: 1.6s\tremaining: 6.37s\n",
      "300:\tlearn: 0.0203409\ttest: 0.1821292\tbest: 0.1820633 (296)\ttotal: 2.4s\tremaining: 5.56s\n",
      "400:\tlearn: 0.0121352\ttest: 0.1778289\tbest: 0.1777488 (399)\ttotal: 3.2s\tremaining: 4.78s\n",
      "Stopped by overfitting detector  (40 iterations wait)\n",
      "\n",
      "bestTest = 0.1777037715\n",
      "bestIteration = 422\n",
      "\n",
      "Shrink model to first 423 iterations.\n",
      "Learning rate set to 0.02661\n",
      "0:\tlearn: 0.6732626\ttest: 0.6767785\tbest: 0.6767785 (0)\ttotal: 8.42ms\tremaining: 8.41s\n",
      "100:\tlearn: 0.1004395\ttest: 0.2277886\tbest: 0.2277886 (100)\ttotal: 877ms\tremaining: 7.8s\n",
      "200:\tlearn: 0.0410985\ttest: 0.1978980\tbest: 0.1978980 (200)\ttotal: 1.68s\tremaining: 6.69s\n",
      "300:\tlearn: 0.0209257\ttest: 0.1840968\tbest: 0.1836870 (293)\ttotal: 2.48s\tremaining: 5.76s\n",
      "400:\tlearn: 0.0112593\ttest: 0.1818971\tbest: 0.1808583 (382)\ttotal: 3.28s\tremaining: 4.89s\n",
      "Stopped by overfitting detector  (40 iterations wait)\n",
      "\n",
      "bestTest = 0.1808583496\n",
      "bestIteration = 382\n",
      "\n",
      "Shrink model to first 383 iterations.\n",
      "Learning rate set to 0.026623\n",
      "0:\tlearn: 0.6647664\ttest: 0.6672171\tbest: 0.6672171 (0)\ttotal: 8.4ms\tremaining: 8.39s\n",
      "100:\tlearn: 0.1064686\ttest: 0.2057343\tbest: 0.2057343 (100)\ttotal: 804ms\tremaining: 7.15s\n",
      "200:\tlearn: 0.0453790\ttest: 0.1700236\tbest: 0.1700236 (200)\ttotal: 1.59s\tremaining: 6.31s\n",
      "300:\tlearn: 0.0233442\ttest: 0.1547804\tbest: 0.1544352 (298)\ttotal: 2.38s\tremaining: 5.53s\n",
      "400:\tlearn: 0.0140283\ttest: 0.1497491\tbest: 0.1494520 (374)\ttotal: 3.17s\tremaining: 4.73s\n",
      "Stopped by overfitting detector  (40 iterations wait)\n",
      "\n",
      "bestTest = 0.1494519523\n",
      "bestIteration = 374\n",
      "\n",
      "Shrink model to first 375 iterations.\n",
      "Learning rate set to 0.02661\n",
      "0:\tlearn: 0.6649654\ttest: 0.6644447\tbest: 0.6644447 (0)\ttotal: 10.7ms\tremaining: 10.7s\n",
      "100:\tlearn: 0.1076124\ttest: 0.2287639\tbest: 0.2283431 (98)\ttotal: 815ms\tremaining: 7.25s\n",
      "200:\tlearn: 0.0446048\ttest: 0.1988272\tbest: 0.1985434 (199)\ttotal: 1.63s\tremaining: 6.47s\n"
     ]
    },
    {
     "name": "stderr",
     "output_type": "stream",
     "text": [
      "\u001b[32m[I 2023-11-18 01:07:19,454]\u001b[0m Trial 1 finished with value: 0.3645940857907282 and parameters: {'max_depth': 4, 'reg_lambda': 0.17998462252731118, 'learning_rate': 0.43828532968227335, 'min_child_samples': 8}. Best is trial 0 with value: 0.3645940857907282.\u001b[0m\n"
     ]
    },
    {
     "name": "stdout",
     "output_type": "stream",
     "text": [
      "300:\tlearn: 0.0218487\ttest: 0.1931048\tbest: 0.1908997 (267)\ttotal: 2.43s\tremaining: 5.65s\n",
      "Stopped by overfitting detector  (40 iterations wait)\n",
      "\n",
      "bestTest = 0.1908997058\n",
      "bestIteration = 267\n",
      "\n",
      "Shrink model to first 268 iterations.\n",
      "validation score:  0.3645940857907282\n",
      " \n",
      "Learning rate set to 0.026623\n",
      "0:\tlearn: 0.6658456\ttest: 0.6657945\tbest: 0.6657945 (0)\ttotal: 8.43ms\tremaining: 8.42s\n",
      "100:\tlearn: 0.1123480\ttest: 0.1832610\tbest: 0.1832610 (100)\ttotal: 882ms\tremaining: 7.85s\n",
      "200:\tlearn: 0.0492788\ttest: 0.1381917\tbest: 0.1381917 (200)\ttotal: 1.68s\tremaining: 6.67s\n",
      "300:\tlearn: 0.0253975\ttest: 0.1166001\tbest: 0.1166001 (300)\ttotal: 2.47s\tremaining: 5.74s\n",
      "400:\tlearn: 0.0143491\ttest: 0.1034707\tbest: 0.1034707 (400)\ttotal: 3.27s\tremaining: 4.88s\n",
      "500:\tlearn: 0.0094645\ttest: 0.0988917\tbest: 0.0988917 (500)\ttotal: 4.07s\tremaining: 4.05s\n",
      "600:\tlearn: 0.0068158\ttest: 0.0956670\tbest: 0.0952825 (577)\ttotal: 4.86s\tremaining: 3.23s\n",
      "700:\tlearn: 0.0052091\ttest: 0.0923589\tbest: 0.0923589 (700)\ttotal: 5.65s\tremaining: 2.41s\n",
      "800:\tlearn: 0.0042617\ttest: 0.0891180\tbest: 0.0891180 (800)\ttotal: 6.44s\tremaining: 1.6s\n",
      "Stopped by overfitting detector  (40 iterations wait)\n",
      "\n",
      "bestTest = 0.08903141659\n",
      "bestIteration = 803\n",
      "\n",
      "Shrink model to first 804 iterations.\n",
      "Learning rate set to 0.026623\n",
      "0:\tlearn: 0.6639685\ttest: 0.6675938\tbest: 0.6675938 (0)\ttotal: 8.77ms\tremaining: 8.76s\n",
      "100:\tlearn: 0.0966009\ttest: 0.2232625\tbest: 0.2232625 (100)\ttotal: 812ms\tremaining: 7.22s\n",
      "200:\tlearn: 0.0400339\ttest: 0.1963458\tbest: 0.1962260 (199)\ttotal: 1.6s\tremaining: 6.36s\n",
      "300:\tlearn: 0.0203409\ttest: 0.1821292\tbest: 0.1820633 (296)\ttotal: 2.4s\tremaining: 5.57s\n",
      "400:\tlearn: 0.0121352\ttest: 0.1778289\tbest: 0.1777488 (399)\ttotal: 3.2s\tremaining: 4.78s\n",
      "Stopped by overfitting detector  (40 iterations wait)\n",
      "\n",
      "bestTest = 0.1777037715\n",
      "bestIteration = 422\n",
      "\n",
      "Shrink model to first 423 iterations.\n",
      "Learning rate set to 0.02661\n",
      "0:\tlearn: 0.6732626\ttest: 0.6767785\tbest: 0.6767785 (0)\ttotal: 8.21ms\tremaining: 8.2s\n",
      "100:\tlearn: 0.1004395\ttest: 0.2277886\tbest: 0.2277886 (100)\ttotal: 797ms\tremaining: 7.1s\n",
      "200:\tlearn: 0.0410985\ttest: 0.1978980\tbest: 0.1978980 (200)\ttotal: 1.58s\tremaining: 6.29s\n",
      "300:\tlearn: 0.0209257\ttest: 0.1840968\tbest: 0.1836870 (293)\ttotal: 2.36s\tremaining: 5.49s\n",
      "400:\tlearn: 0.0112593\ttest: 0.1818971\tbest: 0.1808583 (382)\ttotal: 3.15s\tremaining: 4.71s\n",
      "Stopped by overfitting detector  (40 iterations wait)\n",
      "\n",
      "bestTest = 0.1808583496\n",
      "bestIteration = 382\n",
      "\n",
      "Shrink model to first 383 iterations.\n",
      "Learning rate set to 0.026623\n",
      "0:\tlearn: 0.6647664\ttest: 0.6672171\tbest: 0.6672171 (0)\ttotal: 8.86ms\tremaining: 8.85s\n",
      "100:\tlearn: 0.1064686\ttest: 0.2057343\tbest: 0.2057343 (100)\ttotal: 803ms\tremaining: 7.15s\n",
      "200:\tlearn: 0.0453790\ttest: 0.1700236\tbest: 0.1700236 (200)\ttotal: 1.6s\tremaining: 6.35s\n",
      "300:\tlearn: 0.0233442\ttest: 0.1547804\tbest: 0.1544352 (298)\ttotal: 2.65s\tremaining: 6.14s\n",
      "400:\tlearn: 0.0140283\ttest: 0.1497491\tbest: 0.1494520 (374)\ttotal: 3.66s\tremaining: 5.47s\n",
      "Stopped by overfitting detector  (40 iterations wait)\n",
      "\n",
      "bestTest = 0.1494519523\n",
      "bestIteration = 374\n",
      "\n",
      "Shrink model to first 375 iterations.\n",
      "Learning rate set to 0.02661\n",
      "0:\tlearn: 0.6649654\ttest: 0.6644447\tbest: 0.6644447 (0)\ttotal: 8.33ms\tremaining: 8.32s\n",
      "100:\tlearn: 0.1076124\ttest: 0.2287639\tbest: 0.2283431 (98)\ttotal: 817ms\tremaining: 7.27s\n",
      "200:\tlearn: 0.0446048\ttest: 0.1988272\tbest: 0.1985434 (199)\ttotal: 1.64s\tremaining: 6.52s\n"
     ]
    },
    {
     "name": "stderr",
     "output_type": "stream",
     "text": [
      "\u001b[32m[I 2023-11-18 01:07:40,471]\u001b[0m Trial 2 finished with value: 0.3645940857907282 and parameters: {'max_depth': 10, 'reg_lambda': 0.6530592971808598, 'learning_rate': 0.3041716760824035, 'min_child_samples': 7}. Best is trial 0 with value: 0.3645940857907282.\u001b[0m\n"
     ]
    },
    {
     "name": "stdout",
     "output_type": "stream",
     "text": [
      "300:\tlearn: 0.0218487\ttest: 0.1931048\tbest: 0.1908997 (267)\ttotal: 2.52s\tremaining: 5.84s\n",
      "Stopped by overfitting detector  (40 iterations wait)\n",
      "\n",
      "bestTest = 0.1908997058\n",
      "bestIteration = 267\n",
      "\n",
      "Shrink model to first 268 iterations.\n",
      "validation score:  0.3645940857907282\n",
      " \n",
      "Learning rate set to 0.026623\n",
      "0:\tlearn: 0.6658456\ttest: 0.6657945\tbest: 0.6657945 (0)\ttotal: 8.3ms\tremaining: 8.29s\n",
      "100:\tlearn: 0.1123480\ttest: 0.1832610\tbest: 0.1832610 (100)\ttotal: 815ms\tremaining: 7.26s\n",
      "200:\tlearn: 0.0492788\ttest: 0.1381917\tbest: 0.1381917 (200)\ttotal: 1.61s\tremaining: 6.4s\n",
      "300:\tlearn: 0.0253975\ttest: 0.1166001\tbest: 0.1166001 (300)\ttotal: 2.4s\tremaining: 5.58s\n",
      "400:\tlearn: 0.0143491\ttest: 0.1034707\tbest: 0.1034707 (400)\ttotal: 3.19s\tremaining: 4.77s\n",
      "500:\tlearn: 0.0094645\ttest: 0.0988917\tbest: 0.0988917 (500)\ttotal: 3.99s\tremaining: 3.98s\n",
      "600:\tlearn: 0.0068158\ttest: 0.0956670\tbest: 0.0952825 (577)\ttotal: 4.79s\tremaining: 3.18s\n",
      "700:\tlearn: 0.0052091\ttest: 0.0923589\tbest: 0.0923589 (700)\ttotal: 5.59s\tremaining: 2.38s\n",
      "800:\tlearn: 0.0042617\ttest: 0.0891180\tbest: 0.0891180 (800)\ttotal: 6.4s\tremaining: 1.59s\n",
      "Stopped by overfitting detector  (40 iterations wait)\n",
      "\n",
      "bestTest = 0.08903141659\n",
      "bestIteration = 803\n",
      "\n",
      "Shrink model to first 804 iterations.\n",
      "Learning rate set to 0.026623\n",
      "0:\tlearn: 0.6639685\ttest: 0.6675938\tbest: 0.6675938 (0)\ttotal: 8.87ms\tremaining: 8.86s\n",
      "100:\tlearn: 0.0966009\ttest: 0.2232625\tbest: 0.2232625 (100)\ttotal: 807ms\tremaining: 7.19s\n",
      "200:\tlearn: 0.0400339\ttest: 0.1963458\tbest: 0.1962260 (199)\ttotal: 1.61s\tremaining: 6.4s\n",
      "300:\tlearn: 0.0203409\ttest: 0.1821292\tbest: 0.1820633 (296)\ttotal: 2.46s\tremaining: 5.72s\n",
      "400:\tlearn: 0.0121352\ttest: 0.1778289\tbest: 0.1777488 (399)\ttotal: 3.26s\tremaining: 4.88s\n",
      "Stopped by overfitting detector  (40 iterations wait)\n",
      "\n",
      "bestTest = 0.1777037715\n",
      "bestIteration = 422\n",
      "\n",
      "Shrink model to first 423 iterations.\n",
      "Learning rate set to 0.02661\n",
      "0:\tlearn: 0.6732626\ttest: 0.6767785\tbest: 0.6767785 (0)\ttotal: 9.19ms\tremaining: 9.18s\n",
      "100:\tlearn: 0.1004395\ttest: 0.2277886\tbest: 0.2277886 (100)\ttotal: 816ms\tremaining: 7.26s\n",
      "200:\tlearn: 0.0410985\ttest: 0.1978980\tbest: 0.1978980 (200)\ttotal: 1.62s\tremaining: 6.46s\n",
      "300:\tlearn: 0.0209257\ttest: 0.1840968\tbest: 0.1836870 (293)\ttotal: 2.42s\tremaining: 5.63s\n",
      "400:\tlearn: 0.0112593\ttest: 0.1818971\tbest: 0.1808583 (382)\ttotal: 3.23s\tremaining: 4.83s\n",
      "Stopped by overfitting detector  (40 iterations wait)\n",
      "\n",
      "bestTest = 0.1808583496\n",
      "bestIteration = 382\n",
      "\n",
      "Shrink model to first 383 iterations.\n",
      "Learning rate set to 0.026623\n",
      "0:\tlearn: 0.6647664\ttest: 0.6672171\tbest: 0.6672171 (0)\ttotal: 8.46ms\tremaining: 8.46s\n",
      "100:\tlearn: 0.1064686\ttest: 0.2057343\tbest: 0.2057343 (100)\ttotal: 818ms\tremaining: 7.28s\n",
      "200:\tlearn: 0.0453790\ttest: 0.1700236\tbest: 0.1700236 (200)\ttotal: 1.61s\tremaining: 6.42s\n",
      "300:\tlearn: 0.0233442\ttest: 0.1547804\tbest: 0.1544352 (298)\ttotal: 2.41s\tremaining: 5.59s\n",
      "400:\tlearn: 0.0140283\ttest: 0.1497491\tbest: 0.1494520 (374)\ttotal: 3.19s\tremaining: 4.77s\n",
      "Stopped by overfitting detector  (40 iterations wait)\n",
      "\n",
      "bestTest = 0.1494519523\n",
      "bestIteration = 374\n",
      "\n",
      "Shrink model to first 375 iterations.\n",
      "Learning rate set to 0.02661\n",
      "0:\tlearn: 0.6649654\ttest: 0.6644447\tbest: 0.6644447 (0)\ttotal: 8.57ms\tremaining: 8.56s\n",
      "100:\tlearn: 0.1076124\ttest: 0.2287639\tbest: 0.2283431 (98)\ttotal: 816ms\tremaining: 7.26s\n",
      "200:\tlearn: 0.0446048\ttest: 0.1988272\tbest: 0.1985434 (199)\ttotal: 1.67s\tremaining: 6.65s\n"
     ]
    },
    {
     "name": "stderr",
     "output_type": "stream",
     "text": [
      "\u001b[32m[I 2023-11-18 01:08:01,045]\u001b[0m Trial 3 finished with value: 0.3645940857907282 and parameters: {'max_depth': 6, 'reg_lambda': 0.8285465902613165, 'learning_rate': 0.46939934324073684, 'min_child_samples': 7}. Best is trial 0 with value: 0.3645940857907282.\u001b[0m\n"
     ]
    },
    {
     "name": "stdout",
     "output_type": "stream",
     "text": [
      "300:\tlearn: 0.0218487\ttest: 0.1931048\tbest: 0.1908997 (267)\ttotal: 2.49s\tremaining: 5.78s\n",
      "Stopped by overfitting detector  (40 iterations wait)\n",
      "\n",
      "bestTest = 0.1908997058\n",
      "bestIteration = 267\n",
      "\n",
      "Shrink model to first 268 iterations.\n",
      "validation score:  0.3645940857907282\n",
      " \n",
      "Learning rate set to 0.026623\n",
      "0:\tlearn: 0.6658456\ttest: 0.6657945\tbest: 0.6657945 (0)\ttotal: 8.56ms\tremaining: 8.55s\n",
      "100:\tlearn: 0.1123480\ttest: 0.1832610\tbest: 0.1832610 (100)\ttotal: 815ms\tremaining: 7.25s\n",
      "200:\tlearn: 0.0492788\ttest: 0.1381917\tbest: 0.1381917 (200)\ttotal: 1.61s\tremaining: 6.41s\n",
      "300:\tlearn: 0.0253975\ttest: 0.1166001\tbest: 0.1166001 (300)\ttotal: 2.41s\tremaining: 5.61s\n",
      "400:\tlearn: 0.0143491\ttest: 0.1034707\tbest: 0.1034707 (400)\ttotal: 3.21s\tremaining: 4.8s\n",
      "500:\tlearn: 0.0094645\ttest: 0.0988917\tbest: 0.0988917 (500)\ttotal: 4.01s\tremaining: 3.99s\n",
      "600:\tlearn: 0.0068158\ttest: 0.0956670\tbest: 0.0952825 (577)\ttotal: 4.8s\tremaining: 3.19s\n",
      "700:\tlearn: 0.0052091\ttest: 0.0923589\tbest: 0.0923589 (700)\ttotal: 5.61s\tremaining: 2.39s\n",
      "800:\tlearn: 0.0042617\ttest: 0.0891180\tbest: 0.0891180 (800)\ttotal: 6.41s\tremaining: 1.59s\n",
      "Stopped by overfitting detector  (40 iterations wait)\n",
      "\n",
      "bestTest = 0.08903141659\n",
      "bestIteration = 803\n",
      "\n",
      "Shrink model to first 804 iterations.\n",
      "Learning rate set to 0.026623\n",
      "0:\tlearn: 0.6639685\ttest: 0.6675938\tbest: 0.6675938 (0)\ttotal: 14.3ms\tremaining: 14.3s\n",
      "100:\tlearn: 0.0966009\ttest: 0.2232625\tbest: 0.2232625 (100)\ttotal: 1.05s\tremaining: 9.38s\n",
      "200:\tlearn: 0.0400339\ttest: 0.1963458\tbest: 0.1962260 (199)\ttotal: 1.93s\tremaining: 7.65s\n",
      "300:\tlearn: 0.0203409\ttest: 0.1821292\tbest: 0.1820633 (296)\ttotal: 2.72s\tremaining: 6.32s\n",
      "400:\tlearn: 0.0121352\ttest: 0.1778289\tbest: 0.1777488 (399)\ttotal: 3.52s\tremaining: 5.26s\n",
      "Stopped by overfitting detector  (40 iterations wait)\n",
      "\n",
      "bestTest = 0.1777037715\n",
      "bestIteration = 422\n",
      "\n",
      "Shrink model to first 423 iterations.\n",
      "Learning rate set to 0.02661\n",
      "0:\tlearn: 0.6732626\ttest: 0.6767785\tbest: 0.6767785 (0)\ttotal: 8.96ms\tremaining: 8.96s\n",
      "100:\tlearn: 0.1004395\ttest: 0.2277886\tbest: 0.2277886 (100)\ttotal: 810ms\tremaining: 7.21s\n",
      "200:\tlearn: 0.0410985\ttest: 0.1978980\tbest: 0.1978980 (200)\ttotal: 1.61s\tremaining: 6.39s\n",
      "300:\tlearn: 0.0209257\ttest: 0.1840968\tbest: 0.1836870 (293)\ttotal: 2.4s\tremaining: 5.57s\n",
      "400:\tlearn: 0.0112593\ttest: 0.1818971\tbest: 0.1808583 (382)\ttotal: 3.21s\tremaining: 4.8s\n",
      "Stopped by overfitting detector  (40 iterations wait)\n",
      "\n",
      "bestTest = 0.1808583496\n",
      "bestIteration = 382\n",
      "\n",
      "Shrink model to first 383 iterations.\n",
      "Learning rate set to 0.026623\n",
      "0:\tlearn: 0.6647664\ttest: 0.6672171\tbest: 0.6672171 (0)\ttotal: 8.16ms\tremaining: 8.15s\n",
      "100:\tlearn: 0.1064686\ttest: 0.2057343\tbest: 0.2057343 (100)\ttotal: 815ms\tremaining: 7.25s\n",
      "200:\tlearn: 0.0453790\ttest: 0.1700236\tbest: 0.1700236 (200)\ttotal: 1.61s\tremaining: 6.41s\n",
      "300:\tlearn: 0.0233442\ttest: 0.1547804\tbest: 0.1544352 (298)\ttotal: 2.41s\tremaining: 5.61s\n",
      "400:\tlearn: 0.0140283\ttest: 0.1497491\tbest: 0.1494520 (374)\ttotal: 3.21s\tremaining: 4.8s\n",
      "Stopped by overfitting detector  (40 iterations wait)\n",
      "\n",
      "bestTest = 0.1494519523\n",
      "bestIteration = 374\n",
      "\n",
      "Shrink model to first 375 iterations.\n",
      "Learning rate set to 0.02661\n",
      "0:\tlearn: 0.6649654\ttest: 0.6644447\tbest: 0.6644447 (0)\ttotal: 8.27ms\tremaining: 8.26s\n",
      "100:\tlearn: 0.1076124\ttest: 0.2287639\tbest: 0.2283431 (98)\ttotal: 854ms\tremaining: 7.6s\n",
      "200:\tlearn: 0.0446048\ttest: 0.1988272\tbest: 0.1985434 (199)\ttotal: 1.66s\tremaining: 6.6s\n"
     ]
    },
    {
     "name": "stderr",
     "output_type": "stream",
     "text": [
      "\u001b[32m[I 2023-11-18 01:08:21,996]\u001b[0m Trial 4 finished with value: 0.3645940857907282 and parameters: {'max_depth': 6, 'reg_lambda': 0.6007171966871011, 'learning_rate': 0.11830260594732224, 'min_child_samples': 6}. Best is trial 0 with value: 0.3645940857907282.\u001b[0m\n"
     ]
    },
    {
     "name": "stdout",
     "output_type": "stream",
     "text": [
      "300:\tlearn: 0.0218487\ttest: 0.1931048\tbest: 0.1908997 (267)\ttotal: 2.47s\tremaining: 5.74s\n",
      "Stopped by overfitting detector  (40 iterations wait)\n",
      "\n",
      "bestTest = 0.1908997058\n",
      "bestIteration = 267\n",
      "\n",
      "Shrink model to first 268 iterations.\n",
      "validation score:  0.3645940857907282\n",
      " \n",
      "Value:  0.3645940857907282\n"
     ]
    },
    {
     "data": {
      "text/plain": [
       "{'max_depth': 9,\n",
       " 'reg_lambda': 0.20976982415507472,\n",
       " 'learning_rate': 0.13263393173627286,\n",
       " 'min_child_samples': 1}"
      ]
     },
     "execution_count": 12,
     "metadata": {},
     "output_type": "execute_result"
    }
   ],
   "source": [
    "cb_best_params = param_tuning(config = config, model_name = \"cb\", model = treemodel)\n",
    "cb_best_params"
   ]
  },
  {
   "cell_type": "code",
   "execution_count": null,
   "id": "09c1c65b",
   "metadata": {
    "papermill": {
     "duration": 0.033645,
     "end_time": "2023-11-18T01:08:22.074328",
     "exception": false,
     "start_time": "2023-11-18T01:08:22.040683",
     "status": "completed"
    },
    "tags": []
   },
   "outputs": [],
   "source": []
  }
 ],
 "metadata": {
  "kaggle": {
   "accelerator": "none",
   "dataSources": [
    {
     "databundleVersionId": 5687476,
     "sourceId": 52784,
     "sourceType": "competition"
    },
    {
     "datasetId": 3327146,
     "sourceId": 5791830,
     "sourceType": "datasetVersion"
    },
    {
     "datasetId": 921302,
     "sourceId": 6182088,
     "sourceType": "datasetVersion"
    },
    {
     "datasetId": 930977,
     "sourceId": 6960023,
     "sourceType": "datasetVersion"
    },
    {
     "sourceId": 129537037,
     "sourceType": "kernelVersion"
    }
   ],
   "dockerImageVersionId": 30474,
   "isGpuEnabled": false,
   "isInternetEnabled": true,
   "language": "python",
   "sourceType": "notebook"
  },
  "kernelspec": {
   "display_name": "Python 3",
   "language": "python",
   "name": "python3"
  },
  "language_info": {
   "codemirror_mode": {
    "name": "ipython",
    "version": 3
   },
   "file_extension": ".py",
   "mimetype": "text/x-python",
   "name": "python",
   "nbconvert_exporter": "python",
   "pygments_lexer": "ipython3",
   "version": "3.10.10"
  },
  "papermill": {
   "default_parameters": {},
   "duration": 169.66431,
   "end_time": "2023-11-18T01:08:23.332616",
   "environment_variables": {},
   "exception": null,
   "input_path": "__notebook__.ipynb",
   "output_path": "__notebook__.ipynb",
   "parameters": {},
   "start_time": "2023-11-18T01:05:33.668306",
   "version": "2.4.0"
  }
 },
 "nbformat": 4,
 "nbformat_minor": 5
}
