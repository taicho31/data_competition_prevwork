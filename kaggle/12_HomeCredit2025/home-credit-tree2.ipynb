{
 "cells": [
  {
   "cell_type": "markdown",
   "id": "a2b057cd",
   "metadata": {
    "_cell_guid": "b1076dfc-b9ad-4769-8c92-a6c4dae69d19",
    "_uuid": "8f2839f25d086af736a60e9eeb907d3b93b6e0e5",
    "execution": {
     "iopub.execute_input": "2024-03-02T01:54:47.70609Z",
     "iopub.status.busy": "2024-03-02T01:54:47.705162Z",
     "iopub.status.idle": "2024-03-02T01:54:54.623114Z",
     "shell.execute_reply": "2024-03-02T01:54:54.621662Z",
     "shell.execute_reply.started": "2024-03-02T01:54:47.706043Z"
    },
    "papermill": {
     "duration": 0.011444,
     "end_time": "2024-05-14T01:56:54.426600",
     "exception": false,
     "start_time": "2024-05-14T01:56:54.415156",
     "status": "completed"
    },
    "tags": []
   },
   "source": [
    "- evaluate by mean gini and check fp and fn \n",
    "- go back to ver 47, but add second lgb and change cb pos weight and cb ensemble ratio *"
   ]
  },
  {
   "cell_type": "code",
   "execution_count": 1,
   "id": "115ed6a6",
   "metadata": {
    "execution": {
     "iopub.execute_input": "2024-05-14T01:56:54.449986Z",
     "iopub.status.busy": "2024-05-14T01:56:54.449701Z",
     "iopub.status.idle": "2024-05-14T01:57:00.531735Z",
     "shell.execute_reply": "2024-05-14T01:57:00.530952Z"
    },
    "papermill": {
     "duration": 6.096292,
     "end_time": "2024-05-14T01:57:00.534042",
     "exception": false,
     "start_time": "2024-05-14T01:56:54.437750",
     "status": "completed"
    },
    "tags": []
   },
   "outputs": [
    {
     "name": "stderr",
     "output_type": "stream",
     "text": [
      "/opt/conda/lib/python3.10/site-packages/dask/dataframe/_pyarrow_compat.py:23: UserWarning: You are using pyarrow version 11.0.0 which is known to be insecure. See https://www.cve.org/CVERecord?id=CVE-2023-47248 for further details. Please upgrade to pyarrow>=14.0.1 or install pyarrow-hotfix to patch your current version.\n",
      "  warnings.warn(\n"
     ]
    }
   ],
   "source": [
    "from glob import glob\n",
    "import numpy as np\n",
    "import pandas as pd\n",
    "import polars as pl\n",
    "import lightgbm as lgb\n",
    "import xgboost as xgb\n",
    "from catboost import  CatBoostClassifier, FeaturesData, Pool\n",
    "from sklearn.metrics import roc_auc_score\n",
    "from sklearn.model_selection import StratifiedGroupKFold"
   ]
  },
  {
   "cell_type": "code",
   "execution_count": 2,
   "id": "a4e99357",
   "metadata": {
    "execution": {
     "iopub.execute_input": "2024-05-14T01:57:00.559675Z",
     "iopub.status.busy": "2024-05-14T01:57:00.559022Z",
     "iopub.status.idle": "2024-05-14T01:57:00.564041Z",
     "shell.execute_reply": "2024-05-14T01:57:00.562937Z"
    },
    "papermill": {
     "duration": 0.021044,
     "end_time": "2024-05-14T01:57:00.566462",
     "exception": false,
     "start_time": "2024-05-14T01:57:00.545418",
     "status": "completed"
    },
    "tags": []
   },
   "outputs": [],
   "source": [
    "ROOT = '/kaggle/input/home-credit-credit-risk-model-stability'\n",
    "TARGET = 'target'\n",
    "batch_size = 1000"
   ]
  },
  {
   "cell_type": "code",
   "execution_count": 3,
   "id": "a3dd3e4f",
   "metadata": {
    "execution": {
     "iopub.execute_input": "2024-05-14T01:57:00.594817Z",
     "iopub.status.busy": "2024-05-14T01:57:00.594552Z",
     "iopub.status.idle": "2024-05-14T01:57:00.615255Z",
     "shell.execute_reply": "2024-05-14T01:57:00.614426Z"
    },
    "papermill": {
     "duration": 0.038184,
     "end_time": "2024-05-14T01:57:00.617112",
     "exception": false,
     "start_time": "2024-05-14T01:57:00.578928",
     "status": "completed"
    },
    "tags": []
   },
   "outputs": [],
   "source": [
    "class TreeModelling:\n",
    "    \"\"\"\n",
    "        Train and test data should contain the same selected features for ML models.\n",
    "        Train, test data and target should be the same data type. (Pandas or Numpy)\n",
    "    \"\"\"\n",
    "    def __init__(self, config):\n",
    "        self.config = config \n",
    "    \n",
    "    def lgb_train(self, x_tr, y_tr, params, cat = \"auto\"):\n",
    "        \n",
    "        model = lgb.train(params,\n",
    "                          lgb.Dataset(x_tr, y_tr),\n",
    "                          categorical_feature = cat)\n",
    "    \n",
    "        return model\n",
    "    \n",
    "    def lgb_train_and_valid(self, x_tr, y_tr, x_val, y_val, params, feval=None, cat=\"auto\"):\n",
    "            \n",
    "        dtrain = lgb.Dataset(x_tr, y_tr)#, weight = train_weight)\n",
    "        deval = lgb.Dataset(x_val, y_val, reference=dtrain)\n",
    "\n",
    "        ####\n",
    "        dtrain.week_num = train_week\n",
    "        deval.week_num =  valid_week\n",
    "        ####\n",
    "\n",
    "        callbacks = [\n",
    "                lgb.early_stopping(stopping_rounds=self.config[\"lgb\"][\"es_round\"],\n",
    "                                   first_metric_only = True), \n",
    "                lgb.log_evaluation(self.config[\"lgb\"][\"verbose_eval\"])\n",
    "            ]\n",
    "            \n",
    "        model = lgb.train(params, dtrain, \n",
    "                          self.config[\"lgb\"][\"num_round\"], \n",
    "                          valid_sets=[deval], \n",
    "                          feval = feval,\n",
    "                          callbacks = callbacks,\n",
    "                          categorical_feature = cat)\n",
    "        valid_pred = model.predict(x_val)\n",
    "    \n",
    "        return model, valid_pred\n",
    "        \n",
    "    def lgb_test(self, models, test):\n",
    "        test_pred = [model.predict(test) for model in models]\n",
    "        test_pred = np.mean(test_pred, axis=0)\n",
    "        return test_pred\n",
    "    \n",
    "\n",
    "    def xgb_train_and_valid(self, x_tr, y_tr, x_val, y_val, params):\n",
    "                \n",
    "        xgb_eval = xgb.DMatrix(x_val, label = y_val)\n",
    "        model = xgb.train(params,\n",
    "                          xgb.DMatrix(x_tr, label = y_tr), \n",
    "                          self.config[\"xgb\"][\"num_round\"],\n",
    "                          evals = [(xgb_eval, \"eval\")], \n",
    "                          early_stopping_rounds = self.config[\"xgb\"][\"es_round\"], \n",
    "                          verbose_eval = self.config[\"xgb\"][\"verbose_eval\"])\n",
    "        valid_pred = model.predict(xgb_eval, iteration_range=(0, model.best_ntree_limit))\n",
    "    \n",
    "        return model, valid_pred\n",
    "    \n",
    "    def xgb_test(self, models, test):\n",
    "        dtest = xgb.DMatrix(test)\n",
    "        test_pred = [model.predict(dtest, iteration_range=(0, model.best_ntree_limit)) for model in models]\n",
    "        test_pred = np.mean(test_pred, axis=0)\n",
    "        return test_pred\n",
    "    \n",
    "\n",
    "    def cb_train(self, x_tr, y_tr, params, cat):\n",
    "        \n",
    "        train_pool = Pool(data=x_tr,\n",
    "                          label=y_tr,\n",
    "                          cat_features=cat\n",
    "                         )\n",
    "                \n",
    "        if self.config[\"cb\"][\"task_type\"] == \"classification\":\n",
    "            model = CatBoostClassifier(**params)\n",
    "\n",
    "        elif self.config[\"cb\"][\"task_type\"]:\n",
    "            model = CatBoostRegressor(**params)\n",
    "        model.fit(train_pool)\n",
    "            \n",
    "        return model\n",
    "\n",
    "    \n",
    "    def cb_train_and_valid(self, x_tr, y_tr, x_val, y_val, params, cat):\n",
    "        \n",
    "        train_pool = Pool(data=x_tr,\n",
    "                          label=y_tr,\n",
    "                          cat_features=cat)\n",
    "        \n",
    "        valid_pool = Pool(data=x_val,\n",
    "                          label=y_val,\n",
    "                          cat_features=cat)\n",
    "                \n",
    "        if self.config[\"cb\"][\"task_type\"] == \"classification\":\n",
    "            model = CatBoostClassifier(**params)\n",
    "            model.fit(train_pool,\n",
    "                      eval_set=[valid_pool], \n",
    "                      early_stopping_rounds=self.config[\"cb\"][\"es_round\"],\n",
    "                      verbose_eval = self.config[\"cb\"][\"verbose_eval\"])\n",
    "            valid_pred = model.predict_proba(x_val)[:,1]\n",
    "        elif self.config[\"cb\"][\"task_type\"]:\n",
    "            model = CatBoostRegressor(**params)\n",
    "            model.fit(train_pool,\n",
    "                      eval_set=[valid_pool], \n",
    "                      early_stopping_rounds=self.config[\"cb\"][\"es_round\"], \n",
    "                      verbose_eval = self.config[\"cb\"][\"verbose_eval\"])\n",
    "            valid_pred = model.predict(x_val)\n",
    "            \n",
    "        return model, valid_pred\n",
    "    \n",
    "    def cb_test(self, models, test):\n",
    "        if self.config[\"cb\"][\"task_type\"] == \"classification\":\n",
    "            test_pred = [model.predict_proba(test)[:,1] for model in models]\n",
    "        else:\n",
    "            test_pred = [model.predict(test) for model in models]\n",
    "        test_pred = np.mean(test_pred, axis=0)        \n",
    "        return test_pred"
   ]
  },
  {
   "cell_type": "markdown",
   "id": "69775455",
   "metadata": {
    "papermill": {
     "duration": 0.010771,
     "end_time": "2024-05-14T01:57:00.638995",
     "exception": false,
     "start_time": "2024-05-14T01:57:00.628224",
     "status": "completed"
    },
    "tags": []
   },
   "source": [
    "------- edit from here -------------"
   ]
  },
  {
   "cell_type": "markdown",
   "id": "6c9feb27",
   "metadata": {
    "papermill": {
     "duration": 0.010771,
     "end_time": "2024-05-14T01:57:00.660813",
     "exception": false,
     "start_time": "2024-05-14T01:57:00.650042",
     "status": "completed"
    },
    "tags": []
   },
   "source": [
    "# metric functions"
   ]
  },
  {
   "cell_type": "code",
   "execution_count": 4,
   "id": "afbbf376",
   "metadata": {
    "execution": {
     "iopub.execute_input": "2024-05-14T01:57:00.684063Z",
     "iopub.status.busy": "2024-05-14T01:57:00.683814Z",
     "iopub.status.idle": "2024-05-14T01:57:00.700625Z",
     "shell.execute_reply": "2024-05-14T01:57:00.699968Z"
    },
    "papermill": {
     "duration": 0.030665,
     "end_time": "2024-05-14T01:57:00.702490",
     "exception": false,
     "start_time": "2024-05-14T01:57:00.671825",
     "status": "completed"
    },
    "tags": []
   },
   "outputs": [],
   "source": [
    "def comp_metric(base, w_fallingrate=88.0, w_resstd=-0.5):\n",
    "    def calc_lr_scores(x, y):\n",
    "        a, b = np.polyfit(x, y, 1)\n",
    "        y_hat = a*x + b\n",
    "        residuals = y - y_hat\n",
    "        res_std = np.std(residuals)\n",
    "        return w_fallingrate * min(0, a) + w_resstd * res_std\n",
    "    \n",
    "    gini_in_time = base.loc[:, [\"WEEK_NUM\", \"target\", \"score\"]]\\\n",
    "        .sort_values(\"WEEK_NUM\")\\\n",
    "        .groupby(\"WEEK_NUM\")[[\"target\", \"score\"]]\\\n",
    "        .apply(lambda x: 2*roc_auc_score(x[\"target\"], x[\"score\"])-1).tolist()\n",
    "    \n",
    "    avg_gini = np.mean(gini_in_time)\n",
    "    x = np.arange(len(gini_in_time))\n",
    "    y = np.array(gini_in_time)\n",
    "    score = avg_gini + calc_lr_scores(x, y)\n",
    "    return score\n",
    "\n",
    "def weekly_gini(base, opt):\n",
    "    gini_in_time = base.loc[:, [\"WEEK_NUM\", \"target\", \"score\"]]\\\n",
    "    .groupby(\"WEEK_NUM\")[[\"target\", \"score\"]]\\\n",
    "    .apply(lambda x: 2*roc_auc_score(x[\"target\"], x[\"score\"])-1).tolist()\n",
    "    \n",
    "    if opt == \"mean\":\n",
    "        score = np.mean(gini_in_time)\n",
    "    elif opt == \"min\":\n",
    "        score = np.min(gini_in_time)\n",
    "    elif opt == \"std\":\n",
    "        score = np.std(gini_in_time)\n",
    "    return score\n",
    "\n",
    "def lgb_avg_gini_metric(preds, eval_data):\n",
    "    labels = eval_data.get_label()\n",
    "    week_num = eval_data.week_num\n",
    "    y_pred = preds.reshape(-1, 1)\n",
    "    \n",
    "    score_df = pd.DataFrame(week_num, columns = [\"WEEK_NUM\"])\n",
    "    score_df[\"target\"] = labels\n",
    "    score_df[\"score\"] = y_pred\n",
    "        \n",
    "    score = weekly_gini(score_df, \"mean\")\n",
    "    \n",
    "    return 'avg', score, True\n",
    "\n",
    "def lgb_std_gini_metric(preds, eval_data):\n",
    "    labels = eval_data.get_label()\n",
    "    week_num = eval_data.week_num\n",
    "    y_pred = preds.reshape(-1, 1)\n",
    "    \n",
    "    score_df = pd.DataFrame(week_num, columns = [\"WEEK_NUM\"])\n",
    "    score_df[\"target\"] = labels\n",
    "    score_df[\"score\"] = y_pred\n",
    "        \n",
    "    score = weekly_gini(score_df, \"std\")\n",
    "    \n",
    "    return 'std', score, False\n",
    "\n",
    "def false_positive(base):\n",
    "    base = base[base[\"target\"]==0]\n",
    "    score = np.sum(base[\"score\"] - base[\"target\"] >= 0.8)\n",
    "\n",
    "    return score\n",
    "\n",
    "def false_negative(base):\n",
    "    base = base[base[\"target\"]==1]\n",
    "    score = np.sum(base[\"target\"] - base[\"score\"] >= 0.8)\n",
    "    \n",
    "    return score\n",
    "\n",
    "def lgb_avg_neg_metric(preds, eval_data):\n",
    "    labels = eval_data.get_label()\n",
    "    y_pred = preds.reshape(-1, 1)\n",
    "    \n",
    "    score_df = pd.DataFrame(labels, columns = [\"target\"])\n",
    "    score_df[\"score\"] = y_pred\n",
    "        \n",
    "    score = false_positive(score_df)\n",
    "    \n",
    "    return 'ext_fp', score, False\n",
    "\n",
    "def lgb_avg_pos_metric(preds, eval_data):\n",
    "    labels = eval_data.get_label()\n",
    "    y_pred = preds.reshape(-1, 1)\n",
    "    \n",
    "    score_df = pd.DataFrame(labels, columns = [\"target\"])\n",
    "    score_df[\"score\"] = y_pred\n",
    "    \n",
    "    score = false_negative(score_df)\n",
    "    \n",
    "    return \"ext_fn\", score, False\n",
    "\n",
    "def metrics(preds, data):\n",
    "    return [\n",
    "        lgb_avg_gini_metric(preds, data),\n",
    "        lgb_std_gini_metric(preds, data),\n",
    "        lgb_avg_neg_metric(preds, data),\n",
    "        lgb_avg_pos_metric(preds, data),\n",
    "    ]"
   ]
  },
  {
   "cell_type": "markdown",
   "id": "9232e7e5",
   "metadata": {
    "papermill": {
     "duration": 0.011168,
     "end_time": "2024-05-14T01:57:00.724706",
     "exception": false,
     "start_time": "2024-05-14T01:57:00.713538",
     "status": "completed"
    },
    "tags": []
   },
   "source": [
    "# common fe functions"
   ]
  },
  {
   "cell_type": "code",
   "execution_count": 5,
   "id": "b4d7c1a1",
   "metadata": {
    "execution": {
     "iopub.execute_input": "2024-05-14T01:57:00.748273Z",
     "iopub.status.busy": "2024-05-14T01:57:00.747984Z",
     "iopub.status.idle": "2024-05-14T01:57:00.897513Z",
     "shell.execute_reply": "2024-05-14T01:57:00.896562Z"
    },
    "papermill": {
     "duration": 0.163844,
     "end_time": "2024-05-14T01:57:00.899709",
     "exception": false,
     "start_time": "2024-05-14T01:57:00.735865",
     "status": "completed"
    },
    "tags": []
   },
   "outputs": [],
   "source": [
    "# fix data type\n",
    "feature_def = pd.read_parquet(\"/kaggle/input/home-credit-enhanced-feature-definitions/feature_definitions_dtypes_tables.parquet\")\n",
    "feature_def = dict(zip(feature_def[\"Variable\"], feature_def[\"dtype\"]))\n",
    "\n",
    "def set_table_dtypes(df):\n",
    "    for col in df.columns:\n",
    "        if col in [\"case_id\", \"WEEK_NUM\", \"num_group1\", \"num_group2\"]:\n",
    "            df = df.with_columns(pl.col(col).cast(pl.Int64))\n",
    "        elif col in [\"date_decision\"]:\n",
    "            df = df.with_columns(pl.col(col).cast(pl.Date))\n",
    "        elif col in [\"persontype_1072L\", \"persontype_792L\", \"personindex_1023L\"]:\n",
    "            df = df.with_columns(pl.col(col).cast(pl.String))\n",
    "        elif col[-1] in (\"P\", \"A\"):\n",
    "            df = df.with_columns(pl.col(col).cast(pl.Float32))\n",
    "        elif col[-1] in (\"M\",):\n",
    "            df = df.with_columns(pl.col(col).cast(pl.String))\n",
    "        elif col[-1] in (\"D\",):\n",
    "            df = df.with_columns(pl.col(col).cast(pl.Date))\n",
    "        else:\n",
    "            if \"String\" in feature_def[col]:\n",
    "                df = df.with_columns(pl.col(col).cast(pl.String))\n",
    "            elif \"Float\" in feature_def[col]:\n",
    "                df = df.with_columns(pl.col(col).cast(pl.Float32))\n",
    "            elif \"Date\" in feature_def[col]:\n",
    "                df = df.with_columns(pl.col(col).cast(pl.Date))\n",
    "            elif \"Boolean\" in feature_def[col]:\n",
    "                if \"String\" in str(df[col].dtype):\n",
    "                    df = df.with_columns(pl.col(col).str.to_lowercase())\n",
    "                    df = df.with_columns(pl.col(col).replace({\"false\":False, \"true\":True}, default=None))\n",
    "                    df = df.with_columns(pl.col(col).cast(pl.Int8))\n",
    "                else:\n",
    "                    df = df.with_columns(pl.col(col).cast(pl.Int8))\n",
    "\n",
    "    return df\n",
    "\n",
    "def filter_cols(df):\n",
    "    remove_cols = []\n",
    "    for col in df.columns:\n",
    "        if df[col].n_unique() == 1 or df[col].null_count() == df.shape[0]:\n",
    "            remove_cols.append(col)\n",
    "    return remove_cols"
   ]
  },
  {
   "cell_type": "code",
   "execution_count": 6,
   "id": "84213ff9",
   "metadata": {
    "execution": {
     "iopub.execute_input": "2024-05-14T01:57:00.926551Z",
     "iopub.status.busy": "2024-05-14T01:57:00.925611Z",
     "iopub.status.idle": "2024-05-14T01:57:00.936172Z",
     "shell.execute_reply": "2024-05-14T01:57:00.935212Z"
    },
    "papermill": {
     "duration": 0.028008,
     "end_time": "2024-05-14T01:57:00.938940",
     "exception": false,
     "start_time": "2024-05-14T01:57:00.910932",
     "status": "completed"
    },
    "tags": []
   },
   "outputs": [],
   "source": [
    "# for numeric columns\n",
    "def agg_float_cols(input_df, operation_dict):\n",
    "    \n",
    "    cons_cols = list(operation_dict.keys())\n",
    "    agg_cols = []\n",
    "    for col in cons_cols:\n",
    "        operations = operation_dict[col]\n",
    "        for option in operations:\n",
    "            if \"min\" == option:\n",
    "                agg_cols.append(pl.min(col).alias(f\"min_{col}\"))\n",
    "            if \"max\" == option:\n",
    "                agg_cols.append(pl.max(col).alias(f\"max_{col}\"))\n",
    "            if \"mean\" == option:\n",
    "                agg_cols.append(pl.mean(col).alias(f\"mean_{col}\"))\n",
    "            if \"median\" == option:\n",
    "                agg_cols.append(pl.median(col).alias(f\"median_{col}\"))\n",
    "            if \"std\" == option:\n",
    "                agg_cols.append(pl.std(col).alias(f\"std_{col}\"))\n",
    "            if \"sum\" == option:\n",
    "                agg_cols.append(pl.sum(col).alias(f\"sum_{col}\"))\n",
    "\n",
    "    output_df = input_df.group_by(\"case_id\").agg(agg_cols)\n",
    "        \n",
    "    return output_df"
   ]
  },
  {
   "cell_type": "code",
   "execution_count": 7,
   "id": "5458b57c",
   "metadata": {
    "execution": {
     "iopub.execute_input": "2024-05-14T01:57:00.965814Z",
     "iopub.status.busy": "2024-05-14T01:57:00.965166Z",
     "iopub.status.idle": "2024-05-14T01:57:00.974563Z",
     "shell.execute_reply": "2024-05-14T01:57:00.973706Z"
    },
    "papermill": {
     "duration": 0.024096,
     "end_time": "2024-05-14T01:57:00.976824",
     "exception": false,
     "start_time": "2024-05-14T01:57:00.952728",
     "status": "completed"
    },
    "tags": []
   },
   "outputs": [],
   "source": [
    "# for string columns\n",
    "def convert_strings(train_df, test_df, str_cols):\n",
    "    for col in str_cols: \n",
    "        train_categories = set(train_df.filter(pl.col(col).is_not_null()).unique(col).select(col).to_numpy().reshape(-1))\n",
    "        test_categories = set(test_df.filter(pl.col(col).is_not_null()).unique(col).select(col).to_numpy().reshape(-1))\n",
    "        encoding_dict = dict([(c, i) for i, c in enumerate(list(sorted(train_categories)))])\n",
    "        unique_cat_idx = len(encoding_dict)\n",
    "        unique_categories = list(sorted(test_categories - train_categories))\n",
    "        for ele in unique_categories:\n",
    "            encoding_dict[ele] = unique_cat_idx\n",
    "        train_df = train_df.with_columns(pl.col(col).replace(encoding_dict, default = None))\n",
    "        test_df = test_df.with_columns(pl.col(col).replace(encoding_dict, default = None))\n",
    "    return train_df, test_df"
   ]
  },
  {
   "cell_type": "code",
   "execution_count": 8,
   "id": "e8746b18",
   "metadata": {
    "execution": {
     "iopub.execute_input": "2024-05-14T01:57:01.002083Z",
     "iopub.status.busy": "2024-05-14T01:57:01.001805Z",
     "iopub.status.idle": "2024-05-14T01:57:01.008637Z",
     "shell.execute_reply": "2024-05-14T01:57:01.007811Z"
    },
    "papermill": {
     "duration": 0.020951,
     "end_time": "2024-05-14T01:57:01.010520",
     "exception": false,
     "start_time": "2024-05-14T01:57:00.989569",
     "status": "completed"
    },
    "tags": []
   },
   "outputs": [],
   "source": [
    "def load_base_data(prefix):\n",
    "\n",
    "    base =  pl.read_csv(ROOT + f'/csv_files/{prefix}/{prefix}_base.csv')\n",
    "    base = base.with_columns(pl.col(\"date_decision\").cast(pl.Date))\n",
    "    \n",
    "    return base\n",
    "\n",
    "def unite_depth0_data(base, prefix):\n",
    "\n",
    "    # depth 0 internal\n",
    "    static0_paths = ROOT + f\"/csv_files/{prefix}/{prefix}_static_0_*.csv\"\n",
    "    static0 = [pl.read_csv(path) for path in glob(static0_paths)]\n",
    "    depth0_internal = pl.concat(static0, how=\"vertical_relaxed\").pipe(set_table_dtypes) \n",
    "\n",
    "    # depth 0 external\n",
    "    depth0_external = pl.read_csv(ROOT + f\"/csv_files/{prefix}/{prefix}_static_cb_0.csv\").pipe(set_table_dtypes)\n",
    "    \n",
    "    base = base.join(depth0_internal, on = \"case_id\", how = \"left\")\n",
    "    base = base.join(depth0_external, on = \"case_id\", how = \"left\")\n",
    "        \n",
    "    return base"
   ]
  },
  {
   "cell_type": "code",
   "execution_count": 9,
   "id": "be4557da",
   "metadata": {
    "execution": {
     "iopub.execute_input": "2024-05-14T01:57:01.033889Z",
     "iopub.status.busy": "2024-05-14T01:57:01.033590Z",
     "iopub.status.idle": "2024-05-14T01:57:01.045490Z",
     "shell.execute_reply": "2024-05-14T01:57:01.044689Z"
    },
    "papermill": {
     "duration": 0.02561,
     "end_time": "2024-05-14T01:57:01.047384",
     "exception": false,
     "start_time": "2024-05-14T01:57:01.021774",
     "status": "completed"
    },
    "tags": []
   },
   "outputs": [],
   "source": [
    "def unite_depth1_data(base, prefix):    \n",
    "\n",
    "    # person\n",
    "    person = pl.read_csv(ROOT + f\"/csv_files/{prefix}/{prefix}_person_1.csv\").pipe(set_table_dtypes)\n",
    "    str_cols = [i for i in person.columns if \"String\" in str(person[i].dtype) and person[i].n_unique() < 200]\n",
    "    person_feats = person.filter(pl.col(\"num_group1\")==0).select([\"case_id\", \"birth_259D\"] + str_cols)\n",
    "    \n",
    "    base = base.join(person_feats, on = \"case_id\", how = \"left\")\n",
    "    base = base.with_columns((pl.col(\"date_decision\") - pl.col(\"birth_259D\")).alias(\"age\"))\n",
    "    base = base.with_columns(pl.col(\"age\").dt.total_days() / 365)\n",
    "    \n",
    "    # other\n",
    "    other = pl.read_csv(ROOT + f\"/csv_files/{prefix}/{prefix}_other_1.csv\").pipe(set_table_dtypes) \n",
    "    other = agg_float_cols(other, {\n",
    "                                    \"amtdebitincoming_4809443A\": [\"max\"],\n",
    "                                    \"amtdebitoutgoing_4809440A\": [\"max\"],\n",
    "                                    \"amtdepositbalance_4809441A\": [\"max\"],\n",
    "                                    \"amtdepositincoming_4809444A\": [\"max\"],\n",
    "                                    \"amtdepositoutgoing_4809442A\": [\"max\"]})\n",
    "    base = base.join(other, on = \"case_id\", how = \"left\")\n",
    "    \n",
    "    # tax\n",
    "    tax_a1 = pl.read_csv(ROOT + f\"/csv_files/{prefix}/{prefix}_tax_registry_a_1.csv\").pipe(set_table_dtypes)\n",
    "    tax_b1 = pl.read_csv(ROOT + f\"/csv_files/{prefix}/{prefix}_tax_registry_b_1.csv\").pipe(set_table_dtypes)\n",
    "    \n",
    "    tax_a1 = agg_float_cols(tax_a1, {\"amount_4527230A\": [\"sum\"]})\n",
    "    tax_b1 = agg_float_cols(tax_b1, {\"amount_4917619A\": [\"sum\"]})\n",
    "    \n",
    "    base = base.join(tax_a1, on = \"case_id\", how = \"left\")\n",
    "    base = base.join(tax_b1, on = \"case_id\", how = \"left\")\n",
    "    \n",
    "    # applprev1\n",
    "    paths = ROOT + f\"/csv_files/{prefix}/{prefix}_applprev_1_*.csv\"\n",
    "    applprev1 = [pl.read_csv(path) for path in glob(paths)]\n",
    "    applprev1 = pl.concat(applprev1, how=\"vertical_relaxed\").pipe(set_table_dtypes).drop(\"childnum_21L\")\n",
    "    \n",
    "    operations = {i: [\"mean\", \"std\"] for i in applprev1.columns if \"Float\" in str(applprev1[i].dtype)}\n",
    "    applprev1_numeric = agg_float_cols(applprev1, operations)\n",
    "    base = base.join(applprev1_numeric, on = \"case_id\", how = \"left\")\n",
    "    \n",
    "    return base"
   ]
  },
  {
   "cell_type": "code",
   "execution_count": 10,
   "id": "39cd44bd",
   "metadata": {
    "execution": {
     "iopub.execute_input": "2024-05-14T01:57:01.070359Z",
     "iopub.status.busy": "2024-05-14T01:57:01.070107Z",
     "iopub.status.idle": "2024-05-14T01:57:01.076299Z",
     "shell.execute_reply": "2024-05-14T01:57:01.075432Z"
    },
    "papermill": {
     "duration": 0.019834,
     "end_time": "2024-05-14T01:57:01.078179",
     "exception": false,
     "start_time": "2024-05-14T01:57:01.058345",
     "status": "completed"
    },
    "tags": []
   },
   "outputs": [],
   "source": [
    "def unite_depth2_data(base, prefix):\n",
    "    # cb a2\n",
    "    output_feats = []\n",
    "    \n",
    "    for path in glob(str(ROOT + f\"/csv_files/{prefix}/{prefix}_credit_bureau_a_2_*.csv\")):\n",
    "        cb_a2 = pl.read_csv(path).pipe(set_table_dtypes)\n",
    "        agg_cols = []\n",
    "\n",
    "        cons_cols = [\"pmts_overdue_1140A\", \"pmts_overdue_1152A\"]\n",
    "        for col in cons_cols:\n",
    "            agg_cols.append(pl.sum(col).alias(f\"sum_{col}\"))\n",
    "            \n",
    "        cb_a2 = cb_a2.group_by('case_id').agg(agg_cols)\n",
    "        output_feats.append(cb_a2)\n",
    "    output_feats = pl.concat(output_feats)\n",
    "    \n",
    "    base = base.join(output_feats, on = \"case_id\", how = \"left\")\n",
    "    return base"
   ]
  },
  {
   "cell_type": "markdown",
   "id": "3a423617",
   "metadata": {
    "papermill": {
     "duration": 0.011269,
     "end_time": "2024-05-14T01:57:01.100606",
     "exception": false,
     "start_time": "2024-05-14T01:57:01.089337",
     "status": "completed"
    },
    "tags": []
   },
   "source": [
    "# feature engineering"
   ]
  },
  {
   "cell_type": "code",
   "execution_count": 11,
   "id": "9c7d7e79",
   "metadata": {
    "execution": {
     "iopub.execute_input": "2024-05-14T01:57:01.124480Z",
     "iopub.status.busy": "2024-05-14T01:57:01.124216Z",
     "iopub.status.idle": "2024-05-14T01:59:52.309543Z",
     "shell.execute_reply": "2024-05-14T01:59:52.308663Z"
    },
    "papermill": {
     "duration": 171.200082,
     "end_time": "2024-05-14T01:59:52.312023",
     "exception": false,
     "start_time": "2024-05-14T01:57:01.111941",
     "status": "completed"
    },
    "tags": []
   },
   "outputs": [],
   "source": [
    "train = load_base_data(\"train\")\n",
    "train_overall = unite_depth0_data(train, \"train\")\n",
    "train_overall = unite_depth1_data(train_overall, \"train\")\n",
    "train_overall = unite_depth2_data(train_overall, \"train\")\n",
    "y_train = train_overall.select(\"target\").to_pandas()"
   ]
  },
  {
   "cell_type": "code",
   "execution_count": 12,
   "id": "7ccc9ecb",
   "metadata": {
    "execution": {
     "iopub.execute_input": "2024-05-14T01:59:52.336089Z",
     "iopub.status.busy": "2024-05-14T01:59:52.335395Z",
     "iopub.status.idle": "2024-05-14T01:59:52.461424Z",
     "shell.execute_reply": "2024-05-14T01:59:52.460663Z"
    },
    "papermill": {
     "duration": 0.140267,
     "end_time": "2024-05-14T01:59:52.463769",
     "exception": false,
     "start_time": "2024-05-14T01:59:52.323502",
     "status": "completed"
    },
    "tags": []
   },
   "outputs": [],
   "source": [
    "test = load_base_data(\"test\")\n",
    "test_overall = unite_depth0_data(test, \"test\")\n",
    "test_overall = unite_depth1_data(test_overall, \"test\")\n",
    "test_overall = unite_depth2_data(test_overall, \"test\")\n",
    "test_case_ids = test[\"case_id\"].to_numpy().reshape(-1)"
   ]
  },
  {
   "cell_type": "markdown",
   "id": "5fc23683",
   "metadata": {
    "papermill": {
     "duration": 0.010944,
     "end_time": "2024-05-14T01:59:52.486083",
     "exception": false,
     "start_time": "2024-05-14T01:59:52.475139",
     "status": "completed"
    },
    "tags": []
   },
   "source": [
    "# remove cols"
   ]
  },
  {
   "cell_type": "code",
   "execution_count": 13,
   "id": "72bd58ce",
   "metadata": {
    "execution": {
     "iopub.execute_input": "2024-05-14T01:59:52.510240Z",
     "iopub.status.busy": "2024-05-14T01:59:52.509509Z",
     "iopub.status.idle": "2024-05-14T01:59:57.893971Z",
     "shell.execute_reply": "2024-05-14T01:59:57.892707Z"
    },
    "papermill": {
     "duration": 5.398961,
     "end_time": "2024-05-14T01:59:57.896016",
     "exception": false,
     "start_time": "2024-05-14T01:59:52.497055",
     "status": "completed"
    },
    "tags": []
   },
   "outputs": [
    {
     "name": "stdout",
     "output_type": "stream",
     "text": [
      "40\n"
     ]
    }
   ],
   "source": [
    "remove_cols = filter_cols(train_overall)\n",
    "date_features = [i for i in train_overall.columns if \"Date\" in str(train_overall[i].dtype)]\n",
    "unused_cols = [\"mastercontrelectronic_519L\", \"mastercontrexist_109L\",\n",
    "               \"clientscnt_136L\", \"previouscontdistrict_112M\",\n",
    "               \"lastapprcommoditytypec_5251766M\", \"gender_992L\", \"maritalst_703L\"]\n",
    "print(len(remove_cols + date_features + unused_cols))\n",
    "train_overall = train_overall.drop(remove_cols + date_features + unused_cols)\n",
    "test_overall = test_overall.drop(remove_cols + date_features + unused_cols)"
   ]
  },
  {
   "cell_type": "markdown",
   "id": "136b9b0b",
   "metadata": {
    "papermill": {
     "duration": 0.011288,
     "end_time": "2024-05-14T01:59:57.918967",
     "exception": false,
     "start_time": "2024-05-14T01:59:57.907679",
     "status": "completed"
    },
    "tags": []
   },
   "source": [
    "# boolean"
   ]
  },
  {
   "cell_type": "code",
   "execution_count": 14,
   "id": "7922d554",
   "metadata": {
    "execution": {
     "iopub.execute_input": "2024-05-14T01:59:57.942314Z",
     "iopub.status.busy": "2024-05-14T01:59:57.941998Z",
     "iopub.status.idle": "2024-05-14T01:59:57.948262Z",
     "shell.execute_reply": "2024-05-14T01:59:57.947422Z"
    },
    "papermill": {
     "duration": 0.020395,
     "end_time": "2024-05-14T01:59:57.950416",
     "exception": false,
     "start_time": "2024-05-14T01:59:57.930021",
     "status": "completed"
    },
    "tags": []
   },
   "outputs": [
    {
     "name": "stdout",
     "output_type": "stream",
     "text": [
      "6\n"
     ]
    }
   ],
   "source": [
    "bool_features = [i for i in train_overall.columns if \"Int\" in str(train_overall[i].dtype) and \n",
    "                 i not in [\"case_id\", \"MONTH\", \"WEEK_NUM\", \"target\"]]\n",
    "print(len(bool_features))"
   ]
  },
  {
   "cell_type": "markdown",
   "id": "a67a55d7",
   "metadata": {
    "papermill": {
     "duration": 0.011096,
     "end_time": "2024-05-14T01:59:57.972586",
     "exception": false,
     "start_time": "2024-05-14T01:59:57.961490",
     "status": "completed"
    },
    "tags": []
   },
   "source": [
    "# float"
   ]
  },
  {
   "cell_type": "code",
   "execution_count": 15,
   "id": "319bb955",
   "metadata": {
    "execution": {
     "iopub.execute_input": "2024-05-14T01:59:57.996559Z",
     "iopub.status.busy": "2024-05-14T01:59:57.996249Z",
     "iopub.status.idle": "2024-05-14T01:59:58.002642Z",
     "shell.execute_reply": "2024-05-14T01:59:58.001617Z"
    },
    "papermill": {
     "duration": 0.020528,
     "end_time": "2024-05-14T01:59:58.004634",
     "exception": false,
     "start_time": "2024-05-14T01:59:57.984106",
     "status": "completed"
    },
    "tags": []
   },
   "outputs": [
    {
     "name": "stdout",
     "output_type": "stream",
     "text": [
      "204\n"
     ]
    }
   ],
   "source": [
    "float_features = [i for i in train_overall.columns if \"Float\" in str(train_overall[i].dtype)]\n",
    "print(len(float_features))"
   ]
  },
  {
   "cell_type": "markdown",
   "id": "9ad91b3c",
   "metadata": {
    "papermill": {
     "duration": 0.011233,
     "end_time": "2024-05-14T01:59:58.027249",
     "exception": false,
     "start_time": "2024-05-14T01:59:58.016016",
     "status": "completed"
    },
    "tags": []
   },
   "source": [
    "# strings"
   ]
  },
  {
   "cell_type": "code",
   "execution_count": 16,
   "id": "2c94cac3",
   "metadata": {
    "execution": {
     "iopub.execute_input": "2024-05-14T01:59:58.051951Z",
     "iopub.status.busy": "2024-05-14T01:59:58.051351Z",
     "iopub.status.idle": "2024-05-14T02:00:11.988908Z",
     "shell.execute_reply": "2024-05-14T02:00:11.987892Z"
    },
    "papermill": {
     "duration": 13.952439,
     "end_time": "2024-05-14T02:00:11.991458",
     "exception": false,
     "start_time": "2024-05-14T01:59:58.039019",
     "status": "completed"
    },
    "tags": []
   },
   "outputs": [
    {
     "name": "stdout",
     "output_type": "stream",
     "text": [
      "34\n"
     ]
    }
   ],
   "source": [
    "str_features= [i for i in train_overall.columns if \"String\" in str(train_overall[i].dtype)]\n",
    "print(len(str_features))\n",
    "train_overall, test_overall = convert_strings(train_overall, test_overall, str_features)"
   ]
  },
  {
   "cell_type": "code",
   "execution_count": 17,
   "id": "fc6e8684",
   "metadata": {
    "execution": {
     "iopub.execute_input": "2024-05-14T02:00:12.016137Z",
     "iopub.status.busy": "2024-05-14T02:00:12.015844Z",
     "iopub.status.idle": "2024-05-14T02:00:12.021145Z",
     "shell.execute_reply": "2024-05-14T02:00:12.020258Z"
    },
    "papermill": {
     "duration": 0.019667,
     "end_time": "2024-05-14T02:00:12.023175",
     "exception": false,
     "start_time": "2024-05-14T02:00:12.003508",
     "status": "completed"
    },
    "tags": []
   },
   "outputs": [],
   "source": [
    "selected_features = sorted([i for i in train_overall.columns if i not in [\"case_id\", \"MONTH\", \"WEEK_NUM\", \"target\"]])\n",
    "cat_features = [ele for ind, ele in enumerate(selected_features) if ele in bool_features + str_features]"
   ]
  },
  {
   "cell_type": "markdown",
   "id": "e4a4c2a2",
   "metadata": {
    "papermill": {
     "duration": 0.011137,
     "end_time": "2024-05-14T02:00:12.045697",
     "exception": false,
     "start_time": "2024-05-14T02:00:12.034560",
     "status": "completed"
    },
    "tags": []
   },
   "source": [
    "# convert from polars"
   ]
  },
  {
   "cell_type": "code",
   "execution_count": 18,
   "id": "3ebb3b72",
   "metadata": {
    "execution": {
     "iopub.execute_input": "2024-05-14T02:00:12.070261Z",
     "iopub.status.busy": "2024-05-14T02:00:12.069975Z",
     "iopub.status.idle": "2024-05-14T02:00:13.487517Z",
     "shell.execute_reply": "2024-05-14T02:00:13.486549Z"
    },
    "papermill": {
     "duration": 1.432115,
     "end_time": "2024-05-14T02:00:13.489979",
     "exception": false,
     "start_time": "2024-05-14T02:00:12.057864",
     "status": "completed"
    },
    "tags": []
   },
   "outputs": [],
   "source": [
    "train_fill_pd = train_overall.select(selected_features).to_pandas()\n",
    "test_fill_pd = test_overall.select(selected_features).to_pandas()\n",
    "\n",
    "for i in train_fill_pd.columns:\n",
    "    if i in cat_features:\n",
    "        if (train_fill_pd[i].isnull().sum() or test_fill_pd[i].isnull().sum()):\n",
    "            train_fill_pd[i] = train_fill_pd[i] + 1\n",
    "            test_fill_pd[i] = test_fill_pd[i] + 1\n",
    "        train_fill_pd[i] = train_fill_pd[i].fillna(0).astype(\"int32\")\n",
    "        test_fill_pd[i] = test_fill_pd[i].fillna(0).astype(\"int32\")"
   ]
  },
  {
   "cell_type": "code",
   "execution_count": 19,
   "id": "f9207be1",
   "metadata": {
    "execution": {
     "iopub.execute_input": "2024-05-14T02:00:13.515334Z",
     "iopub.status.busy": "2024-05-14T02:00:13.515040Z",
     "iopub.status.idle": "2024-05-14T02:00:14.186746Z",
     "shell.execute_reply": "2024-05-14T02:00:14.186083Z"
    },
    "papermill": {
     "duration": 0.686185,
     "end_time": "2024-05-14T02:00:14.188736",
     "exception": false,
     "start_time": "2024-05-14T02:00:13.502551",
     "status": "completed"
    },
    "tags": []
   },
   "outputs": [
    {
     "name": "stdout",
     "output_type": "stream",
     "text": [
      "(1526659, 244) (10, 244)\n"
     ]
    }
   ],
   "source": [
    "train_pd = train_overall.select(selected_features).to_pandas()\n",
    "test_pd = test_overall.select(selected_features).to_pandas()\n",
    "   \n",
    "print(train_pd.shape, test_pd.shape)"
   ]
  },
  {
   "cell_type": "markdown",
   "id": "016e38aa",
   "metadata": {
    "papermill": {
     "duration": 0.011284,
     "end_time": "2024-05-14T02:00:14.211764",
     "exception": false,
     "start_time": "2024-05-14T02:00:14.200480",
     "status": "completed"
    },
    "tags": []
   },
   "source": [
    "# cv"
   ]
  },
  {
   "cell_type": "code",
   "execution_count": 20,
   "id": "6610448e",
   "metadata": {
    "execution": {
     "iopub.execute_input": "2024-05-14T02:00:14.235593Z",
     "iopub.status.busy": "2024-05-14T02:00:14.235324Z",
     "iopub.status.idle": "2024-05-14T02:00:14.260693Z",
     "shell.execute_reply": "2024-05-14T02:00:14.259819Z"
    },
    "papermill": {
     "duration": 0.03954,
     "end_time": "2024-05-14T02:00:14.262629",
     "exception": false,
     "start_time": "2024-05-14T02:00:14.223089",
     "status": "completed"
    },
    "tags": []
   },
   "outputs": [],
   "source": [
    "train_week_df = train.select(\"WEEK_NUM\").to_pandas()\n",
    "cv = StratifiedGroupKFold(n_splits=5, shuffle=False)"
   ]
  },
  {
   "cell_type": "markdown",
   "id": "de953037",
   "metadata": {
    "papermill": {
     "duration": 0.011004,
     "end_time": "2024-05-14T02:00:14.284995",
     "exception": false,
     "start_time": "2024-05-14T02:00:14.273991",
     "status": "completed"
    },
    "tags": []
   },
   "source": [
    "# treemodel config"
   ]
  },
  {
   "cell_type": "code",
   "execution_count": 21,
   "id": "98c62df0",
   "metadata": {
    "execution": {
     "iopub.execute_input": "2024-05-14T02:00:14.309271Z",
     "iopub.status.busy": "2024-05-14T02:00:14.308589Z",
     "iopub.status.idle": "2024-05-14T02:00:14.315090Z",
     "shell.execute_reply": "2024-05-14T02:00:14.314300Z"
    },
    "papermill": {
     "duration": 0.020498,
     "end_time": "2024-05-14T02:00:14.316952",
     "exception": false,
     "start_time": "2024-05-14T02:00:14.296454",
     "status": "completed"
    },
    "tags": []
   },
   "outputs": [],
   "source": [
    "lgb_params1 = {\n",
    "            'objective': 'binary', \n",
    "            'metric': 'None',\n",
    "            'learning_rate': 0.02,\n",
    "            'scale_pos_weight': 10,\n",
    "            'boosting': 'gbdt',\n",
    "            'verbose': -1,\n",
    "            'seed': 42,\n",
    "            'num_leaves': 64, \n",
    "            \"reg_alpha\": 0.1,\n",
    "            \"reg_lambda\": 10,\n",
    "            \"cat_smooth\": 20,\n",
    "        }\n",
    "\n",
    "lgb_params2 = {\n",
    "            'objective': 'binary', \n",
    "            'metric': 'None',\n",
    "            'learning_rate': 0.02,\n",
    "            'scale_pos_weight': 8,\n",
    "            'boosting': 'gbdt',\n",
    "            'verbose': -1,\n",
    "            'seed': 42,\n",
    "            'extra_trees': True,\n",
    "        }\n",
    "\n",
    "cb_params = { \n",
    "            'random_seed': 42,\n",
    "            \"learning_rate\": 0.04,\n",
    "            'use_best_model': True,\n",
    "            'iterations': 10000,\n",
    "            'reg_lambda': 10,\n",
    "            \"scale_pos_weight\": 9,\n",
    "            \"task_type\": \"GPU\",\n",
    "            'loss_function': 'Logloss',\n",
    "        }"
   ]
  },
  {
   "cell_type": "code",
   "execution_count": 22,
   "id": "22abdd2b",
   "metadata": {
    "execution": {
     "iopub.execute_input": "2024-05-14T02:00:14.341064Z",
     "iopub.status.busy": "2024-05-14T02:00:14.340805Z",
     "iopub.status.idle": "2024-05-14T02:00:14.345158Z",
     "shell.execute_reply": "2024-05-14T02:00:14.344370Z"
    },
    "papermill": {
     "duration": 0.018571,
     "end_time": "2024-05-14T02:00:14.347024",
     "exception": false,
     "start_time": "2024-05-14T02:00:14.328453",
     "status": "completed"
    },
    "tags": []
   },
   "outputs": [],
   "source": [
    "config = {    \n",
    "    \"lgb\": {\n",
    "        \"num_round\": 10000,\n",
    "        \"es_round\" : 20,\n",
    "        \"verbose_eval\": 100,\n",
    "    },\n",
    "    \"cb\": {\n",
    "        \"task_type\": \"classification\",\n",
    "        \"es_round\" : 20,\n",
    "        \"verbose_eval\": 500,\n",
    "    },\n",
    "}"
   ]
  },
  {
   "cell_type": "code",
   "execution_count": 23,
   "id": "4fccfe22",
   "metadata": {
    "execution": {
     "iopub.execute_input": "2024-05-14T02:00:14.371032Z",
     "iopub.status.busy": "2024-05-14T02:00:14.370780Z",
     "iopub.status.idle": "2024-05-14T02:00:14.374426Z",
     "shell.execute_reply": "2024-05-14T02:00:14.373628Z"
    },
    "papermill": {
     "duration": 0.017637,
     "end_time": "2024-05-14T02:00:14.376323",
     "exception": false,
     "start_time": "2024-05-14T02:00:14.358686",
     "status": "completed"
    },
    "tags": []
   },
   "outputs": [],
   "source": [
    "treemodel = TreeModelling(config)"
   ]
  },
  {
   "cell_type": "markdown",
   "id": "fb72b6f1",
   "metadata": {
    "papermill": {
     "duration": 0.010917,
     "end_time": "2024-05-14T02:00:14.398463",
     "exception": false,
     "start_time": "2024-05-14T02:00:14.387546",
     "status": "completed"
    },
    "tags": []
   },
   "source": [
    "# modelling"
   ]
  },
  {
   "cell_type": "code",
   "execution_count": 24,
   "id": "21ab0f4c",
   "metadata": {
    "execution": {
     "iopub.execute_input": "2024-05-14T02:00:14.466301Z",
     "iopub.status.busy": "2024-05-14T02:00:14.465968Z",
     "iopub.status.idle": "2024-05-14T02:00:14.471687Z",
     "shell.execute_reply": "2024-05-14T02:00:14.470799Z"
    },
    "papermill": {
     "duration": 0.020839,
     "end_time": "2024-05-14T02:00:14.473741",
     "exception": false,
     "start_time": "2024-05-14T02:00:14.452902",
     "status": "completed"
    },
    "tags": []
   },
   "outputs": [],
   "source": [
    "def check_metric(output):\n",
    "    tmp = train.select(\"WEEK_NUM\", \"target\").to_pandas()\n",
    "    tmp[\"score\"] = output\n",
    "    print(\"comp metric: \", comp_metric(tmp))\n",
    "    print(\"ext fp cnt : \", false_positive(tmp))\n",
    "    print(\"ext fn cnt : \", false_negative(tmp))\n",
    "    print(\"std of gini: \", weekly_gini(tmp, \"std\"))"
   ]
  },
  {
   "cell_type": "code",
   "execution_count": 25,
   "id": "a873570c",
   "metadata": {
    "execution": {
     "iopub.execute_input": "2024-05-14T02:00:14.499226Z",
     "iopub.status.busy": "2024-05-14T02:00:14.498956Z",
     "iopub.status.idle": "2024-05-14T03:00:15.814881Z",
     "shell.execute_reply": "2024-05-14T03:00:15.813969Z"
    },
    "papermill": {
     "duration": 3601.331176,
     "end_time": "2024-05-14T03:00:15.817188",
     "exception": false,
     "start_time": "2024-05-14T02:00:14.486012",
     "status": "completed"
    },
    "tags": []
   },
   "outputs": [
    {
     "name": "stdout",
     "output_type": "stream",
     "text": [
      "Fold : 0\n",
      "Training until validation scores don't improve for 20 rounds\n",
      "[100]\tvalid_0's avg: 0.646479\tvalid_0's std: 0.0387676\tvalid_0's ext_fp: 0\tvalid_0's ext_fn: 1744\n",
      "[200]\tvalid_0's avg: 0.663201\tvalid_0's std: 0.0393006\tvalid_0's ext_fp: 66\tvalid_0's ext_fn: 1450\n",
      "[300]\tvalid_0's avg: 0.671404\tvalid_0's std: 0.0385777\tvalid_0's ext_fp: 257\tvalid_0's ext_fn: 1461\n",
      "[400]\tvalid_0's avg: 0.675572\tvalid_0's std: 0.0389212\tvalid_0's ext_fp: 435\tvalid_0's ext_fn: 1514\n",
      "[500]\tvalid_0's avg: 0.67804\tvalid_0's std: 0.0378051\tvalid_0's ext_fp: 564\tvalid_0's ext_fn: 1551\n",
      "[600]\tvalid_0's avg: 0.679347\tvalid_0's std: 0.0371962\tvalid_0's ext_fp: 641\tvalid_0's ext_fn: 1586\n",
      "[700]\tvalid_0's avg: 0.680355\tvalid_0's std: 0.0368357\tvalid_0's ext_fp: 679\tvalid_0's ext_fn: 1616\n",
      "Early stopping, best iteration is:\n",
      "[769]\tvalid_0's avg: 0.680748\tvalid_0's std: 0.0364953\tvalid_0's ext_fp: 697\tvalid_0's ext_fn: 1627\n",
      "Evaluated only: avg\n",
      "----\n",
      "Fold : 1\n",
      "Training until validation scores don't improve for 20 rounds\n",
      "[100]\tvalid_0's avg: 0.648264\tvalid_0's std: 0.036059\tvalid_0's ext_fp: 0\tvalid_0's ext_fn: 1683\n",
      "[200]\tvalid_0's avg: 0.664173\tvalid_0's std: 0.0361155\tvalid_0's ext_fp: 44\tvalid_0's ext_fn: 1442\n",
      "[300]\tvalid_0's avg: 0.671998\tvalid_0's std: 0.0367935\tvalid_0's ext_fp: 173\tvalid_0's ext_fn: 1450\n",
      "[400]\tvalid_0's avg: 0.676848\tvalid_0's std: 0.0366203\tvalid_0's ext_fp: 319\tvalid_0's ext_fn: 1489\n",
      "[500]\tvalid_0's avg: 0.680167\tvalid_0's std: 0.0363265\tvalid_0's ext_fp: 419\tvalid_0's ext_fn: 1522\n",
      "[600]\tvalid_0's avg: 0.681251\tvalid_0's std: 0.0366021\tvalid_0's ext_fp: 483\tvalid_0's ext_fn: 1546\n",
      "[700]\tvalid_0's avg: 0.681709\tvalid_0's std: 0.0368442\tvalid_0's ext_fp: 498\tvalid_0's ext_fn: 1579\n",
      "Early stopping, best iteration is:\n",
      "[746]\tvalid_0's avg: 0.682073\tvalid_0's std: 0.0368281\tvalid_0's ext_fp: 512\tvalid_0's ext_fn: 1592\n",
      "Evaluated only: avg\n",
      "----\n",
      "Fold : 2\n",
      "Training until validation scores don't improve for 20 rounds\n",
      "[100]\tvalid_0's avg: 0.660146\tvalid_0's std: 0.0472492\tvalid_0's ext_fp: 0\tvalid_0's ext_fn: 1627\n",
      "[200]\tvalid_0's avg: 0.67771\tvalid_0's std: 0.0465959\tvalid_0's ext_fp: 54\tvalid_0's ext_fn: 1382\n",
      "[300]\tvalid_0's avg: 0.686162\tvalid_0's std: 0.0459573\tvalid_0's ext_fp: 234\tvalid_0's ext_fn: 1379\n",
      "[400]\tvalid_0's avg: 0.690965\tvalid_0's std: 0.0451813\tvalid_0's ext_fp: 381\tvalid_0's ext_fn: 1422\n",
      "[500]\tvalid_0's avg: 0.693512\tvalid_0's std: 0.0442673\tvalid_0's ext_fp: 488\tvalid_0's ext_fn: 1453\n",
      "[600]\tvalid_0's avg: 0.69475\tvalid_0's std: 0.0433632\tvalid_0's ext_fp: 566\tvalid_0's ext_fn: 1479\n",
      "[700]\tvalid_0's avg: 0.695548\tvalid_0's std: 0.0429525\tvalid_0's ext_fp: 598\tvalid_0's ext_fn: 1506\n",
      "Early stopping, best iteration is:\n",
      "[769]\tvalid_0's avg: 0.695874\tvalid_0's std: 0.0425702\tvalid_0's ext_fp: 603\tvalid_0's ext_fn: 1518\n",
      "Evaluated only: avg\n",
      "----\n",
      "Fold : 3\n",
      "Training until validation scores don't improve for 20 rounds\n",
      "[100]\tvalid_0's avg: 0.653034\tvalid_0's std: 0.0303097\tvalid_0's ext_fp: 0\tvalid_0's ext_fn: 1701\n",
      "[200]\tvalid_0's avg: 0.669291\tvalid_0's std: 0.0301442\tvalid_0's ext_fp: 36\tvalid_0's ext_fn: 1416\n",
      "[300]\tvalid_0's avg: 0.677646\tvalid_0's std: 0.030334\tvalid_0's ext_fp: 216\tvalid_0's ext_fn: 1421\n",
      "[400]\tvalid_0's avg: 0.682363\tvalid_0's std: 0.0301072\tvalid_0's ext_fp: 363\tvalid_0's ext_fn: 1459\n",
      "[500]\tvalid_0's avg: 0.68542\tvalid_0's std: 0.0298115\tvalid_0's ext_fp: 496\tvalid_0's ext_fn: 1482\n",
      "[600]\tvalid_0's avg: 0.687191\tvalid_0's std: 0.0297612\tvalid_0's ext_fp: 564\tvalid_0's ext_fn: 1509\n",
      "[700]\tvalid_0's avg: 0.688128\tvalid_0's std: 0.0295337\tvalid_0's ext_fp: 597\tvalid_0's ext_fn: 1535\n",
      "[800]\tvalid_0's avg: 0.688537\tvalid_0's std: 0.029385\tvalid_0's ext_fp: 619\tvalid_0's ext_fn: 1554\n",
      "[900]\tvalid_0's avg: 0.688919\tvalid_0's std: 0.0293851\tvalid_0's ext_fp: 622\tvalid_0's ext_fn: 1569\n",
      "Early stopping, best iteration is:\n",
      "[963]\tvalid_0's avg: 0.689059\tvalid_0's std: 0.0293699\tvalid_0's ext_fp: 624\tvalid_0's ext_fn: 1576\n",
      "Evaluated only: avg\n",
      "----\n",
      "Fold : 4\n",
      "Training until validation scores don't improve for 20 rounds\n",
      "[100]\tvalid_0's avg: 0.635303\tvalid_0's std: 0.0408851\tvalid_0's ext_fp: 0\tvalid_0's ext_fn: 1768\n",
      "[200]\tvalid_0's avg: 0.653107\tvalid_0's std: 0.0399572\tvalid_0's ext_fp: 30\tvalid_0's ext_fn: 1503\n",
      "[300]\tvalid_0's avg: 0.661852\tvalid_0's std: 0.0392111\tvalid_0's ext_fp: 209\tvalid_0's ext_fn: 1516\n",
      "[400]\tvalid_0's avg: 0.666999\tvalid_0's std: 0.0387718\tvalid_0's ext_fp: 377\tvalid_0's ext_fn: 1543\n",
      "[500]\tvalid_0's avg: 0.670281\tvalid_0's std: 0.0384467\tvalid_0's ext_fp: 492\tvalid_0's ext_fn: 1592\n",
      "[600]\tvalid_0's avg: 0.672102\tvalid_0's std: 0.0379196\tvalid_0's ext_fp: 562\tvalid_0's ext_fn: 1615\n",
      "[700]\tvalid_0's avg: 0.673155\tvalid_0's std: 0.0378398\tvalid_0's ext_fp: 598\tvalid_0's ext_fn: 1627\n",
      "[800]\tvalid_0's avg: 0.673801\tvalid_0's std: 0.0380197\tvalid_0's ext_fp: 616\tvalid_0's ext_fn: 1654\n",
      "[900]\tvalid_0's avg: 0.674145\tvalid_0's std: 0.0386151\tvalid_0's ext_fp: 631\tvalid_0's ext_fn: 1669\n",
      "[1000]\tvalid_0's avg: 0.67454\tvalid_0's std: 0.0389246\tvalid_0's ext_fp: 649\tvalid_0's ext_fn: 1685\n",
      "Early stopping, best iteration is:\n",
      "[1047]\tvalid_0's avg: 0.674716\tvalid_0's std: 0.0386066\tvalid_0's ext_fp: 653\tvalid_0's ext_fn: 1699\n",
      "Evaluated only: avg\n",
      "----\n",
      "comp metric:  0.6686745739087901\n",
      "ext fp cnt :  3089\n",
      "ext fn cnt :  8012\n",
      "std of gini:  0.037711624836120713\n"
     ]
    }
   ],
   "source": [
    "lgb_models = []\n",
    "lgb_output = np.zeros(len(train_pd))\n",
    "for fold, (tr_idx, val_idx) in enumerate(cv.split(train_pd, y_train, groups=train_week_df)):\n",
    "    print(\"Fold :\", fold)\n",
    "    train_week = train_week_df.loc[tr_idx].values.reshape(-1)\n",
    "    valid_week = train_week_df.loc[val_idx].values.reshape(-1)\n",
    "\n",
    "    lgb_model, lgb_val_output = treemodel.lgb_train_and_valid(train_pd.loc[tr_idx], y_train.loc[tr_idx],\n",
    "                                                              train_pd.loc[val_idx], y_train.loc[val_idx],\n",
    "                                                              lgb_params1, cat = cat_features, feval = metrics)\n",
    "    lgb_models.append(lgb_model)\n",
    "    lgb_output[val_idx] = lgb_val_output\n",
    "    print(\"----\")\n",
    "\n",
    "check_metric(lgb_output)"
   ]
  },
  {
   "cell_type": "code",
   "execution_count": 26,
   "id": "caf26371",
   "metadata": {
    "execution": {
     "iopub.execute_input": "2024-05-14T03:00:15.851227Z",
     "iopub.status.busy": "2024-05-14T03:00:15.850915Z",
     "iopub.status.idle": "2024-05-14T04:20:54.735819Z",
     "shell.execute_reply": "2024-05-14T04:20:54.734808Z"
    },
    "papermill": {
     "duration": 4838.903912,
     "end_time": "2024-05-14T04:20:54.737776",
     "exception": false,
     "start_time": "2024-05-14T03:00:15.833864",
     "status": "completed"
    },
    "tags": []
   },
   "outputs": [
    {
     "name": "stdout",
     "output_type": "stream",
     "text": [
      "Fold : 0\n",
      "Training until validation scores don't improve for 20 rounds\n",
      "[100]\tvalid_0's avg: 0.629087\tvalid_0's std: 0.0380655\tvalid_0's ext_fp: 0\tvalid_0's ext_fn: 2441\n",
      "[200]\tvalid_0's avg: 0.649884\tvalid_0's std: 0.0389166\tvalid_0's ext_fp: 11\tvalid_0's ext_fn: 1928\n",
      "[300]\tvalid_0's avg: 0.660546\tvalid_0's std: 0.0389085\tvalid_0's ext_fp: 76\tvalid_0's ext_fn: 1913\n",
      "[400]\tvalid_0's avg: 0.667\tvalid_0's std: 0.0379439\tvalid_0's ext_fp: 178\tvalid_0's ext_fn: 1918\n",
      "[500]\tvalid_0's avg: 0.670928\tvalid_0's std: 0.0377304\tvalid_0's ext_fp: 268\tvalid_0's ext_fn: 1920\n",
      "[600]\tvalid_0's avg: 0.674218\tvalid_0's std: 0.03705\tvalid_0's ext_fp: 344\tvalid_0's ext_fn: 1931\n",
      "[700]\tvalid_0's avg: 0.676229\tvalid_0's std: 0.0367589\tvalid_0's ext_fp: 398\tvalid_0's ext_fn: 1956\n",
      "[800]\tvalid_0's avg: 0.677658\tvalid_0's std: 0.0364132\tvalid_0's ext_fp: 440\tvalid_0's ext_fn: 1956\n",
      "[900]\tvalid_0's avg: 0.67861\tvalid_0's std: 0.0362439\tvalid_0's ext_fp: 468\tvalid_0's ext_fn: 1964\n",
      "Early stopping, best iteration is:\n",
      "[948]\tvalid_0's avg: 0.679184\tvalid_0's std: 0.0359452\tvalid_0's ext_fp: 474\tvalid_0's ext_fn: 1973\n",
      "Evaluated only: avg\n",
      "----\n",
      "Fold : 1\n",
      "Training until validation scores don't improve for 20 rounds\n",
      "[100]\tvalid_0's avg: 0.631454\tvalid_0's std: 0.0372207\tvalid_0's ext_fp: 0\tvalid_0's ext_fn: 2290\n",
      "[200]\tvalid_0's avg: 0.650311\tvalid_0's std: 0.0376655\tvalid_0's ext_fp: 8\tvalid_0's ext_fn: 1864\n",
      "[300]\tvalid_0's avg: 0.660115\tvalid_0's std: 0.0378979\tvalid_0's ext_fp: 55\tvalid_0's ext_fn: 1830\n",
      "[400]\tvalid_0's avg: 0.666411\tvalid_0's std: 0.0381455\tvalid_0's ext_fp: 124\tvalid_0's ext_fn: 1843\n",
      "[500]\tvalid_0's avg: 0.670914\tvalid_0's std: 0.0383157\tvalid_0's ext_fp: 182\tvalid_0's ext_fn: 1847\n",
      "[600]\tvalid_0's avg: 0.674239\tvalid_0's std: 0.0382684\tvalid_0's ext_fp: 245\tvalid_0's ext_fn: 1866\n",
      "[700]\tvalid_0's avg: 0.676682\tvalid_0's std: 0.0381961\tvalid_0's ext_fp: 275\tvalid_0's ext_fn: 1883\n",
      "[800]\tvalid_0's avg: 0.678624\tvalid_0's std: 0.0380035\tvalid_0's ext_fp: 317\tvalid_0's ext_fn: 1883\n",
      "[900]\tvalid_0's avg: 0.679844\tvalid_0's std: 0.0378356\tvalid_0's ext_fp: 337\tvalid_0's ext_fn: 1883\n",
      "[1000]\tvalid_0's avg: 0.680796\tvalid_0's std: 0.0376336\tvalid_0's ext_fp: 361\tvalid_0's ext_fn: 1886\n",
      "[1100]\tvalid_0's avg: 0.6816\tvalid_0's std: 0.0373543\tvalid_0's ext_fp: 374\tvalid_0's ext_fn: 1887\n",
      "[1200]\tvalid_0's avg: 0.681981\tvalid_0's std: 0.0374675\tvalid_0's ext_fp: 381\tvalid_0's ext_fn: 1903\n",
      "Early stopping, best iteration is:\n",
      "[1231]\tvalid_0's avg: 0.682059\tvalid_0's std: 0.0374409\tvalid_0's ext_fp: 380\tvalid_0's ext_fn: 1907\n",
      "Evaluated only: avg\n",
      "----\n",
      "Fold : 2\n",
      "Training until validation scores don't improve for 20 rounds\n",
      "[100]\tvalid_0's avg: 0.639766\tvalid_0's std: 0.0471053\tvalid_0's ext_fp: 0\tvalid_0's ext_fn: 2293\n",
      "[200]\tvalid_0's avg: 0.661504\tvalid_0's std: 0.0464525\tvalid_0's ext_fp: 5\tvalid_0's ext_fn: 1847\n",
      "[300]\tvalid_0's avg: 0.67274\tvalid_0's std: 0.0458117\tvalid_0's ext_fp: 64\tvalid_0's ext_fn: 1779\n",
      "[400]\tvalid_0's avg: 0.679651\tvalid_0's std: 0.0454475\tvalid_0's ext_fp: 133\tvalid_0's ext_fn: 1799\n",
      "[500]\tvalid_0's avg: 0.684516\tvalid_0's std: 0.0448693\tvalid_0's ext_fp: 216\tvalid_0's ext_fn: 1814\n",
      "[600]\tvalid_0's avg: 0.687866\tvalid_0's std: 0.0445349\tvalid_0's ext_fp: 282\tvalid_0's ext_fn: 1811\n",
      "[700]\tvalid_0's avg: 0.690039\tvalid_0's std: 0.0437087\tvalid_0's ext_fp: 326\tvalid_0's ext_fn: 1825\n",
      "[800]\tvalid_0's avg: 0.691571\tvalid_0's std: 0.0430527\tvalid_0's ext_fp: 357\tvalid_0's ext_fn: 1828\n",
      "[900]\tvalid_0's avg: 0.692645\tvalid_0's std: 0.0426468\tvalid_0's ext_fp: 377\tvalid_0's ext_fn: 1848\n",
      "[1000]\tvalid_0's avg: 0.693286\tvalid_0's std: 0.042247\tvalid_0's ext_fp: 385\tvalid_0's ext_fn: 1856\n",
      "[1100]\tvalid_0's avg: 0.693981\tvalid_0's std: 0.0420274\tvalid_0's ext_fp: 403\tvalid_0's ext_fn: 1861\n",
      "[1200]\tvalid_0's avg: 0.694332\tvalid_0's std: 0.041848\tvalid_0's ext_fp: 413\tvalid_0's ext_fn: 1864\n",
      "Early stopping, best iteration is:\n",
      "[1218]\tvalid_0's avg: 0.694434\tvalid_0's std: 0.0418484\tvalid_0's ext_fp: 412\tvalid_0's ext_fn: 1860\n",
      "Evaluated only: avg\n",
      "----\n",
      "Fold : 3\n",
      "Training until validation scores don't improve for 20 rounds\n",
      "[100]\tvalid_0's avg: 0.637956\tvalid_0's std: 0.0338656\tvalid_0's ext_fp: 0\tvalid_0's ext_fn: 2418\n",
      "[200]\tvalid_0's avg: 0.657456\tvalid_0's std: 0.0337777\tvalid_0's ext_fp: 9\tvalid_0's ext_fn: 1895\n",
      "[300]\tvalid_0's avg: 0.667541\tvalid_0's std: 0.0330262\tvalid_0's ext_fp: 48\tvalid_0's ext_fn: 1860\n",
      "[400]\tvalid_0's avg: 0.673681\tvalid_0's std: 0.0323562\tvalid_0's ext_fp: 127\tvalid_0's ext_fn: 1870\n",
      "[500]\tvalid_0's avg: 0.678032\tvalid_0's std: 0.0320388\tvalid_0's ext_fp: 214\tvalid_0's ext_fn: 1880\n",
      "[600]\tvalid_0's avg: 0.681209\tvalid_0's std: 0.0318007\tvalid_0's ext_fp: 277\tvalid_0's ext_fn: 1891\n",
      "[700]\tvalid_0's avg: 0.683518\tvalid_0's std: 0.0315266\tvalid_0's ext_fp: 331\tvalid_0's ext_fn: 1902\n",
      "[800]\tvalid_0's avg: 0.685116\tvalid_0's std: 0.0313552\tvalid_0's ext_fp: 380\tvalid_0's ext_fn: 1914\n",
      "[900]\tvalid_0's avg: 0.686316\tvalid_0's std: 0.0313118\tvalid_0's ext_fp: 408\tvalid_0's ext_fn: 1927\n",
      "[1000]\tvalid_0's avg: 0.687182\tvalid_0's std: 0.0311632\tvalid_0's ext_fp: 417\tvalid_0's ext_fn: 1934\n",
      "[1100]\tvalid_0's avg: 0.687857\tvalid_0's std: 0.0309901\tvalid_0's ext_fp: 427\tvalid_0's ext_fn: 1939\n",
      "[1200]\tvalid_0's avg: 0.688207\tvalid_0's std: 0.0308928\tvalid_0's ext_fp: 441\tvalid_0's ext_fn: 1945\n",
      "[1300]\tvalid_0's avg: 0.688703\tvalid_0's std: 0.0309188\tvalid_0's ext_fp: 449\tvalid_0's ext_fn: 1946\n",
      "[1400]\tvalid_0's avg: 0.689026\tvalid_0's std: 0.0307742\tvalid_0's ext_fp: 459\tvalid_0's ext_fn: 1943\n",
      "[1500]\tvalid_0's avg: 0.689467\tvalid_0's std: 0.0306939\tvalid_0's ext_fp: 465\tvalid_0's ext_fn: 1951\n",
      "Early stopping, best iteration is:\n",
      "[1532]\tvalid_0's avg: 0.689534\tvalid_0's std: 0.0306516\tvalid_0's ext_fp: 466\tvalid_0's ext_fn: 1957\n",
      "Evaluated only: avg\n",
      "----\n",
      "Fold : 4\n",
      "Training until validation scores don't improve for 20 rounds\n",
      "[100]\tvalid_0's avg: 0.617265\tvalid_0's std: 0.0405117\tvalid_0's ext_fp: 0\tvalid_0's ext_fn: 2463\n",
      "[200]\tvalid_0's avg: 0.638064\tvalid_0's std: 0.0397202\tvalid_0's ext_fp: 3\tvalid_0's ext_fn: 1990\n",
      "[300]\tvalid_0's avg: 0.649523\tvalid_0's std: 0.0387458\tvalid_0's ext_fp: 42\tvalid_0's ext_fn: 1912\n",
      "[400]\tvalid_0's avg: 0.656366\tvalid_0's std: 0.0385206\tvalid_0's ext_fp: 108\tvalid_0's ext_fn: 1933\n",
      "[500]\tvalid_0's avg: 0.66123\tvalid_0's std: 0.0383589\tvalid_0's ext_fp: 192\tvalid_0's ext_fn: 1947\n",
      "[600]\tvalid_0's avg: 0.664922\tvalid_0's std: 0.037878\tvalid_0's ext_fp: 249\tvalid_0's ext_fn: 1945\n",
      "[700]\tvalid_0's avg: 0.667519\tvalid_0's std: 0.0376122\tvalid_0's ext_fp: 309\tvalid_0's ext_fn: 1939\n",
      "[800]\tvalid_0's avg: 0.669523\tvalid_0's std: 0.0376601\tvalid_0's ext_fp: 358\tvalid_0's ext_fn: 1955\n",
      "[900]\tvalid_0's avg: 0.670806\tvalid_0's std: 0.0375771\tvalid_0's ext_fp: 390\tvalid_0's ext_fn: 1956\n",
      "[1000]\tvalid_0's avg: 0.671618\tvalid_0's std: 0.037366\tvalid_0's ext_fp: 402\tvalid_0's ext_fn: 1956\n",
      "[1100]\tvalid_0's avg: 0.672171\tvalid_0's std: 0.0375186\tvalid_0's ext_fp: 424\tvalid_0's ext_fn: 1967\n",
      "[1200]\tvalid_0's avg: 0.672619\tvalid_0's std: 0.0372314\tvalid_0's ext_fp: 442\tvalid_0's ext_fn: 1978\n",
      "[1300]\tvalid_0's avg: 0.673255\tvalid_0's std: 0.03709\tvalid_0's ext_fp: 450\tvalid_0's ext_fn: 1982\n",
      "[1400]\tvalid_0's avg: 0.67363\tvalid_0's std: 0.0371173\tvalid_0's ext_fp: 458\tvalid_0's ext_fn: 1983\n",
      "[1500]\tvalid_0's avg: 0.673801\tvalid_0's std: 0.0371038\tvalid_0's ext_fp: 462\tvalid_0's ext_fn: 1991\n",
      "Early stopping, best iteration is:\n",
      "[1544]\tvalid_0's avg: 0.674086\tvalid_0's std: 0.0368379\tvalid_0's ext_fp: 460\tvalid_0's ext_fn: 1995\n",
      "Evaluated only: avg\n",
      "----\n",
      "comp metric:  0.6683631406483488\n",
      "ext fp cnt :  2192\n",
      "ext fn cnt :  9692\n",
      "std of gini:  0.037408066394471334\n"
     ]
    }
   ],
   "source": [
    "lgb_models2 = []\n",
    "lgb_output2 = np.zeros(len(train_pd))\n",
    "for fold, (tr_idx, val_idx) in enumerate(cv.split(train_pd, y_train, groups=train_week_df)):\n",
    "    print(\"Fold :\", fold)\n",
    "    train_week = train_week_df.loc[tr_idx].values.reshape(-1)\n",
    "    valid_week = train_week_df.loc[val_idx].values.reshape(-1)\n",
    "\n",
    "    lgb_model2, lgb_val_output2 = treemodel.lgb_train_and_valid(train_pd.loc[tr_idx], y_train.loc[tr_idx],\n",
    "                                                              train_pd.loc[val_idx], y_train.loc[val_idx],\n",
    "                                                              lgb_params2, cat = cat_features, feval = metrics)\n",
    "    lgb_models2.append(lgb_model2)\n",
    "    lgb_output2[val_idx] = lgb_val_output2\n",
    "    print(\"----\")\n",
    "\n",
    "check_metric(lgb_output2)"
   ]
  },
  {
   "cell_type": "code",
   "execution_count": 27,
   "id": "9f0310a8",
   "metadata": {
    "execution": {
     "iopub.execute_input": "2024-05-14T04:20:54.784238Z",
     "iopub.status.busy": "2024-05-14T04:20:54.783936Z",
     "iopub.status.idle": "2024-05-14T05:15:22.479247Z",
     "shell.execute_reply": "2024-05-14T05:15:22.478255Z"
    },
    "papermill": {
     "duration": 3267.720927,
     "end_time": "2024-05-14T05:15:22.481568",
     "exception": false,
     "start_time": "2024-05-14T04:20:54.760641",
     "status": "completed"
    },
    "tags": []
   },
   "outputs": [
    {
     "name": "stdout",
     "output_type": "stream",
     "text": [
      "Fold : 0\n",
      "0:\tlearn: 0.6731236\ttest: 0.6740160\tbest: 0.6740160 (0)\ttotal: 7.9s\tremaining: 21h 55m 59s\n",
      "500:\tlearn: 0.3893288\ttest: 0.4099145\tbest: 0.4099145 (500)\ttotal: 2m 17s\tremaining: 43m 29s\n",
      "1000:\tlearn: 0.3781421\ttest: 0.4046311\tbest: 0.4046311 (1000)\ttotal: 4m 25s\tremaining: 39m 45s\n",
      "1500:\tlearn: 0.3706794\ttest: 0.4025859\tbest: 0.4025859 (1500)\ttotal: 6m 32s\tremaining: 37m 3s\n",
      "2000:\tlearn: 0.3645671\ttest: 0.4014118\tbest: 0.4014096 (1998)\ttotal: 8m 39s\tremaining: 34m 37s\n",
      "bestTest = 0.4007258993\n",
      "bestIteration = 2464\n",
      "Shrink model to first 2465 iterations.\n",
      "----\n",
      "Fold : 1\n",
      "0:\tlearn: 0.6736221\ttest: 0.6733087\tbest: 0.6733087 (0)\ttotal: 261ms\tremaining: 43m 28s\n",
      "500:\tlearn: 0.3938227\ttest: 0.3943253\tbest: 0.3943253 (500)\ttotal: 2m 7s\tremaining: 40m 18s\n",
      "1000:\tlearn: 0.3823595\ttest: 0.3887546\tbest: 0.3887546 (1000)\ttotal: 4m 13s\tremaining: 37m 58s\n",
      "1500:\tlearn: 0.3748550\ttest: 0.3866319\tbest: 0.3866319 (1500)\ttotal: 6m 19s\tremaining: 35m 46s\n",
      "2000:\tlearn: 0.3686405\ttest: 0.3854976\tbest: 0.3854951 (1999)\ttotal: 8m 24s\tremaining: 33m 36s\n",
      "2500:\tlearn: 0.3631265\ttest: 0.3846845\tbest: 0.3846845 (2500)\ttotal: 10m 29s\tremaining: 31m 28s\n",
      "bestTest = 0.3844637271\n",
      "bestIteration = 2693\n",
      "Shrink model to first 2694 iterations.\n",
      "----\n",
      "Fold : 2\n",
      "0:\tlearn: 0.6736847\ttest: 0.6734875\tbest: 0.6734875 (0)\ttotal: 266ms\tremaining: 44m 18s\n",
      "500:\tlearn: 0.3939760\ttest: 0.3938648\tbest: 0.3938648 (500)\ttotal: 2m 11s\tremaining: 41m 29s\n",
      "1000:\tlearn: 0.3823752\ttest: 0.3878685\tbest: 0.3878685 (1000)\ttotal: 4m 20s\tremaining: 38m 59s\n",
      "1500:\tlearn: 0.3749379\ttest: 0.3856104\tbest: 0.3856104 (1500)\ttotal: 6m 28s\tremaining: 36m 37s\n",
      "2000:\tlearn: 0.3688160\ttest: 0.3843522\tbest: 0.3843394 (1988)\ttotal: 8m 36s\tremaining: 34m 23s\n",
      "bestTest = 0.3843394195\n",
      "bestIteration = 1988\n",
      "Shrink model to first 1989 iterations.\n",
      "----\n",
      "Fold : 3\n",
      "0:\tlearn: 0.6733762\ttest: 0.6733645\tbest: 0.6733645 (0)\ttotal: 267ms\tremaining: 44m 34s\n",
      "500:\tlearn: 0.3926695\ttest: 0.3978844\tbest: 0.3978844 (500)\ttotal: 2m 11s\tremaining: 41m 32s\n",
      "1000:\tlearn: 0.3812251\ttest: 0.3919759\tbest: 0.3919759 (1000)\ttotal: 4m 20s\tremaining: 39m 3s\n",
      "1500:\tlearn: 0.3737802\ttest: 0.3896835\tbest: 0.3896789 (1494)\ttotal: 6m 28s\tremaining: 36m 42s\n",
      "2000:\tlearn: 0.3676304\ttest: 0.3885333\tbest: 0.3885333 (2000)\ttotal: 8m 37s\tremaining: 34m 28s\n",
      "bestTest = 0.3880948201\n",
      "bestIteration = 2216\n",
      "Shrink model to first 2217 iterations.\n",
      "----\n",
      "Fold : 4\n",
      "0:\tlearn: 0.6734046\ttest: 0.6735028\tbest: 0.6735028 (0)\ttotal: 267ms\tremaining: 44m 30s\n",
      "500:\tlearn: 0.3923169\ttest: 0.4001359\tbest: 0.4001359 (500)\ttotal: 2m 11s\tremaining: 41m 28s\n",
      "1000:\tlearn: 0.3809116\ttest: 0.3944930\tbest: 0.3944930 (1000)\ttotal: 4m 20s\tremaining: 39m 1s\n",
      "1500:\tlearn: 0.3735801\ttest: 0.3922591\tbest: 0.3922591 (1500)\ttotal: 6m 29s\tremaining: 36m 42s\n",
      "2000:\tlearn: 0.3672840\ttest: 0.3909323\tbest: 0.3909298 (1999)\ttotal: 8m 37s\tremaining: 34m 30s\n",
      "bestTest = 0.3902836201\n",
      "bestIteration = 2388\n",
      "Shrink model to first 2389 iterations.\n",
      "----\n",
      "comp metric:  0.6699964107497274\n",
      "ext fp cnt :  4971\n",
      "ext fn cnt :  8913\n",
      "std of gini:  0.03684811862979839\n"
     ]
    }
   ],
   "source": [
    "cb_models = []\n",
    "cb_output =np.zeros(len(train_fill_pd))\n",
    "for fold, (tr_idx, val_idx) in enumerate(cv.split(train_fill_pd, y_train, groups=train_week_df)):\n",
    "    print(\"Fold :\", fold)\n",
    "    cb_model, cb_val_output = treemodel.cb_train_and_valid(\n",
    "                                                            train_fill_pd.loc[tr_idx], y_train.loc[tr_idx],\n",
    "                                                            train_fill_pd.loc[val_idx], y_train.loc[val_idx],\n",
    "                                                            cb_params, cat = cat_features)\n",
    "    cb_models.append(cb_model)\n",
    "    cb_output[val_idx] = cb_val_output\n",
    "    print(\"----\")\n",
    "     \n",
    "check_metric(cb_output)"
   ]
  },
  {
   "cell_type": "code",
   "execution_count": 28,
   "id": "24d438c4",
   "metadata": {
    "execution": {
     "iopub.execute_input": "2024-05-14T05:15:22.535552Z",
     "iopub.status.busy": "2024-05-14T05:15:22.535240Z",
     "iopub.status.idle": "2024-05-14T05:15:24.064750Z",
     "shell.execute_reply": "2024-05-14T05:15:24.063808Z"
    },
    "papermill": {
     "duration": 1.558709,
     "end_time": "2024-05-14T05:15:24.066795",
     "exception": false,
     "start_time": "2024-05-14T05:15:22.508086",
     "status": "completed"
    },
    "tags": []
   },
   "outputs": [
    {
     "name": "stdout",
     "output_type": "stream",
     "text": [
      "ensemble result\n",
      "comp metric:  0.6725508076312778\n",
      "ext fp cnt :  3318\n",
      "ext fn cnt :  8351\n",
      "std of gini:  0.037300100376715994\n"
     ]
    },
    {
     "data": {
      "text/plain": [
       "(array([[1.       , 0.9718013],\n",
       "        [0.9718013, 1.       ]]),\n",
       " array([[1.       , 0.9832533],\n",
       "        [0.9832533, 1.       ]]),\n",
       " array([[1.        , 0.97821932],\n",
       "        [0.97821932, 1.        ]]))"
      ]
     },
     "execution_count": 28,
     "metadata": {},
     "output_type": "execute_result"
    }
   ],
   "source": [
    "print(\"ensemble result\")\n",
    "check_metric((lgb_output * 0.5 + cb_output * 0.4 + lgb_output2 * 0.1))\n",
    "np.corrcoef(cb_output, lgb_output), np.corrcoef(lgb_output, lgb_output2), np.corrcoef(cb_output, lgb_output2)"
   ]
  },
  {
   "cell_type": "markdown",
   "id": "d172cfff",
   "metadata": {
    "papermill": {
     "duration": 0.026171,
     "end_time": "2024-05-14T05:15:24.119706",
     "exception": false,
     "start_time": "2024-05-14T05:15:24.093535",
     "status": "completed"
    },
    "tags": []
   },
   "source": [
    "# submission"
   ]
  },
  {
   "cell_type": "code",
   "execution_count": 29,
   "id": "c2b4b514",
   "metadata": {
    "execution": {
     "iopub.execute_input": "2024-05-14T05:15:24.174975Z",
     "iopub.status.busy": "2024-05-14T05:15:24.174284Z",
     "iopub.status.idle": "2024-05-14T05:15:24.194953Z",
     "shell.execute_reply": "2024-05-14T05:15:24.194073Z"
    },
    "papermill": {
     "duration": 0.050774,
     "end_time": "2024-05-14T05:15:24.196874",
     "exception": false,
     "start_time": "2024-05-14T05:15:24.146100",
     "status": "completed"
    },
    "tags": []
   },
   "outputs": [],
   "source": [
    "lgb_test_predictions = []\n",
    "for idx in range(0, len(test_pd), batch_size):\n",
    "    tmp_predictions = treemodel.lgb_test(lgb_models, test_pd.iloc[idx: idx + batch_size])\n",
    "    lgb_test_predictions.append(tmp_predictions)\n",
    "lgb_test_predictions = np.concatenate(lgb_test_predictions)"
   ]
  },
  {
   "cell_type": "code",
   "execution_count": 30,
   "id": "bfa55145",
   "metadata": {
    "execution": {
     "iopub.execute_input": "2024-05-14T05:15:24.255853Z",
     "iopub.status.busy": "2024-05-14T05:15:24.255026Z",
     "iopub.status.idle": "2024-05-14T05:15:24.273801Z",
     "shell.execute_reply": "2024-05-14T05:15:24.273084Z"
    },
    "papermill": {
     "duration": 0.048427,
     "end_time": "2024-05-14T05:15:24.275600",
     "exception": false,
     "start_time": "2024-05-14T05:15:24.227173",
     "status": "completed"
    },
    "tags": []
   },
   "outputs": [],
   "source": [
    "lgb_test_predictions2 = []\n",
    "for idx in range(0, len(test_pd), batch_size):\n",
    "    tmp_predictions = treemodel.lgb_test(lgb_models2, test_pd.iloc[idx: idx + batch_size])\n",
    "    lgb_test_predictions2.append(tmp_predictions)\n",
    "lgb_test_predictions2 = np.concatenate(lgb_test_predictions2)"
   ]
  },
  {
   "cell_type": "code",
   "execution_count": 31,
   "id": "1862374b",
   "metadata": {
    "execution": {
     "iopub.execute_input": "2024-05-14T05:15:24.332055Z",
     "iopub.status.busy": "2024-05-14T05:15:24.331744Z",
     "iopub.status.idle": "2024-05-14T05:15:24.386072Z",
     "shell.execute_reply": "2024-05-14T05:15:24.385203Z"
    },
    "papermill": {
     "duration": 0.084315,
     "end_time": "2024-05-14T05:15:24.388234",
     "exception": false,
     "start_time": "2024-05-14T05:15:24.303919",
     "status": "completed"
    },
    "tags": []
   },
   "outputs": [],
   "source": [
    "cb_test_predictions = []\n",
    "for idx in range(0, len(test_fill_pd), batch_size):\n",
    "    tmp_predictions = treemodel.cb_test(cb_models, test_fill_pd.iloc[idx: idx + batch_size])\n",
    "    cb_test_predictions.append(tmp_predictions)\n",
    "cb_test_predictions = np.concatenate(cb_test_predictions)"
   ]
  },
  {
   "cell_type": "code",
   "execution_count": 32,
   "id": "fc4f9368",
   "metadata": {
    "execution": {
     "iopub.execute_input": "2024-05-14T05:15:24.444194Z",
     "iopub.status.busy": "2024-05-14T05:15:24.443590Z",
     "iopub.status.idle": "2024-05-14T05:15:24.452870Z",
     "shell.execute_reply": "2024-05-14T05:15:24.452199Z"
    },
    "papermill": {
     "duration": 0.038959,
     "end_time": "2024-05-14T05:15:24.454579",
     "exception": false,
     "start_time": "2024-05-14T05:15:24.415620",
     "status": "completed"
    },
    "tags": []
   },
   "outputs": [],
   "source": [
    "test_predictions = (lgb_test_predictions * 0.5 + cb_test_predictions * 0.4 + lgb_test_predictions2 * 0.1)\n",
    "\n",
    "# submission\n",
    "submission = pd.DataFrame({\n",
    "            \"case_id\": test_case_ids,\n",
    "            \"score\": test_predictions\n",
    "        }).set_index('case_id')\n",
    "submission.to_csv(\"./submission.csv\")"
   ]
  },
  {
   "cell_type": "code",
   "execution_count": null,
   "id": "87c11c8f",
   "metadata": {
    "papermill": {
     "duration": 0.026339,
     "end_time": "2024-05-14T05:15:24.507442",
     "exception": false,
     "start_time": "2024-05-14T05:15:24.481103",
     "status": "completed"
    },
    "tags": []
   },
   "outputs": [],
   "source": []
  }
 ],
 "metadata": {
  "kaggle": {
   "accelerator": "gpu",
   "dataSources": [
    {
     "databundleVersionId": 7921029,
     "sourceId": 50160,
     "sourceType": "competition"
    },
    {
     "datasetId": 4424545,
     "sourceId": 7600559,
     "sourceType": "datasetVersion"
    }
   ],
   "dockerImageVersionId": 30664,
   "isGpuEnabled": true,
   "isInternetEnabled": false,
   "language": "python",
   "sourceType": "notebook"
  },
  "kernelspec": {
   "display_name": "Python 3",
   "language": "python",
   "name": "python3"
  },
  "language_info": {
   "codemirror_mode": {
    "name": "ipython",
    "version": 3
   },
   "file_extension": ".py",
   "mimetype": "text/x-python",
   "name": "python",
   "nbconvert_exporter": "python",
   "pygments_lexer": "ipython3",
   "version": "3.10.13"
  },
  "papermill": {
   "default_parameters": {},
   "duration": 11914.322958,
   "end_time": "2024-05-14T05:15:26.079451",
   "environment_variables": {},
   "exception": null,
   "input_path": "__notebook__.ipynb",
   "output_path": "__notebook__.ipynb",
   "parameters": {},
   "start_time": "2024-05-14T01:56:51.756493",
   "version": "2.5.0"
  }
 },
 "nbformat": 4,
 "nbformat_minor": 5
}
