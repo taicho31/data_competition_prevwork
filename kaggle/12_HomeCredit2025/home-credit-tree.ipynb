{
 "cells": [
  {
   "cell_type": "markdown",
   "id": "b9b848d3",
   "metadata": {
    "_cell_guid": "b1076dfc-b9ad-4769-8c92-a6c4dae69d19",
    "_uuid": "8f2839f25d086af736a60e9eeb907d3b93b6e0e5",
    "execution": {
     "iopub.execute_input": "2024-03-02T01:54:47.706090Z",
     "iopub.status.busy": "2024-03-02T01:54:47.705162Z",
     "iopub.status.idle": "2024-03-02T01:54:54.623114Z",
     "shell.execute_reply": "2024-03-02T01:54:54.621662Z",
     "shell.execute_reply.started": "2024-03-02T01:54:47.706043Z"
    },
    "papermill": {
     "duration": 0.008242,
     "end_time": "2024-04-30T07:21:46.495837",
     "exception": false,
     "start_time": "2024-04-30T07:21:46.487595",
     "status": "completed"
    },
    "tags": []
   },
   "source": [
    "- evaluate by mean gini and check fp and fn \n",
    "- last commit to the first version *"
   ]
  },
  {
   "cell_type": "code",
   "execution_count": 1,
   "id": "a3bdfc40",
   "metadata": {
    "execution": {
     "iopub.execute_input": "2024-04-30T07:21:46.513523Z",
     "iopub.status.busy": "2024-04-30T07:21:46.513136Z",
     "iopub.status.idle": "2024-04-30T07:21:50.281731Z",
     "shell.execute_reply": "2024-04-30T07:21:50.280665Z"
    },
    "papermill": {
     "duration": 3.780781,
     "end_time": "2024-04-30T07:21:50.284485",
     "exception": false,
     "start_time": "2024-04-30T07:21:46.503704",
     "status": "completed"
    },
    "tags": []
   },
   "outputs": [],
   "source": [
    "from glob import glob\n",
    "import numpy as np\n",
    "import pandas as pd\n",
    "import polars as pl\n",
    "import lightgbm as lgb\n",
    "import xgboost as xgb\n",
    "from catboost import  CatBoostClassifier, Pool\n",
    "from sklearn.metrics import roc_auc_score"
   ]
  },
  {
   "cell_type": "code",
   "execution_count": 2,
   "id": "d30636ed",
   "metadata": {
    "execution": {
     "iopub.execute_input": "2024-04-30T07:21:50.301983Z",
     "iopub.status.busy": "2024-04-30T07:21:50.301426Z",
     "iopub.status.idle": "2024-04-30T07:21:50.306431Z",
     "shell.execute_reply": "2024-04-30T07:21:50.305363Z"
    },
    "papermill": {
     "duration": 0.01624,
     "end_time": "2024-04-30T07:21:50.308611",
     "exception": false,
     "start_time": "2024-04-30T07:21:50.292371",
     "status": "completed"
    },
    "tags": []
   },
   "outputs": [],
   "source": [
    "ROOT = '/kaggle/input/home-credit-credit-risk-model-stability'\n",
    "TARGET = 'target'\n",
    "EVAL = True"
   ]
  },
  {
   "cell_type": "code",
   "execution_count": 3,
   "id": "a870170d",
   "metadata": {
    "execution": {
     "iopub.execute_input": "2024-04-30T07:21:50.325926Z",
     "iopub.status.busy": "2024-04-30T07:21:50.325531Z",
     "iopub.status.idle": "2024-04-30T07:21:50.353788Z",
     "shell.execute_reply": "2024-04-30T07:21:50.352714Z"
    },
    "papermill": {
     "duration": 0.040102,
     "end_time": "2024-04-30T07:21:50.356438",
     "exception": false,
     "start_time": "2024-04-30T07:21:50.316336",
     "status": "completed"
    },
    "tags": []
   },
   "outputs": [],
   "source": [
    "class TreeModelling:\n",
    "    \"\"\"\n",
    "        Train and test data should contain the same selected features for ML models.\n",
    "        Train, test data and target should be the same data type. (Pandas or Numpy)\n",
    "    \"\"\"\n",
    "    def __init__(self, config):\n",
    "        self.config = config \n",
    "    \n",
    "    def lgb_train(self, x_tr, y_tr, params, cat = None):\n",
    "        \n",
    "        model = lgb.train(params,\n",
    "                          lgb.Dataset(x_tr, y_tr),\n",
    "                          categorical_feature = cat)\n",
    "    \n",
    "        return model\n",
    "    \n",
    "    def lgb_train_and_valid(self, x_tr, y_tr, x_val, y_val, params, cat=None):\n",
    "            \n",
    "        dtrain = lgb.Dataset(x_tr, y_tr)\n",
    "        deval = lgb.Dataset(x_val, y_val, reference=dtrain)\n",
    "\n",
    "        ####\n",
    "        dtrain.week_num = train_week\n",
    "        deval.week_num =  valid_week\n",
    "        ####\n",
    "\n",
    "        callbacks = [\n",
    "                lgb.early_stopping(stopping_rounds=self.config[\"lgb\"][\"es_round\"],\n",
    "                                   first_metric_only = True), \n",
    "                lgb.log_evaluation(self.config[\"lgb\"][\"verbose_eval\"])\n",
    "            ]\n",
    "            \n",
    "        model = lgb.train(params, dtrain, \n",
    "                          self.config[\"lgb\"][\"num_round\"], \n",
    "                          valid_sets=[deval], \n",
    "                          feval = self.config[\"lgb\"][\"custom_metric\"],\n",
    "                          callbacks = callbacks,\n",
    "                          categorical_feature = cat)\n",
    "        valid_pred = model.predict(x_val)\n",
    "    \n",
    "        return model, valid_pred\n",
    "        \n",
    "    def lgb_test(self, models, test):\n",
    "        test_pred = [model.predict(test) for model in models]\n",
    "        test_pred = np.mean(test_pred, axis=0)\n",
    "        return test_pred\n",
    "    \n",
    "    def lgb_test_by_batch(self, models, test, batch_size):\n",
    "        test_pred_all = []\n",
    "        for idx in range(0, len(test), batch_size):\n",
    "            test_pred_batch = [model.predict(test.iloc[idx:idx+batch_size]) for model in models]\n",
    "            test_pred_batch = np.mean(test_pred_batch, axis=0)\n",
    "            test_pred_all.append(test_pred_batch)\n",
    "        return np.concatenate(test_pred_all)\n",
    "    \n",
    "    def lgb_numpy_test_by_batch(self, models, test, batch_size):\n",
    "        test_pred_all = []\n",
    "        for idx in range(0, len(test), batch_size):\n",
    "            test_pred_batch = [model.predict(test[idx:idx+batch_size]) for model in models]\n",
    "            test_pred_batch = np.mean(test_pred_batch, axis=0)\n",
    "            test_pred_all.append(test_pred_batch)\n",
    "        return np.concatenate(test_pred_all)\n",
    "    \n",
    "\n",
    "    def xgb_train_and_valid(self, x_tr, y_tr, x_val, y_val, params):\n",
    "                \n",
    "        xgb_eval = xgb.DMatrix(x_val, label = y_val)\n",
    "        model = xgb.train(params,\n",
    "                          xgb.DMatrix(x_tr, label = y_tr), \n",
    "                          self.config[\"xgb\"][\"num_round\"],\n",
    "                          evals = [(xgb_eval, \"eval\")], \n",
    "                          early_stopping_rounds = self.config[\"xgb\"][\"es_round\"], \n",
    "                          verbose_eval = self.config[\"xgb\"][\"verbose_eval\"])\n",
    "        valid_pred = model.predict(xgb_eval, iteration_range=(0, model.best_ntree_limit))\n",
    "    \n",
    "        return model, valid_pred\n",
    "    \n",
    "    def xgb_test(self, models, test):\n",
    "        dtest = xgb.DMatrix(test)\n",
    "        test_pred = [model.predict(dtest, iteration_range=(0, model.best_ntree_limit)) for model in models]\n",
    "        test_pred = np.mean(test_pred, axis=0)\n",
    "        return test_pred\n",
    "    \n",
    "\n",
    "    def cb_train(self, x_tr, y_tr, params):\n",
    "        \n",
    "        train_pool = Pool(data=x_tr,\n",
    "                          label=y_tr,\n",
    "                          #cat_features=cat\n",
    "                         )\n",
    "                \n",
    "        if self.config[\"cb\"][\"task_type\"] == \"classification\":\n",
    "            model = CatBoostClassifier(**params)\n",
    "\n",
    "        elif self.config[\"cb\"][\"task_type\"]:\n",
    "            model = CatBoostRegressor(**params)\n",
    "        model.fit(train_pool)\n",
    "            \n",
    "        return model\n",
    "\n",
    "    \n",
    "    def cb_train_and_valid(self,  x_tr, y_tr, x_val, y_val, params):\n",
    "        \n",
    "        train_pool = Pool(data=x_tr,\n",
    "                          label=y_tr,\n",
    "                          #cat_features=cat,\n",
    "                          weight=train_week_num)\n",
    "        \n",
    "        valid_pool = Pool(data=x_val,\n",
    "                          label=y_val,\n",
    "                          #cat_features=cat,\n",
    "                          weight=valid_week_num)\n",
    "                \n",
    "        if self.config[\"cb\"][\"task_type\"] == \"classification\":\n",
    "            model = CatBoostClassifier(**params)\n",
    "            model.fit(train_pool,\n",
    "                      eval_set=[valid_pool], \n",
    "                      early_stopping_rounds=self.config[\"cb\"][\"es_round\"],\n",
    "                      verbose_eval = self.config[\"cb\"][\"verbose_eval\"])\n",
    "            valid_pred = model.predict_proba(x_val)[:,1]\n",
    "        elif self.config[\"cb\"][\"task_type\"]:\n",
    "            model = CatBoostRegressor(**params)\n",
    "            model.fit(train_pool,\n",
    "                      eval_set=[valid_pool], \n",
    "                      early_stopping_rounds=self.config[\"cb\"][\"es_round\"], \n",
    "                      verbose_eval = self.config[\"cb\"][\"verbose_eval\"])\n",
    "            valid_pred = model.predict(x_val)\n",
    "            \n",
    "        return model, valid_pred\n",
    "    \n",
    "    def cb_test(self, models, test):\n",
    "        if self.config[\"cb\"][\"task_type\"] == \"classification\":\n",
    "            test_pred = [model.predict_proba(test)[:,1] for model in models]\n",
    "        else:\n",
    "            test_pred = [model.predict(test) for model in models]\n",
    "        test_pred = np.mean(test_pred, axis=0)        \n",
    "        return test_pred\n",
    "    \n",
    "    def cb_test_by_batch(self, models, test, batch_size):\n",
    "        test_pred_all = []\n",
    "        for idx in range(0, len(test), batch_size):\n",
    "            if self.config[\"cb\"][\"task_type\"] == \"classification\":\n",
    "                test_pred_batch = [model.predict_proba(test.iloc[idx:idx+batch_size])[:,1] for model in models]\n",
    "            else:\n",
    "                test_pred_batch = [model.predict(test.iloc[idx:idx+batch_size]) for model in models]            \n",
    "            test_pred_batch = np.mean(test_pred_batch, axis=0)\n",
    "            test_pred_all.append(test_pred_batch)\n",
    "        return np.concatenate(test_pred_all)\n",
    "    \n",
    "    def cb_numpy_test_by_batch(self, models, test, batch_size):\n",
    "        test_pred_all = []\n",
    "        for idx in range(0, len(test), batch_size):\n",
    "            if self.config[\"cb\"][\"task_type\"] == \"classification\":\n",
    "                test_pred_batch = [model.predict_proba(test[idx:idx+batch_size])[:,1] for model in models]\n",
    "            else:\n",
    "                test_pred_batch = [model.predict(test[idx:idx+batch_size]) for model in models]            \n",
    "            test_pred_batch = np.mean(test_pred_batch, axis=0)\n",
    "            test_pred_all.append(test_pred_batch)\n",
    "        return np.concatenate(test_pred_all)"
   ]
  },
  {
   "cell_type": "markdown",
   "id": "d6f2100b",
   "metadata": {
    "papermill": {
     "duration": 0.007568,
     "end_time": "2024-04-30T07:21:50.371727",
     "exception": false,
     "start_time": "2024-04-30T07:21:50.364159",
     "status": "completed"
    },
    "tags": []
   },
   "source": [
    "------- edit from here -------------"
   ]
  },
  {
   "cell_type": "markdown",
   "id": "8eafa068",
   "metadata": {
    "papermill": {
     "duration": 0.008058,
     "end_time": "2024-04-30T07:21:50.387473",
     "exception": false,
     "start_time": "2024-04-30T07:21:50.379415",
     "status": "completed"
    },
    "tags": []
   },
   "source": [
    "# metric functions"
   ]
  },
  {
   "cell_type": "code",
   "execution_count": 4,
   "id": "e4db2bf3",
   "metadata": {
    "execution": {
     "iopub.execute_input": "2024-04-30T07:21:50.404504Z",
     "iopub.status.busy": "2024-04-30T07:21:50.404113Z",
     "iopub.status.idle": "2024-04-30T07:21:50.420276Z",
     "shell.execute_reply": "2024-04-30T07:21:50.419258Z"
    },
    "papermill": {
     "duration": 0.027113,
     "end_time": "2024-04-30T07:21:50.422388",
     "exception": false,
     "start_time": "2024-04-30T07:21:50.395275",
     "status": "completed"
    },
    "tags": []
   },
   "outputs": [],
   "source": [
    "def comp_metric(base, w_fallingrate=88.0, w_resstd=-0.5):\n",
    "    def calc_lr_scores(x, y):\n",
    "        a, b = np.polyfit(x, y, 1)\n",
    "        y_hat = a*x + b\n",
    "        residuals = y - y_hat\n",
    "        res_std = np.std(residuals)\n",
    "        return w_fallingrate * min(0, a) + w_resstd * res_std\n",
    "    \n",
    "    gini_in_time = base.loc[:, [\"WEEK_NUM\", \"target\", \"score\"]]\\\n",
    "        .sort_values(\"WEEK_NUM\")\\\n",
    "        .groupby(\"WEEK_NUM\")[[\"target\", \"score\"]]\\\n",
    "        .apply(lambda x: 2*roc_auc_score(x[\"target\"], x[\"score\"])-1).tolist()\n",
    "    \n",
    "    avg_gini = np.mean(gini_in_time)\n",
    "    x = np.arange(len(gini_in_time))\n",
    "    y = np.array(gini_in_time)\n",
    "    score = avg_gini + calc_lr_scores(x, y)\n",
    "    return score\n",
    "\n",
    "def weekly_gini(base):\n",
    "    gini_in_time = base.loc[:, [\"WEEK_NUM\", \"target\", \"score\"]]\\\n",
    "    .groupby(\"WEEK_NUM\")[[\"target\", \"score\"]]\\\n",
    "    .apply(lambda x: 2*roc_auc_score(x[\"target\"], x[\"score\"])-1).tolist()\n",
    "    \n",
    "    score = np.mean(gini_in_time)\n",
    "\n",
    "    return score\n",
    "\n",
    "def lgb_avg_gini_metric(preds, eval_data):\n",
    "    labels = eval_data.get_label()\n",
    "    week_num = eval_data.week_num\n",
    "    y_pred = preds.reshape(-1, 1)\n",
    "    \n",
    "    score_df = pd.DataFrame(week_num, columns = [\"WEEK_NUM\"])\n",
    "    score_df[\"target\"] = labels\n",
    "    score_df[\"score\"] = y_pred\n",
    "        \n",
    "    score = weekly_gini(score_df)\n",
    "    \n",
    "    return 'avg_gini', score, True\n",
    "\n",
    "def false_positive(base):\n",
    "    base = base[base[\"target\"]==0]\n",
    "    score = np.sum(base[\"score\"] - base[\"target\"] >= 0.8)\n",
    "\n",
    "    return score\n",
    "\n",
    "def false_negative(base):\n",
    "    base = base[base[\"target\"]==1]\n",
    "    score = np.sum(base[\"target\"] - base[\"score\"] >= 0.8)\n",
    "    \n",
    "    return score\n",
    "\n",
    "def lgb_avg_neg_metric(preds, eval_data):\n",
    "    labels = eval_data.get_label()\n",
    "    y_pred = preds.reshape(-1, 1)\n",
    "    \n",
    "    score_df = pd.DataFrame(labels, columns = [\"target\"])\n",
    "    score_df[\"score\"] = y_pred\n",
    "        \n",
    "    score = false_positive(score_df)\n",
    "    \n",
    "    return 'ext_fp_num', score, False\n",
    "\n",
    "def lgb_avg_pos_metric(preds, eval_data):\n",
    "    labels = eval_data.get_label()\n",
    "    y_pred = preds.reshape(-1, 1)\n",
    "    \n",
    "    score_df = pd.DataFrame(labels, columns = [\"target\"])\n",
    "    score_df[\"score\"] = y_pred\n",
    "    \n",
    "    score = false_negative(score_df)\n",
    "    \n",
    "    return \"ext_fn_num\", score, False\n",
    "\n",
    "def lgb_overall(preds, eval_data):\n",
    "    labels = eval_data.get_label()\n",
    "    y_pred = preds.reshape(-1, 1)\n",
    "    \n",
    "    score_df = pd.DataFrame(labels, columns = [\"target\"])\n",
    "    score_df[\"score\"] = y_pred\n",
    "    \n",
    "    score = weekly_gini(score_df) - false_positive(score_df)\n",
    "    \n",
    "    return \"overall\", score, True\n",
    "\n",
    "def metrics(preds, data):\n",
    "    return [\n",
    "        lgb_avg_gini_metric(preds, data),\n",
    "        lgb_avg_neg_metric(preds, data),\n",
    "        lgb_avg_pos_metric(preds, data),\n",
    "    ]"
   ]
  },
  {
   "cell_type": "code",
   "execution_count": 5,
   "id": "e74b8ed5",
   "metadata": {
    "execution": {
     "iopub.execute_input": "2024-04-30T07:21:50.440271Z",
     "iopub.status.busy": "2024-04-30T07:21:50.439860Z",
     "iopub.status.idle": "2024-04-30T07:21:50.449627Z",
     "shell.execute_reply": "2024-04-30T07:21:50.448640Z"
    },
    "papermill": {
     "duration": 0.021961,
     "end_time": "2024-04-30T07:21:50.451979",
     "exception": false,
     "start_time": "2024-04-30T07:21:50.430018",
     "status": "completed"
    },
    "tags": []
   },
   "outputs": [],
   "source": [
    "class CatBoostEvalMetric(object):\n",
    "    \n",
    "    @staticmethod\n",
    "    def calc(preds, targets, weights):\n",
    "        df = pd.DataFrame(preds, columns = [\"score\"])\n",
    "        df[\"target\"] = targets\n",
    "        df[\"WEEK_NUM\"] = weights\n",
    "        gini_in_time = df.loc[:, [\"WEEK_NUM\", \"target\", \"score\"]]\\\n",
    "        .groupby(\"WEEK_NUM\")[[\"target\", \"score\"]]\\\n",
    "        .apply(lambda x: 2*roc_auc_score(x[\"target\"], x[\"score\"])-1).tolist()\n",
    "    \n",
    "        avg_gini = np.mean(gini_in_time)\n",
    "        return avg_gini\n",
    "    \n",
    "    def get_final_error(self, error, weight):\n",
    "        return error\n",
    "\n",
    "    def is_max_optimal(self):\n",
    "        # the larger metric value the better\n",
    "        return True\n",
    "\n",
    "    def evaluate(self, approxes, target, weight):\n",
    "        assert len(approxes) == 1\n",
    "        assert len(target) == len(approxes[0])\n",
    "        preds = np.array(approxes[0])\n",
    "        target = np.array(target)\n",
    "        score = self.calc(preds, target, weight)\n",
    "        return score, 0"
   ]
  },
  {
   "cell_type": "markdown",
   "id": "ba754e89",
   "metadata": {
    "papermill": {
     "duration": 0.007408,
     "end_time": "2024-04-30T07:21:50.467165",
     "exception": false,
     "start_time": "2024-04-30T07:21:50.459757",
     "status": "completed"
    },
    "tags": []
   },
   "source": [
    "# common fe functions"
   ]
  },
  {
   "cell_type": "code",
   "execution_count": 6,
   "id": "ba7f1922",
   "metadata": {
    "execution": {
     "iopub.execute_input": "2024-04-30T07:21:50.484073Z",
     "iopub.status.busy": "2024-04-30T07:21:50.483696Z",
     "iopub.status.idle": "2024-04-30T07:21:50.489415Z",
     "shell.execute_reply": "2024-04-30T07:21:50.488409Z"
    },
    "papermill": {
     "duration": 0.016785,
     "end_time": "2024-04-30T07:21:50.491684",
     "exception": false,
     "start_time": "2024-04-30T07:21:50.474899",
     "status": "completed"
    },
    "tags": []
   },
   "outputs": [],
   "source": [
    "def read_files(regex_path):\n",
    "    chunks = []\n",
    "    \n",
    "    for path in glob(str(regex_path)):\n",
    "        df = pl.read_csv(path)\n",
    "        df = df.pipe(set_table_dtypes)\n",
    "        chunks.append(df)\n",
    "    df = pl.concat(chunks, how=\"vertical_relaxed\")\n",
    "    return df"
   ]
  },
  {
   "cell_type": "code",
   "execution_count": 7,
   "id": "0193d2d4",
   "metadata": {
    "execution": {
     "iopub.execute_input": "2024-04-30T07:21:50.509400Z",
     "iopub.status.busy": "2024-04-30T07:21:50.508427Z",
     "iopub.status.idle": "2024-04-30T07:21:50.658849Z",
     "shell.execute_reply": "2024-04-30T07:21:50.657899Z"
    },
    "papermill": {
     "duration": 0.162005,
     "end_time": "2024-04-30T07:21:50.661457",
     "exception": false,
     "start_time": "2024-04-30T07:21:50.499452",
     "status": "completed"
    },
    "tags": []
   },
   "outputs": [],
   "source": [
    "# fix data type\n",
    "feature_def = pd.read_parquet(\"/kaggle/input/home-credit-enhanced-feature-definitions/feature_definitions_dtypes_tables.parquet\")\n",
    "feature_def = dict(zip(feature_def[\"Variable\"], feature_def[\"dtype\"]))\n",
    "\n",
    "def set_table_dtypes(df):\n",
    "    for col in df.columns:\n",
    "        if col in [\"case_id\", \"WEEK_NUM\", \"num_group1\", \"num_group2\"]:\n",
    "            df = df.with_columns(pl.col(col).cast(pl.Int64))\n",
    "        elif col in [\"date_decision\"]:\n",
    "            df = df.with_columns(pl.col(col).cast(pl.Date))\n",
    "        elif col in [\"persontype_1072L\", \"persontype_792L\", \"personindex_1023L\"]:\n",
    "            df = df.with_columns(pl.col(col).cast(pl.String))\n",
    "        elif col[-1] in (\"P\", \"A\"):\n",
    "            df = df.with_columns(pl.col(col).cast(pl.Float32))\n",
    "        elif col[-1] in (\"M\",):\n",
    "            df = df.with_columns(pl.col(col).cast(pl.String))\n",
    "        elif col[-1] in (\"D\",):\n",
    "            df = df.with_columns(pl.col(col).cast(pl.Date))\n",
    "        else:\n",
    "            if \"String\" in feature_def[col]:\n",
    "                df = df.with_columns(pl.col(col).cast(pl.String))\n",
    "            elif \"Float\" in feature_def[col]:\n",
    "                df = df.with_columns(pl.col(col).cast(pl.Float32))\n",
    "            elif \"Date\" in feature_def[col]:\n",
    "                df = df.with_columns(pl.col(col).cast(pl.Date))\n",
    "            elif \"Boolean\" in feature_def[col]:\n",
    "                if \"String\" in str(df[col].dtype):\n",
    "                    df = df.with_columns(pl.col(col).str.to_lowercase())\n",
    "                    df = df.with_columns(pl.col(col).replace({\"false\":False, \"true\":True}, default=None))\n",
    "                    df = df.with_columns(pl.col(col).cast(pl.Int8))\n",
    "                else:\n",
    "                    df = df.with_columns(pl.col(col).cast(pl.Int8))\n",
    "\n",
    "    return df\n",
    "\n",
    "def filter_cols(df):\n",
    "    remove_cols = []\n",
    "    for col in df.columns:\n",
    "        if df[col].n_unique() == 1 or df[col].null_count() == df.shape[0]:\n",
    "            remove_cols.append(col)\n",
    "    return remove_cols"
   ]
  },
  {
   "cell_type": "code",
   "execution_count": 8,
   "id": "658521eb",
   "metadata": {
    "execution": {
     "iopub.execute_input": "2024-04-30T07:21:50.679144Z",
     "iopub.status.busy": "2024-04-30T07:21:50.678791Z",
     "iopub.status.idle": "2024-04-30T07:21:50.689140Z",
     "shell.execute_reply": "2024-04-30T07:21:50.688261Z"
    },
    "papermill": {
     "duration": 0.022227,
     "end_time": "2024-04-30T07:21:50.691396",
     "exception": false,
     "start_time": "2024-04-30T07:21:50.669169",
     "status": "completed"
    },
    "tags": []
   },
   "outputs": [],
   "source": [
    "# for string columns\n",
    "def convert_strings(train_df, test_df, str_cols):\n",
    "    for col in str_cols: \n",
    "        train_categories = set(train_df.filter(pl.col(col).is_not_null()).unique(col).select(col).to_numpy().reshape(-1))\n",
    "        test_categories = set(test_df.filter(pl.col(col).is_not_null()).unique(col).select(col).to_numpy().reshape(-1))\n",
    "        encoding_dict = dict([(c, i + 1) for i, c in enumerate(train_categories)])\n",
    "        unique_cat_idx = len(train_categories) + 1\n",
    "        unique_categories = list(sorted(test_categories - train_categories))\n",
    "        for ele in unique_categories:\n",
    "            encoding_dict[ele] = unique_cat_idx\n",
    "        train_df = train_df.with_columns(pl.col(col).replace(encoding_dict, default = 0))\n",
    "        test_df = test_df.with_columns(pl.col(col).replace(encoding_dict, default = 0))\n",
    "    return train_df, test_df\n",
    "\n",
    "def ce_strings(train_df, test_df, str_cols):\n",
    "    for col in str_cols:\n",
    "        str_count = train_df.filter(pl.col(col).is_not_null()).group_by(col).len()\n",
    "        str_count.columns = [col, \"ce_\"+col]\n",
    "        train_df = train_df.join(str_count, on = col, how = \"left\").with_columns(pl.col(\"ce_\"+col))\n",
    "        test_df = test_df.join(str_count, on = col, how = \"left\").with_columns(pl.col(\"ce_\"+col))\n",
    "        \n",
    "    return train_df, test_df"
   ]
  },
  {
   "cell_type": "code",
   "execution_count": 9,
   "id": "5bc7465d",
   "metadata": {
    "execution": {
     "iopub.execute_input": "2024-04-30T07:21:50.708762Z",
     "iopub.status.busy": "2024-04-30T07:21:50.708377Z",
     "iopub.status.idle": "2024-04-30T07:21:50.716125Z",
     "shell.execute_reply": "2024-04-30T07:21:50.715120Z"
    },
    "papermill": {
     "duration": 0.018672,
     "end_time": "2024-04-30T07:21:50.718170",
     "exception": false,
     "start_time": "2024-04-30T07:21:50.699498",
     "status": "completed"
    },
    "tags": []
   },
   "outputs": [],
   "source": [
    "# for numeric columns\n",
    "def agg_float_cols(input_df, options = [\"max\", \"min\", \"mean\", \"std\"]):\n",
    "    \n",
    "    float_cols = [i for i in input_df.columns if \"Float\" in str(input_df[i].dtype)]\n",
    "    agg_cols = []\n",
    "    for col in float_cols:\n",
    "        if \"min\" in options:\n",
    "            agg_cols.append(pl.min(col).alias(f\"min_{col}\"))\n",
    "        if \"max\" in options:\n",
    "            agg_cols.append(pl.max(col).alias(f\"max_{col}\"))\n",
    "        if \"mean\" in options:\n",
    "            agg_cols.append(pl.mean(col).alias(f\"mean_{col}\"))\n",
    "        if \"std\" in options:\n",
    "            agg_cols.append(pl.std(col).alias(f\"std_{col}\"))\n",
    "        if \"sum\" in options:\n",
    "            agg_cols.append(pl.sum(col).alias(f\"sum_{col}\"))\n",
    "\n",
    "    output_df = input_df.group_by(\"case_id\").agg(agg_cols)\n",
    "        \n",
    "    return output_df"
   ]
  },
  {
   "cell_type": "code",
   "execution_count": 10,
   "id": "6d0b52f6",
   "metadata": {
    "execution": {
     "iopub.execute_input": "2024-04-30T07:21:50.735362Z",
     "iopub.status.busy": "2024-04-30T07:21:50.734965Z",
     "iopub.status.idle": "2024-04-30T07:21:50.742300Z",
     "shell.execute_reply": "2024-04-30T07:21:50.741320Z"
    },
    "papermill": {
     "duration": 0.018374,
     "end_time": "2024-04-30T07:21:50.744376",
     "exception": false,
     "start_time": "2024-04-30T07:21:50.726002",
     "status": "completed"
    },
    "tags": []
   },
   "outputs": [],
   "source": [
    "def load_base_data(prefix):\n",
    "\n",
    "    base =  pl.read_csv(ROOT + f'/csv_files/{prefix}/{prefix}_base.csv')\n",
    "    base = base.with_columns(pl.col(\"date_decision\").cast(pl.Date))\n",
    "\n",
    "    return base\n",
    "\n",
    "\n",
    "def unite_depth0_data(base, prefix):\n",
    "\n",
    "    static0_paths = ROOT + f\"/csv_files/{prefix}/{prefix}_static_0_*.csv\"\n",
    "    \n",
    "    # depth 0 internal\n",
    "    static0 = [pl.read_csv(path) for path in glob(static0_paths)]\n",
    "    depth0_internal = pl.concat(static0, how=\"vertical_relaxed\").pipe(set_table_dtypes) \n",
    "\n",
    "    # depth 0 external\n",
    "    depth0_external = pl.read_csv(ROOT + f\"/csv_files/{prefix}/{prefix}_static_cb_0.csv\").pipe(set_table_dtypes)\n",
    "    \n",
    "    base = base.join(depth0_internal, on = \"case_id\", how = \"left\")\n",
    "    base = base.join(depth0_external, on = \"case_id\", how = \"left\")\n",
    "    \n",
    "    return base"
   ]
  },
  {
   "cell_type": "code",
   "execution_count": 11,
   "id": "55d8a43f",
   "metadata": {
    "execution": {
     "iopub.execute_input": "2024-04-30T07:21:50.761365Z",
     "iopub.status.busy": "2024-04-30T07:21:50.760975Z",
     "iopub.status.idle": "2024-04-30T07:21:50.774004Z",
     "shell.execute_reply": "2024-04-30T07:21:50.772934Z"
    },
    "papermill": {
     "duration": 0.024161,
     "end_time": "2024-04-30T07:21:50.776131",
     "exception": false,
     "start_time": "2024-04-30T07:21:50.751970",
     "status": "completed"
    },
    "tags": []
   },
   "outputs": [],
   "source": [
    "def unite_depth1_data(base, prefix):\n",
    "    \n",
    "    base_date = base.select(\"case_id\", \"date_decision\")\n",
    "    \n",
    "    # internal\n",
    "    #applprev1 = make_applprev1_feats(prefix, base_date)\n",
    "    person = make_person_feats(prefix)\n",
    "    #other = make_other_feats(prefix)\n",
    "    depo = make_depo_feats(prefix, base_date)\n",
    "    \n",
    "    # external\n",
    "    tax = make_tax_feats(prefix, base_date)\n",
    "\n",
    "    #base = base.join(applprev1, on = \"case_id\", how = \"left\")\n",
    "    base = base.join(person, on = \"case_id\", how = \"left\")\n",
    "    #base = base.join(other, on = \"case_id\", how = \"left\")\n",
    "    base = base.join(depo, on = \"case_id\", how = \"left\")\n",
    "    base = base.join(tax, on = \"case_id\", how = \"left\")\n",
    "    base = calc_age(base)\n",
    "            \n",
    "    return base\n",
    "\n",
    "def calc_age(df):\n",
    "    for col in [\"birth_259D\"]: \n",
    "        df = df.with_columns((pl.col(\"date_decision\") - pl.col(col)).alias(\"age\"))\n",
    "        df = df.with_columns(pl.col(\"age\").dt.total_days())\n",
    "    return df\n",
    "\n",
    "def make_applprev1_feats(prefix, base_date):\n",
    "\n",
    "    applprev1 = read_files(ROOT + f\"/csv_files/{prefix}/{prefix}_applprev_1_*.csv\").pipe(set_table_dtypes)\n",
    "    applprev_count = applprev1.group_by(\"case_id\").len()\n",
    "    applprev_count.columns = [\"case_id\", \"appl_count\"]\n",
    "    #applprev1_numeric = agg_float_cols(applprev1, options = [\"max\", \"min\"])\n",
    "    #str_cols = [i for i in applprev1.columns if \"String\" in str(applprev1[i].dtype)]\n",
    "    #applprev1_str = applprev1.filter(pl.col(\"num_group1\")==0).drop(\"num_group1\") #.select([\"case_id\"]+str_cols)\n",
    "    #applprev1_feats = applprev1_numeric.join(applprev1_str, on = \"case_id\", how = \"left\")\n",
    "\n",
    "    return applprev_count #_feats\n",
    "\n",
    "def make_person_feats(prefix):\n",
    "    person = pl.read_csv(ROOT + f\"/csv_files/{prefix}/{prefix}_person_1.csv\").pipe(set_table_dtypes)\n",
    "    #person = person.drop(\"gender_992L\", \"childnum_185L\")\n",
    "    #person_numeric = agg_float_cols(person)\n",
    "\n",
    "    #str_cols = [i for i in person.columns if \"String\" in str(person[i].dtype)]\n",
    "    person_str = person.filter(pl.col(\"num_group1\")==0).select([\"case_id\", \"birth_259D\", \"sex_738L\"])\n",
    "    #person_feats = person_numeric.join(person_str, on = \"case_id\", how = \"left\")\n",
    "\n",
    "    return person_str #feats\n",
    "\n",
    "def make_other_feats(prefix):\n",
    "    \n",
    "    other = pl.read_csv(ROOT + f\"/csv_files/{prefix}/{prefix}_other_1.csv\").pipe(set_table_dtypes) \n",
    "    other = agg_float_cols(other, options = [\"max\"])\n",
    "    return other\n",
    "\n",
    "def make_depo_feats(prefix, base_date):\n",
    "    \n",
    "    deposit = pl.read_csv(ROOT + f\"/csv_files/{prefix}/{prefix}_deposit_1.csv\").pipe(set_table_dtypes)\n",
    "    deposit = agg_float_cols(deposit)\n",
    "    return deposit\n",
    "\n",
    "def make_tax_feats(prefix, base_date):\n",
    "    tax_a1 = pl.read_csv(ROOT + f\"/csv_files/{prefix}/{prefix}_tax_registry_a_1.csv\").pipe(set_table_dtypes)\n",
    "    tax_b1 = pl.read_csv(ROOT + f\"/csv_files/{prefix}/{prefix}_tax_registry_b_1.csv\").pipe(set_table_dtypes)\n",
    "    \n",
    "    tax_a1 = agg_float_cols(tax_a1, options = [\"sum\"])\n",
    "    tax_b1 = agg_float_cols(tax_b1, options = [\"sum\"])\n",
    "    \n",
    "    tax = tax_a1.join(tax_b1, on = \"case_id\", how = \"outer_coalesce\")\n",
    "    \n",
    "    return tax"
   ]
  },
  {
   "cell_type": "code",
   "execution_count": 12,
   "id": "b95c7d0f",
   "metadata": {
    "execution": {
     "iopub.execute_input": "2024-04-30T07:21:50.794102Z",
     "iopub.status.busy": "2024-04-30T07:21:50.793164Z",
     "iopub.status.idle": "2024-04-30T07:21:50.802577Z",
     "shell.execute_reply": "2024-04-30T07:21:50.801508Z"
    },
    "papermill": {
     "duration": 0.020426,
     "end_time": "2024-04-30T07:21:50.804762",
     "exception": false,
     "start_time": "2024-04-30T07:21:50.784336",
     "status": "completed"
    },
    "tags": []
   },
   "outputs": [],
   "source": [
    "def unite_depth2_data(base, prefix):\n",
    "    applprev2 = make_applprev2_feats(prefix)    \n",
    "    base = base.join(applprev2, on = \"case_id\", how = \"left\")\n",
    "\n",
    "    cb_a2 = load_and_make_cb_a2_feats(prefix)\n",
    "    base = base.join(cb_a2, on = \"case_id\", how = \"left\")\n",
    "\n",
    "    return base\n",
    "    \n",
    "def make_applprev2_feats(prefix):\n",
    "    applprev2 = pl.read_csv(ROOT + f\"/csv_files/{prefix}/{prefix}_applprev_2.csv\").pipe(set_table_dtypes)\n",
    "    applprev2_count = applprev2.group_by(\"case_id\").len()\n",
    "    \n",
    "    applprev2 = applprev2.filter(pl.col(\"num_group1\")==0).filter(pl.col(\"num_group2\")==0)\n",
    "    applprev2 = applprev2.drop(\"num_group1\", \"num_group2\", \"credacc_cards_status_52L\")\n",
    "    applprev2 = applprev2.join(applprev2_count, on = \"case_id\", how = \"left\")\n",
    "    \n",
    "    return applprev2\n",
    "\n",
    "def load_and_make_cb_a2_feats(prefix):\n",
    "    output_feats = []\n",
    "    \n",
    "    for path in glob(str(ROOT + f\"/csv_files/{prefix}/{prefix}_credit_bureau_a_2_*.csv\")):\n",
    "        cb_a2 = pl.read_csv(path).pipe(set_table_dtypes)\n",
    "        agg_cols = []\n",
    "\n",
    "        cons_cols = [\"pmts_overdue_1140A\", \"pmts_overdue_1152A\"]\n",
    "        for col in cons_cols:\n",
    "            agg_cols.append(pl.sum(col).alias(f\"sum_{col}\"))\n",
    "            \n",
    "        cb_a2 = cb_a2.group_by('case_id').agg(agg_cols)\n",
    "        output_feats.append(cb_a2)\n",
    "    output_feats = pl.concat(output_feats)\n",
    "    return output_feats"
   ]
  },
  {
   "cell_type": "markdown",
   "id": "464fbb61",
   "metadata": {
    "papermill": {
     "duration": 0.007297,
     "end_time": "2024-04-30T07:21:50.819718",
     "exception": false,
     "start_time": "2024-04-30T07:21:50.812421",
     "status": "completed"
    },
    "tags": []
   },
   "source": [
    "# feature engineering"
   ]
  },
  {
   "cell_type": "code",
   "execution_count": 13,
   "id": "23f84d5c",
   "metadata": {
    "execution": {
     "iopub.execute_input": "2024-04-30T07:21:50.836723Z",
     "iopub.status.busy": "2024-04-30T07:21:50.836347Z",
     "iopub.status.idle": "2024-04-30T07:22:10.531144Z",
     "shell.execute_reply": "2024-04-30T07:22:10.529878Z"
    },
    "papermill": {
     "duration": 19.705981,
     "end_time": "2024-04-30T07:22:10.533595",
     "exception": false,
     "start_time": "2024-04-30T07:21:50.827614",
     "status": "completed"
    },
    "tags": []
   },
   "outputs": [],
   "source": [
    "train = load_base_data(\"train\")\n",
    "train_date = train.select(\"case_id\", \"date_decision\")\n",
    "train_overall = unite_depth0_data(train, \"train\")\n",
    "#train_overall = unite_depth1_data(train_overall, \"train\")\n",
    "#train_overall = unite_depth2_data(train_overall, \"train\")\n",
    "y_train = train_overall[TARGET].to_pandas().astype(np.float32).values"
   ]
  },
  {
   "cell_type": "code",
   "execution_count": 14,
   "id": "0e81b75d",
   "metadata": {
    "execution": {
     "iopub.execute_input": "2024-04-30T07:22:10.550624Z",
     "iopub.status.busy": "2024-04-30T07:22:10.550206Z",
     "iopub.status.idle": "2024-04-30T07:22:10.632945Z",
     "shell.execute_reply": "2024-04-30T07:22:10.631848Z"
    },
    "papermill": {
     "duration": 0.093837,
     "end_time": "2024-04-30T07:22:10.635311",
     "exception": false,
     "start_time": "2024-04-30T07:22:10.541474",
     "status": "completed"
    },
    "tags": []
   },
   "outputs": [],
   "source": [
    "test = load_base_data(\"test\")\n",
    "test_overall = unite_depth0_data(test, \"test\")\n",
    "#test_overall = unite_depth1_data(test_overall, \"test\")\n",
    "#test_overall = unite_depth2_data(test_overall, \"test\")\n",
    "test_case_ids = test[\"case_id\"].to_numpy().reshape(-1)"
   ]
  },
  {
   "cell_type": "code",
   "execution_count": 15,
   "id": "e2f72d3c",
   "metadata": {
    "execution": {
     "iopub.execute_input": "2024-04-30T07:22:10.652243Z",
     "iopub.status.busy": "2024-04-30T07:22:10.651859Z",
     "iopub.status.idle": "2024-04-30T07:22:10.723097Z",
     "shell.execute_reply": "2024-04-30T07:22:10.722040Z"
    },
    "papermill": {
     "duration": 0.082812,
     "end_time": "2024-04-30T07:22:10.725711",
     "exception": false,
     "start_time": "2024-04-30T07:22:10.642899",
     "status": "completed"
    },
    "tags": []
   },
   "outputs": [],
   "source": [
    "all_train_week_nums = train.unique(\"WEEK_NUM\").sort(\"WEEK_NUM\").select(\"WEEK_NUM\").to_numpy().reshape(-1)\n",
    "train_week_df = train.select(\"WEEK_NUM\").to_pandas()\n",
    "\n",
    "from sklearn.model_selection import StratifiedGroupKFold\n",
    "cv = StratifiedGroupKFold(n_splits=5, shuffle=False)"
   ]
  },
  {
   "cell_type": "markdown",
   "id": "7ac84314",
   "metadata": {
    "papermill": {
     "duration": 0.007258,
     "end_time": "2024-04-30T07:22:10.740622",
     "exception": false,
     "start_time": "2024-04-30T07:22:10.733364",
     "status": "completed"
    },
    "tags": []
   },
   "source": [
    "# remove cols"
   ]
  },
  {
   "cell_type": "code",
   "execution_count": 16,
   "id": "9c168b69",
   "metadata": {
    "execution": {
     "iopub.execute_input": "2024-04-30T07:22:10.757661Z",
     "iopub.status.busy": "2024-04-30T07:22:10.756884Z",
     "iopub.status.idle": "2024-04-30T07:22:15.403693Z",
     "shell.execute_reply": "2024-04-30T07:22:15.402285Z"
    },
    "papermill": {
     "duration": 4.65789,
     "end_time": "2024-04-30T07:22:15.406133",
     "exception": false,
     "start_time": "2024-04-30T07:22:10.748243",
     "status": "completed"
    },
    "tags": []
   },
   "outputs": [
    {
     "name": "stdout",
     "output_type": "stream",
     "text": [
      "['deferredmnthsnum_166L']\n",
      "1\n"
     ]
    }
   ],
   "source": [
    "remove_cols = filter_cols(train_overall)\n",
    "print(remove_cols)\n",
    "train_overall = train_overall.drop(remove_cols)\n",
    "test_overall = test_overall.drop(remove_cols)\n",
    "print(len(remove_cols))"
   ]
  },
  {
   "cell_type": "markdown",
   "id": "6f616560",
   "metadata": {
    "papermill": {
     "duration": 0.007339,
     "end_time": "2024-04-30T07:22:15.421356",
     "exception": false,
     "start_time": "2024-04-30T07:22:15.414017",
     "status": "completed"
    },
    "tags": []
   },
   "source": [
    "# deal with strings"
   ]
  },
  {
   "cell_type": "code",
   "execution_count": 17,
   "id": "95d59589",
   "metadata": {
    "execution": {
     "iopub.execute_input": "2024-04-30T07:22:15.439389Z",
     "iopub.status.busy": "2024-04-30T07:22:15.438967Z",
     "iopub.status.idle": "2024-04-30T07:22:27.238895Z",
     "shell.execute_reply": "2024-04-30T07:22:27.237755Z"
    },
    "papermill": {
     "duration": 11.812209,
     "end_time": "2024-04-30T07:22:27.241570",
     "exception": false,
     "start_time": "2024-04-30T07:22:15.429361",
     "status": "completed"
    },
    "tags": []
   },
   "outputs": [
    {
     "name": "stdout",
     "output_type": "stream",
     "text": [
      "25\n"
     ]
    }
   ],
   "source": [
    "str_features= [i for i in train_overall.columns if \"String\" in str(train_overall[i].dtype)]\n",
    "print(len(str_features))\n",
    "train_overall, test_overall = convert_strings(train_overall, test_overall, str_features)\n",
    "train_overall, test_overall = ce_strings(train_overall, test_overall, str_features)"
   ]
  },
  {
   "cell_type": "markdown",
   "id": "b08c45d2",
   "metadata": {
    "papermill": {
     "duration": 0.007765,
     "end_time": "2024-04-30T07:22:27.257735",
     "exception": false,
     "start_time": "2024-04-30T07:22:27.249970",
     "status": "completed"
    },
    "tags": []
   },
   "source": [
    "# convert to numpy"
   ]
  },
  {
   "cell_type": "code",
   "execution_count": 18,
   "id": "e4e96679",
   "metadata": {
    "execution": {
     "iopub.execute_input": "2024-04-30T07:22:27.275361Z",
     "iopub.status.busy": "2024-04-30T07:22:27.274957Z",
     "iopub.status.idle": "2024-04-30T07:22:34.279098Z",
     "shell.execute_reply": "2024-04-30T07:22:34.277875Z"
    },
    "papermill": {
     "duration": 7.01568,
     "end_time": "2024-04-30T07:22:34.281511",
     "exception": false,
     "start_time": "2024-04-30T07:22:27.265831",
     "status": "completed"
    },
    "tags": []
   },
   "outputs": [
    {
     "name": "stdout",
     "output_type": "stream",
     "text": [
      "(1526659, 219) (10, 219)\n"
     ]
    }
   ],
   "source": [
    "date_features = [i for i in train_overall.columns if \"Date\" in str(train_overall[i].dtype)]\n",
    "train_overall = train_overall.drop(date_features)\n",
    "test_overall = test_overall.drop(date_features)\n",
    "\n",
    "selected_features = [i for i in train_overall.columns if i not in ['case_id', 'MONTH', 'WEEK_NUM', 'target']]\n",
    "cat_feature_idx = [ind for ind, ele in enumerate(selected_features) if ele in str_features]\n",
    "\n",
    "train_numpy = np.ndarray(shape=(len(train_overall), len(selected_features)), dtype=np.float32)\n",
    "test_numpy = np.ndarray(shape=(len(test_overall), len(selected_features)), dtype=np.float32)\n",
    "\n",
    "for idx, feature in enumerate(selected_features):\n",
    "    train_numpy[:,idx] = train_overall[feature].to_pandas().astype(np.float32).values\n",
    "    test_numpy[:,idx] = test_overall[feature].to_pandas().astype(np.float32).values\n",
    "    \n",
    "print(train_numpy.shape, test_numpy.shape)"
   ]
  },
  {
   "cell_type": "markdown",
   "id": "2fb686bd",
   "metadata": {
    "papermill": {
     "duration": 0.007486,
     "end_time": "2024-04-30T07:22:34.297018",
     "exception": false,
     "start_time": "2024-04-30T07:22:34.289532",
     "status": "completed"
    },
    "tags": []
   },
   "source": [
    "# treemodel config"
   ]
  },
  {
   "cell_type": "code",
   "execution_count": 19,
   "id": "fb578b25",
   "metadata": {
    "execution": {
     "iopub.execute_input": "2024-04-30T07:22:34.314551Z",
     "iopub.status.busy": "2024-04-30T07:22:34.313860Z",
     "iopub.status.idle": "2024-04-30T07:22:34.319956Z",
     "shell.execute_reply": "2024-04-30T07:22:34.318711Z"
    },
    "papermill": {
     "duration": 0.017384,
     "end_time": "2024-04-30T07:22:34.322130",
     "exception": false,
     "start_time": "2024-04-30T07:22:34.304746",
     "status": "completed"
    },
    "tags": []
   },
   "outputs": [],
   "source": [
    "config = {    \n",
    "    \"lgb\": {\n",
    "        \"es_round\" : 100,\n",
    "        \"verbose_eval\": 100,\n",
    "        \"params\" : {\n",
    "            \"learning_rate\": 0.02,\n",
    "            'objective': 'binary', \n",
    "            'metric': 'None',\n",
    "            'is_unbalance': True,\n",
    "            'boosting': 'gbdt',\n",
    "            'verbose': -1,\n",
    "            'seed': 42,\n",
    "            'num_leaves': 64, \n",
    "            'max_depth': 10,\n",
    "            'extra_trees': True, #\n",
    "            \"reg_alpha\": 0.1,  #\n",
    "            \"reg_lambda\": 10,  #   \n",
    "        },   \n",
    "        \"custom_metric\": metrics,\n",
    "    },\n",
    "}"
   ]
  },
  {
   "cell_type": "code",
   "execution_count": 20,
   "id": "6b8fbb7f",
   "metadata": {
    "execution": {
     "iopub.execute_input": "2024-04-30T07:22:34.339565Z",
     "iopub.status.busy": "2024-04-30T07:22:34.339171Z",
     "iopub.status.idle": "2024-04-30T07:22:34.344341Z",
     "shell.execute_reply": "2024-04-30T07:22:34.343221Z"
    },
    "papermill": {
     "duration": 0.016832,
     "end_time": "2024-04-30T07:22:34.346777",
     "exception": false,
     "start_time": "2024-04-30T07:22:34.329945",
     "status": "completed"
    },
    "tags": []
   },
   "outputs": [],
   "source": [
    "config[\"lgb\"][\"num_round\"] = 10#000\n",
    "treemodel = TreeModelling(config)"
   ]
  },
  {
   "cell_type": "markdown",
   "id": "30244591",
   "metadata": {
    "papermill": {
     "duration": 0.007681,
     "end_time": "2024-04-30T07:22:34.362601",
     "exception": false,
     "start_time": "2024-04-30T07:22:34.354920",
     "status": "completed"
    },
    "tags": []
   },
   "source": [
    "# modelling"
   ]
  },
  {
   "cell_type": "code",
   "execution_count": 21,
   "id": "d46928e4",
   "metadata": {
    "execution": {
     "iopub.execute_input": "2024-04-30T07:22:34.381041Z",
     "iopub.status.busy": "2024-04-30T07:22:34.380685Z",
     "iopub.status.idle": "2024-04-30T07:24:12.167561Z",
     "shell.execute_reply": "2024-04-30T07:24:12.166397Z"
    },
    "papermill": {
     "duration": 97.79877,
     "end_time": "2024-04-30T07:24:12.169711",
     "exception": false,
     "start_time": "2024-04-30T07:22:34.370941",
     "status": "completed"
    },
    "tags": []
   },
   "outputs": [
    {
     "name": "stdout",
     "output_type": "stream",
     "text": [
      "Fold : 0\n",
      "Training until validation scores don't improve for 100 rounds\n",
      "Did not meet early stopping. Best iteration is:\n",
      "[10]\tvalid_0's avg_gini: 0.517293\tvalid_0's ext_fp_num: 0\tvalid_0's ext_fn_num: 10237\n",
      "Evaluated only: avg_gini\n",
      "----\n",
      "Fold : 1\n",
      "Training until validation scores don't improve for 100 rounds\n",
      "Did not meet early stopping. Best iteration is:\n",
      "[10]\tvalid_0's avg_gini: 0.527509\tvalid_0's ext_fp_num: 0\tvalid_0's ext_fn_num: 9236\n",
      "Evaluated only: avg_gini\n",
      "----\n",
      "Fold : 2\n",
      "Training until validation scores don't improve for 100 rounds\n",
      "Did not meet early stopping. Best iteration is:\n",
      "[10]\tvalid_0's avg_gini: 0.53173\tvalid_0's ext_fp_num: 0\tvalid_0's ext_fn_num: 9363\n",
      "Evaluated only: avg_gini\n",
      "----\n",
      "Fold : 3\n",
      "Training until validation scores don't improve for 100 rounds\n",
      "Did not meet early stopping. Best iteration is:\n",
      "[10]\tvalid_0's avg_gini: 0.534693\tvalid_0's ext_fp_num: 0\tvalid_0's ext_fn_num: 9579\n",
      "Evaluated only: avg_gini\n",
      "----\n",
      "Fold : 4\n",
      "Training until validation scores don't improve for 100 rounds\n",
      "Did not meet early stopping. Best iteration is:\n",
      "[10]\tvalid_0's avg_gini: 0.521374\tvalid_0's ext_fp_num: 0\tvalid_0's ext_fn_num: 9433\n",
      "Evaluated only: avg_gini\n",
      "----\n"
     ]
    }
   ],
   "source": [
    "lgb_models = []\n",
    "lgb_output =np.zeros(len(train_numpy))\n",
    "for fold, (tr_idx, val_idx) in enumerate(cv.split(train_numpy, y_train, groups=train_week_df)):\n",
    "    print(\"Fold :\", fold)\n",
    "    train_week = train_week_df.loc[tr_idx].values\n",
    "    valid_week = train_week_df.loc[val_idx].values\n",
    "    lgb_model, lgb_val_output = treemodel.lgb_train_and_valid(train_numpy[tr_idx], y_train[tr_idx],\n",
    "                                                              train_numpy[val_idx], y_train[val_idx],\n",
    "                                                              config[\"lgb\"][\"params\"], cat = cat_feature_idx)\n",
    "    lgb_models.append(lgb_model)\n",
    "    lgb_output[val_idx] = lgb_val_output\n",
    "    print(\"----\")"
   ]
  },
  {
   "cell_type": "code",
   "execution_count": 22,
   "id": "095aebf7",
   "metadata": {
    "execution": {
     "iopub.execute_input": "2024-04-30T07:24:12.189955Z",
     "iopub.status.busy": "2024-04-30T07:24:12.189565Z",
     "iopub.status.idle": "2024-04-30T07:24:13.024096Z",
     "shell.execute_reply": "2024-04-30T07:24:13.022730Z"
    },
    "papermill": {
     "duration": 0.84761,
     "end_time": "2024-04-30T07:24:13.026646",
     "exception": false,
     "start_time": "2024-04-30T07:24:12.179036",
     "status": "completed"
    },
    "tags": []
   },
   "outputs": [
    {
     "name": "stdout",
     "output_type": "stream",
     "text": [
      "comp metric:  0.5061259634124069\n",
      "ext fp cnt :  0\n",
      "ext fn cnt :  47848\n"
     ]
    }
   ],
   "source": [
    "tmp = train_overall.select(\"WEEK_NUM\", \"target\").to_pandas()\n",
    "tmp[\"score\"] = lgb_output\n",
    "tmp[\"score_diff\"] = np.abs(tmp[\"target\"] - tmp[\"score\"])\n",
    "print(\"comp metric: \", comp_metric(tmp))\n",
    "print(\"ext fp cnt : \", np.sum(tmp[tmp[\"target\"]==0][\"score_diff\"] >= 0.8))\n",
    "print(\"ext fn cnt : \", np.sum(tmp[tmp[\"target\"]==1][\"score_diff\"] >= 0.8))"
   ]
  },
  {
   "cell_type": "code",
   "execution_count": 23,
   "id": "a31488da",
   "metadata": {
    "execution": {
     "iopub.execute_input": "2024-04-30T07:24:13.047043Z",
     "iopub.status.busy": "2024-04-30T07:24:13.046684Z",
     "iopub.status.idle": "2024-04-30T07:24:13.053327Z",
     "shell.execute_reply": "2024-04-30T07:24:13.052275Z"
    },
    "papermill": {
     "duration": 0.019212,
     "end_time": "2024-04-30T07:24:13.055352",
     "exception": false,
     "start_time": "2024-04-30T07:24:13.036140",
     "status": "completed"
    },
    "tags": []
   },
   "outputs": [],
   "source": [
    "if not EVAL:\n",
    "    cv_predictions = treemodel.lgb_numpy_test_by_batch(lgb_models, test_numpy, batch_size = 1000)\n",
    "    \n",
    "    config[\"lgb\"][\"num_round\"] = 12#00\n",
    "    treemodel = TreeModelling(config)\n",
    "    lgb_full_model  = treemodel.lgb_train(train_numpy, y_train, config[\"lgb\"][\"params\"], cat=cat_feature_idx)\n",
    "    lgb_models = [lgb_full_model]\n",
    "    full_predictions = treemodel.lgb_numpy_test_by_batch(lgb_models, test_numpy, batch_size = 1000)\n",
    "  \n",
    "    test_predictions = (cv_predictions + full_predictions) / 2\n",
    "    # submission\n",
    "    submission = pd.DataFrame({\n",
    "            \"case_id\": test_case_ids,\n",
    "            \"score\": test_predictions\n",
    "        }).set_index('case_id')\n",
    "    submission.to_csv(\"./submission.csv\")"
   ]
  },
  {
   "cell_type": "code",
   "execution_count": null,
   "id": "e7fedc7f",
   "metadata": {
    "papermill": {
     "duration": 0.00891,
     "end_time": "2024-04-30T07:24:13.073562",
     "exception": false,
     "start_time": "2024-04-30T07:24:13.064652",
     "status": "completed"
    },
    "tags": []
   },
   "outputs": [],
   "source": []
  }
 ],
 "metadata": {
  "kaggle": {
   "accelerator": "none",
   "dataSources": [
    {
     "databundleVersionId": 7921029,
     "sourceId": 50160,
     "sourceType": "competition"
    },
    {
     "datasetId": 4424545,
     "sourceId": 7600559,
     "sourceType": "datasetVersion"
    }
   ],
   "dockerImageVersionId": 30664,
   "isGpuEnabled": false,
   "isInternetEnabled": false,
   "language": "python",
   "sourceType": "notebook"
  },
  "kernelspec": {
   "display_name": "Python 3",
   "language": "python",
   "name": "python3"
  },
  "language_info": {
   "codemirror_mode": {
    "name": "ipython",
    "version": 3
   },
   "file_extension": ".py",
   "mimetype": "text/x-python",
   "name": "python",
   "nbconvert_exporter": "python",
   "pygments_lexer": "ipython3",
   "version": "3.10.13"
  },
  "papermill": {
   "default_parameters": {},
   "duration": 150.274375,
   "end_time": "2024-04-30T07:24:14.005340",
   "environment_variables": {},
   "exception": null,
   "input_path": "__notebook__.ipynb",
   "output_path": "__notebook__.ipynb",
   "parameters": {},
   "start_time": "2024-04-30T07:21:43.730965",
   "version": "2.5.0"
  }
 },
 "nbformat": 4,
 "nbformat_minor": 5
}
